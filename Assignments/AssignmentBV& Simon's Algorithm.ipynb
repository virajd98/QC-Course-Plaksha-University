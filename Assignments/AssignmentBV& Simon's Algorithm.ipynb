{
 "cells": [
  {
   "cell_type": "markdown",
   "metadata": {},
   "source": [
    "# Assignment 4: Lab Exercise\n",
    "\n",
    "We'll study and implement two quantum algorithms through this assignment"
   ]
  },
  {
   "cell_type": "markdown",
   "metadata": {},
   "source": [
    "---"
   ]
  },
  {
   "cell_type": "markdown",
   "metadata": {},
   "source": [
    "## **Bernstein-Vazirani Algorithm**\n"
   ]
  },
  {
   "cell_type": "markdown",
   "metadata": {},
   "source": [
    "#### Problem Statement:\n",
    "\n",
    "- Given an oracle function $f:\\{0,1\\}^n \\rightarrow \\{0,1\\}$, defined as $ f(\\mathbf{x}) = x \\cdot s $, find the secret bit string $s$."
   ]
  },
  {
   "cell_type": "markdown",
   "metadata": {},
   "source": [
    "**Note:**\n",
    "\n",
    "- $x \\cdot s$ represents the inner (dot) product of the bit strings modulo $2$.\n",
    "\n",
    "- The size of the bitstring '$s$' should be the same as the size of input $x$ for the operation $x.s$ to make sense.\n",
    "\n",
    "- The unitary operator representing the oracle now takes the form:  \n",
    "$$ U_f: \\ket{x}\\ket{y} \\mapsto \\ket{x}\\ket{y \\oplus ( x \\cdot s)} $$\n"
   ]
  },
  {
   "cell_type": "markdown",
   "metadata": {},
   "source": [
    "#### <font color='red'>Exercise:</font>\n",
    "\n",
    "Find $s$ for the function that provides the below outputs: (here $n=2$)\n",
    "\\begin{align*}\n",
    "\tf(00)&=0\\\\\n",
    "\tf(01)&=1\\\\\n",
    "\tf(10)&=1\\\\\n",
    "\tf(11)&=0\\\\\n",
    "\\end{align*}\n",
    "\n",
    "Example: Say $x=10$, from above $f(10)= 1= x.s$\n",
    "$$ 1= x.s= (x_1x_2).(s_1s_2)= (x_1s_1 + x_2s_2 ) mod 2= 1s_1 + 0s_2 (mod 2)= s_1$$\n",
    "Thus $s_1= 1$, similarly find $s_2$ to get the full string $s_1s_2$.\n",
    "\n",
    "Note that for this function you would require $2$ calls to the function to find $s$ completely."
   ]
  },
  {
   "cell_type": "markdown",
   "metadata": {},
   "source": [
    "      (your answer here)"
   ]
  },
  {
   "cell_type": "markdown",
   "metadata": {},
   "source": [
    "#### <font color='red'> **Exercise:** *Classical Complexity-* Clasically, how many oracle calls you need to make to find $s$ for  $f:\\{0,1\\}^n \\rightarrow \\{0,1\\}$, defined as $ f(\\mathbf{x}) = x \\cdot s $ ? </font>\n",
    "\n",
    "        (your answer here)"
   ]
  },
  {
   "cell_type": "markdown",
   "metadata": {},
   "source": [
    "---"
   ]
  },
  {
   "cell_type": "markdown",
   "metadata": {},
   "source": [
    "#### **Quantum Algorithm:** \n",
    "\n",
    "We construct a $n+1$ qubit quantum circuit.\n",
    "\n",
    "- Set the ($n+1$)th qubit to state $\\ket{-}$ by applying $X$ and $H$ gates.\n",
    "- Apply $H$ to first $n$ qubits.\n",
    "- Apply $U_f$. (*the oracle*: required to be given to the algorithm)\n",
    "- Apply $H$ to first $n$ qubits.\n",
    "- Measure the first $n$ qubits to obtain $s$."
   ]
  },
  {
   "cell_type": "markdown",
   "metadata": {},
   "source": [
    "This is exactly the same algorithm as the Deutsch-Jozsa which we covered in a previous lab material. Only the oracle will have a slighly modified form. "
   ]
  },
  {
   "cell_type": "markdown",
   "metadata": {},
   "source": [
    "![DeutschjoZSACircuit](Images/DJBV.png)"
   ]
  },
  {
   "cell_type": "markdown",
   "metadata": {},
   "source": [
    "#### <font color='red'>Exercise: Work out the stages of the algorithm looking at the circuit above and check whether you get the below intermediate states: </font>\n",
    "\n",
    "$$ \\ket{\\psi_0} = \\ket{0}^{\\otimes n} \\ket{0}$$\n",
    "\n",
    "$$ \\ket{\\psi_1} = \\ket{0}^{\\otimes n} \\ket{1}$$\n",
    "\n",
    "$$ \\ket{\\psi_2} = \\frac{1}{\\sqrt{2^n}}\\sum_{x=0}^{2^n-1} \\ket{x} \\otimes \\ket{-} $$\n",
    "\n",
    "$$ \\ket{\\psi_3} = \\bigg[ \\frac{1}{\\sqrt{2^n}} \\sum_{x=0}^{2^n-1} (-1)^{x.s} \\ket{x} \\bigg] \\otimes \\ket{-} $$"
   ]
  },
  {
   "cell_type": "markdown",
   "metadata": {},
   "source": [
    "        (your answer here)"
   ]
  },
  {
   "cell_type": "markdown",
   "metadata": {},
   "source": [
    "\n",
    "- Remember from the $PS(07)$ notebook, $ H^{\\otimes n} \\ket{x} = \\frac{1}{\\sqrt{2^n}} \\sum_{x=0}^{2^n-1} (-1)^{x \\cdot z} \\ket{z}. $\n",
    "\n",
    "- We also know that the $H^{\\otimes n}$ operator is its own inverse. Thus, $H^{\\otimes n}\\ket{a} = \\ket{b} \\Longleftrightarrow H^{\\otimes n}\\ket{b} = \\ket{a}$. \n",
    "\n",
    "So, the first $n$ qubit state of $\\ket{\\psi_3}$ is exactly the state obtained after applying $H^{\\otimes n}$ to $\\ket{s}$."
   ]
  },
  {
   "cell_type": "markdown",
   "metadata": {},
   "source": [
    "\n",
    "Now applying $H^{\\otimes n}$ to the input qubits (the first $n$ qubits), should provide us: (due to the idea discussed in the two bullet points above)\n",
    "\n",
    "$$ \\ket{\\psi_4} = \\ket{s} \\otimes \\ket{-} $$"
   ]
  },
  {
   "cell_type": "markdown",
   "metadata": {},
   "source": [
    "**Measurement of the first $n$ qubits will provide string $s$ with probability $1$.**"
   ]
  },
  {
   "cell_type": "markdown",
   "metadata": {},
   "source": [
    "*Note that the Bernstein-Vazirani problem was artificially created to demonstrate the advantage of a quantum algorithm over classical algorithms.*"
   ]
  },
  {
   "cell_type": "markdown",
   "metadata": {},
   "source": [
    " To implement the algorithm, we will first design some specific oracles and then use the algorithm to determine the string $s$ encoded in the oracle."
   ]
  },
  {
   "cell_type": "markdown",
   "metadata": {},
   "source": [
    "#### <font color= 'red'> Exercise: Design the oracles given below </font> \n",
    "(here n=4 , hence we would require a Quantum Circuit with 5 qubits)\n",
    "\n",
    "- Given $\\textbf{s} = 0110$, implement a function that returns an oracle for the function  $ f(\\mathbf{x}) = \\mathbf{x} \\cdot \\mathbf{s} $. *(oracle1, has been implemented for you below)*\n",
    "\n",
    "\n",
    "- Given $\\textbf{s} = 1001$, implement a function that returns an oracle for the function  $ f(\\mathbf{x}) = \\mathbf{x} \\cdot \\mathbf{s} $. *(oracle2, you need to do implement)*"
   ]
  },
  {
   "cell_type": "code",
   "execution_count": null,
   "metadata": {},
   "outputs": [],
   "source": [
    "import qiskit\n",
    "from qiskit import QuantumCircuit\n",
    "\n",
    "def oracle1():  #for s=0110\n",
    "    circuit = QuantumCircuit(5)\n",
    "    circuit.barrier()\n",
    "\n",
    "    circuit.cx(1, 4)\n",
    "    circuit.cx(2, 4)\n",
    "\n",
    "    circuit.barrier()\n",
    "    return circuit\n",
    "\n",
    "\n",
    "def oracle2(): #for s= 1001\n",
    "    circuit = QuantumCircuit(5)\n",
    "    circuit.barrier()\n",
    "\n",
    "    #your code here\n",
    "\n",
    "    circuit.barrier()\n",
    "    return circuit"
   ]
  },
  {
   "cell_type": "markdown",
   "metadata": {},
   "source": [
    "#### <font color= 'red'> Exercise: </font> \n",
    "From the implementation above, how do you generalize the oracle construction for any bitstring $s$, irrespective of its size.\n",
    "(you can either provide a function generalizing the oracle construction for any $s$ or you can write the implementation logic in words)\n",
    "\n",
    "        (your answer here)"
   ]
  },
  {
   "cell_type": "code",
   "execution_count": null,
   "metadata": {},
   "outputs": [],
   "source": [
    "#Chosing a random oracle for using it to test the BV algorithm implementation\n",
    "\n",
    "import random\n",
    "# Create the list of oracles\n",
    "oracle_list = [oracle1, oracle2]\n",
    "\n",
    "# Randomly select an index using randrange(4)\n",
    "random_index = random.randrange(2)\n",
    "\n",
    "print(random_index)\n",
    "\n",
    "# Call the selected oracle\n",
    "selected_oracle = oracle_list[random_index]\n",
    "\n",
    "selected_oracle()"
   ]
  },
  {
   "cell_type": "markdown",
   "metadata": {},
   "source": [
    "##### Given the oracle function `selected_oracle()` for $f$, we construct a circuit that implements the Bernstein-Vazirani algorithm described above to find out $s$."
   ]
  },
  {
   "cell_type": "markdown",
   "metadata": {},
   "source": [
    "*(the algorithm has been implemented for you, just look at the steps and check if it provides the desired string)*"
   ]
  },
  {
   "cell_type": "code",
   "execution_count": null,
   "metadata": {},
   "outputs": [],
   "source": [
    "from qiskit import QuantumCircuit, execute, Aer\n",
    "\n",
    "n=4 #(size of the string or the input 'x')\n",
    "\n",
    "#Initialization\n",
    "bv_circuit = QuantumCircuit(n+1, n)  #measurement only on the first n qubits, hence n classical registers would suffice\n",
    "bv_circuit.x(n)\n",
    "bv_circuit.h(range(n+1))\n",
    "\n",
    "#Apply oracle\n",
    "bv_circuit.compose(selected_oracle(), inplace=True)\n",
    "\n",
    "#Apply Hadamard to all qubits and measure the first n qubits\n",
    "bv_circuit.h(range(n))\n",
    "bv_circuit.measure(range(n), range(n))\n",
    "\n",
    "#Draw the circuit, if needed\n",
    "\n",
    "#bv_circuit.draw(output=\"mpl\")\n",
    "\n",
    "#extracting the results of measurement to determine 's'\n",
    "job = execute(bv_circuit, Aer.get_backend('qasm_simulator'),shots=10000)\n",
    "counts = job.result().get_counts()\n",
    "for outcome in counts:\n",
    "    reverse_outcome = ''\n",
    "    for i in outcome:\n",
    "        reverse_outcome = i + reverse_outcome\n",
    "    print(reverse_outcome,\"is observed\",counts[outcome],\"times\")"
   ]
  },
  {
   "cell_type": "markdown",
   "metadata": {},
   "source": [
    "Since a classical computation of $s$ requires __ function calls, we have obtained a “quantum speedup” of $n$ (a **polynomial speedup**). \n",
    "\n",
    "The procedure is analagous to Deutsch-Jozsa algorithm. The first set of Hadamards generates a superposition of inputs to the oracle $U_f$ which evaluates the function for all $2^{n}$ inputs (*quantum parallelism*), and then the second set of Hadamards destroys all the outputs apart from $s$, using *quantum interference*.\n"
   ]
  },
  {
   "cell_type": "markdown",
   "metadata": {},
   "source": [
    "---"
   ]
  },
  {
   "cell_type": "markdown",
   "metadata": {},
   "source": [
    "#### <font color= 'red'> Exercise: </font> \n",
    "\n",
    "- Given $\\textbf{s} = 0110101$, implement a function that returns an oracle for the function  $ f(\\mathbf{x}) = \\mathbf{x} \\cdot \\mathbf{s} $.\n",
    "- Implement the Berstein-Vazirani algorithm for the above oracle and check if you obtain the required string.\n",
    "- What is the circuit width and depth used for solving this specific problem?\n"
   ]
  },
  {
   "cell_type": "code",
   "execution_count": null,
   "metadata": {},
   "outputs": [],
   "source": [
    "#your codes here (write all in a single cell)"
   ]
  },
  {
   "cell_type": "markdown",
   "metadata": {},
   "source": [
    "        (your answer here)"
   ]
  },
  {
   "cell_type": "markdown",
   "metadata": {},
   "source": [
    "---"
   ]
  },
  {
   "cell_type": "markdown",
   "metadata": {},
   "source": [
    "## **Simon's Algorithm**"
   ]
  },
  {
   "cell_type": "markdown",
   "metadata": {},
   "source": [
    "#### Problem Statement:\n",
    "\n",
    "- Given an oracle function $f: \\{0,1\\}^{n} \\rightarrow \\{0,1\\}^{n}$, such that $f(x) = f(x\\oplus s)$, the goal is to determine the bitstring $s$ (where $s$ $\\in$ {0,1}$^{n}$ and $s\\ne 0^{n}$).\n"
   ]
  },
  {
   "cell_type": "markdown",
   "metadata": {},
   "source": [
    "**Note:**\n",
    "\n",
    "- Unlike the previous problem, here we don't know the functional form of $f$.\n",
    "- The secret string $s$ can be considered as a \"mask\" which hides the underlying encoding ($f$).\n",
    "- **As long as $s$ is not the zero bitstring, the function is two-to-one i.e. mapping two elements from the domain to one value from the range.**\n",
    "\n",
    "<i><font color= 'yellow'>**Simon's problem can also be defined as the problem of determining whether $f$ is two-to-one or one-to-one, in which case one needs to determine whether $s$ is a zero string or not.</i>**</font>\n",
    "\n",
    "#### <font color= 'red'> Exercise: </font> \n",
    "\n",
    "- For two inputs $x_1$ and $x_2$ for which $f(x_1) = f(x_2)$, show that $x_1⊕x_2$ yields the secret string $s$, given that the function $f$ satisfies the property $f(x)=f(x\\oplus s)$.\n",
    "- How do you approach the Simon's problem classically? What is the classical complexity for the Simon's problem? (look at the worst-case scenario)"
   ]
  },
  {
   "cell_type": "markdown",
   "metadata": {},
   "source": [
    "        (your answer here)"
   ]
  },
  {
   "cell_type": "markdown",
   "metadata": {},
   "source": [
    "---"
   ]
  },
  {
   "cell_type": "markdown",
   "metadata": {},
   "source": [
    "##### **Optional**\n",
    " \n",
    "Have you heard of the Birthday problem?\n",
    "\n",
    "- In a set of $n$ randomly chosen people, what should be the value of $n$ such that the probability of at least two people sharing a birthday exceeds 50%?\n",
    "\n",
    "You can read more about the Birthday problem [here](https://betterexplained.com/articles/understanding-the-birthday-paradox/). Can you relate it to the classical way of solving the Simon's problem above?"
   ]
  },
  {
   "cell_type": "markdown",
   "metadata": {},
   "source": [
    "---"
   ]
  },
  {
   "cell_type": "markdown",
   "metadata": {},
   "source": [
    "#### **Quantum Algorithm:**\n",
    "\n"
   ]
  },
  {
   "cell_type": "markdown",
   "metadata": {},
   "source": [
    "We construct a circuit with two sets of quantum registers, each register contains $n$ qubits <br>\n",
    "\n",
    "*   Apply $H$ gates to all the qubits in the **first** register set\n",
    "*   Apply the oracle function to the full circuit\n",
    "*   Measure the second register\n",
    "*   Apply $H$ gates to all the qubits in the first register\n",
    "*   Measure the first register and record the $n$-bit string as your sample for $y$\n",
    "*   Repeat the above steps until you get $n-1$ distinct strings $y$\n",
    "*   Construct a set of linear equations using the bitstrings $y$ and solve for $s$"
   ]
  },
  {
   "cell_type": "markdown",
   "metadata": {},
   "source": [
    "![SimonCircuit](Images/SimonCirc.png)"
   ]
  },
  {
   "cell_type": "markdown",
   "metadata": {},
   "source": [
    "#### Let's work out the stages of the algorithm looking at the circuit above:"
   ]
  },
  {
   "cell_type": "markdown",
   "metadata": {},
   "source": [
    "The oracle is defined as follows:\n",
    "$$ U_f(\\ket{x}\\ket{y}) = \\ket{x} \\ket{f(x) \\oplus y}$$"
   ]
  },
  {
   "cell_type": "markdown",
   "metadata": {},
   "source": [
    "From the figure,\n",
    "\n",
    "- Start with the initial state |0⟩$^{\\otimes n}$ in both registers. We need two sets of registers each with $n$ qubits, where $n$ represents the number of input bits $f$ takes:\n",
    "\n",
    "$$ |{\\psi_1}⟩ = |{0}⟩^{\\otimes n} |{0}⟩^{\\otimes n}$$\n",
    "\n",
    "- Hadamard to first register set results in:\n",
    "$$ |{\\psi_2}⟩ = \\frac{1}{\\sqrt{2^{n}}}\\sum_{x ∈ \\left\\{0,1\\right\\}^{n}}|x⟩ |0⟩^{\\otimes n} $$\n",
    "\n",
    "- Action of oracle function $U_{f}$. As the output of $U_{f}$, the first register remains unchanged, but the second register will have $\\ket{f(x) \\oplus 0}$  (as per the definition of $U_f$ given above)\n",
    "\n",
    "$$ |{\\psi_3}⟩ = \\frac{1}{\\sqrt{2^{n}}}\\sum_{x ∈ \\left\\{0,1\\right\\}^{n}}|x⟩ |𝑓(x)⟩ $$\n",
    "\n",
    "- Measure the second register to randomly observe one of the output values. Say the observed outcome is $f(z)$ for some $z \\in \\{0,1\\}^n$."
   ]
  },
  {
   "cell_type": "markdown",
   "metadata": {},
   "source": [
    "---"
   ]
  },
  {
   "cell_type": "markdown",
   "metadata": {},
   "source": [
    "#### **Case 1:** \n",
    "\n",
    "$f(x)$ is a **two-to-one function** (i.e. $s \\neq 0^n$), we get a superposition of the two input values $\\ket{z}$ and $\\ket{z \\oplus s}$ that can produce the observed output $f(z)$ in the second register: Thus, \n",
    "\n",
    "$$ |{\\psi_4}⟩ = \\frac{1}{\\sqrt{2}}(\\ket{z}+\\ket{z\\oplus s})\\ket{f(z)} $$\n",
    "\n",
    "##### Recalling, $ H^{\\otimes n}\\ket{z} =  \\frac{1}{\\sqrt{2^n}} \\sum_{y \\in \\{0,1\\}^n} (-1)^{z \\cdot y}\\ket{y} $\n",
    "\n",
    "- Applying Hadamard transform only to the **first register**.\n",
    "\n",
    "$$\n",
    "|{\\psi_5}⟩ = \\frac{1}{\\sqrt{2^{n+1}}}\\left[\\sum_{y ∈ \\left\\{0,1\\right\\}^{n}}[(-1)^{z \\cdot y}+(-1)^{(z\\oplus s) \\cdot y}]\\ket{y}\\right] \\ket{f(z)}  \n",
    "$$\n",
    "\n",
    "- We now measure the first register. "
   ]
  },
  {
   "cell_type": "markdown",
   "metadata": {},
   "source": [
    "---"
   ]
  },
  {
   "cell_type": "markdown",
   "metadata": {},
   "source": [
    "##### <font color= 'red'> Exercise: </font> Check that when $(-1)^{z \\cdot y} \\neq (-1)^{(z\\oplus s) \\cdot y}$, the term $(-1)^{z \\cdot y}+(-1)^{(z\\oplus s) \\cdot y}$ is 0, and the probability of observing such $y$ is equal to 0.\n",
    "\n",
    "        (your answer here)\n",
    "---"
   ]
  },
  {
   "cell_type": "markdown",
   "metadata": {},
   "source": [
    "So for some $\\ket{y}$ to have nonzero probability of measurement (as some $y$ is definitely measured), the condition $ (-1)^{z \\cdot y} = (-1)^{(z\\oplus s) \\cdot y}$ should be satisfied.\n",
    "\n",
    "This implies, $${z \\cdot y} = {(z\\oplus s) \\cdot y}$$"
   ]
  },
  {
   "cell_type": "markdown",
   "metadata": {},
   "source": [
    "##### <font color= 'red'> Exercise: </font> Show that the above condition leads to $s \\cdot y = 0$.\n",
    "\n",
    "        (your answer here)\n",
    "\n",
    "---"
   ]
  },
  {
   "cell_type": "markdown",
   "metadata": {},
   "source": [
    "Now $s\\cdot y=0$,  which implies $(-1)^{z \\cdot y}+(-1)^{(z\\oplus s) \\cdot y} = \\pm 2$ and we have a factor of $2$ inside in the expression for $\\ket{\\psi_5}$. Thus, probability of observing $ y $ is  \n",
    "\n",
    "$$\\left (\\frac{-2}{\\sqrt{2^{n+1}}} \\right )^2 = \\frac{1}{2^{n-1}}$$ \n",
    "(which is a constant as $n$ is fixed)\n",
    "\n",
    "Hence any string $y$ that satisfies the property $s\\cdot y=0$ will be observed with equal probability and $y$ with the property $s\\cdot y=1 $ will not be observed. \n",
    "\n",
    "**From case $1$ we deduced that, we will always obtain a $y$ for which $s\\cdot y=0$.** \n",
    "\n"
   ]
  },
  {
   "cell_type": "markdown",
   "metadata": {},
   "source": [
    "---"
   ]
  },
  {
   "cell_type": "markdown",
   "metadata": {},
   "source": [
    "#### **Case 2:**\n",
    "\n",
    "If $s = 0^n$, i.e $f(x)$ is a **one-to-one function**, then we obtain, \n",
    "\n",
    "$$ \\ket{{\\psi_4}} =\\ket{z}\\ket{f(z)} $$\n",
    "\n",
    "- Applying Hadamard transform only to the **first register** we get:\n",
    "$$\n",
    "\\ket{{\\psi_4}} = \\frac{1}{\\sqrt{2^{n}}}\\sum_{y ∈ \\left\\{0,1\\right\\}^{n}}(-1)^{z \\cdot y}\\ket{y}\n",
    "$$\n",
    "Hence any one of the states $\\ket{y}$ is observed with **equal probability.**\n",
    "\n",
    "Since $s = 0^n$, $s.y=0$ for all $y$. \n",
    "\n",
    "**In this case by default $s.y=0$ for all $y$ observed**"
   ]
  },
  {
   "cell_type": "markdown",
   "metadata": {},
   "source": [
    "---"
   ]
  },
  {
   "cell_type": "markdown",
   "metadata": {},
   "source": [
    "#### Post-Processing\n",
    "*(this refers to extracting the required results from the quantum circuit results)*"
   ]
  },
  {
   "cell_type": "markdown",
   "metadata": {},
   "source": [
    "Irrespective of which case we get, we found out a string $ y $ that always satisfies $ s \\cdot y=0 $. \n",
    "\n",
    "Now, we make $n-1$ queries to the oracle. We get $n-1$ **linearly independent** strings \\{$y^1,...,y^{n-1}$\\} so that we get a system of $n-1$ equations in $n$ unknowns in modulo $2$ satisfying,\n",
    "\n",
    "$ y^1 \\cdot s=0, y^2 \\cdot s=0, y^3 \\cdot s=0 ,..., y^{n-1} \\cdot s=0 $"
   ]
  },
  {
   "cell_type": "markdown",
   "metadata": {},
   "source": [
    "---"
   ]
  },
  {
   "cell_type": "markdown",
   "metadata": {},
   "source": [
    "##### **Optional Read 2:**\n",
    "\n",
    "But some of the strings obtained could be same (thus linearly dependent). We can do a simple probability exercise,\n",
    "\n",
    "The probability that $n-1$ linearly independent strings are obtained in $n-1$ runs (or queries) is at least\n",
    "\n",
    "$$\n",
    "\\prod_{k=1}^{\\infty}1-\\left (\\frac{1}{2} \\right )^k = 0.288888... > 1/4\n",
    "$$\n",
    "\n",
    "So if you repeat whole process $4m$ times then the probability $P_M$ of finding a linearly dependent set:\n",
    "\n",
    "$$\n",
    "P_M < (1-(1/4))^{4m} < \\epsilon.\n",
    "$$\n",
    "\n",
    "Hence for any $\\epsilon > 0$, by an appropriate choice of $m$ Simon's Algorithm can solve the problem making $O(n)$ queries with error probability of at most $\\epsilon$."
   ]
  },
  {
   "cell_type": "markdown",
   "metadata": {},
   "source": [
    "---"
   ]
  },
  {
   "cell_type": "markdown",
   "metadata": {},
   "source": [
    "##### <font color= 'red'> Exercise: </font>\n",
    "\n",
    "The oracle function `simon_oracle()` which implements $f(x)=f(x \\oplus s)$ where $s$ is a 3-bit string, is given to you. Complete the function `simon` that implements the Simon's Algorithm. Note that each run of Simon's algorithm returns a single bitstring, $y$.\n",
    "\n",
    "You are also provided with the code which calls `simon` until $n-1$ linearly independent bistrings $y$ are obtained."
   ]
  },
  {
   "cell_type": "code",
   "execution_count": null,
   "metadata": {},
   "outputs": [],
   "source": [
    "## This oracle function was taken as it is from qworld resources. \n",
    "\n",
    "def simon_oracle():\n",
    "    qreg1 = QuantumRegister(3, \"register_1\")\n",
    "    qreg2 = QuantumRegister(3, \"register_2\")\n",
    "    creg = ClassicalRegister(3)\n",
    "\n",
    "    simon_circuit = QuantumCircuit(qreg1, qreg2, creg)\n",
    "\n",
    "    #map 000 and 010 to 000\n",
    "    #Do nothing\n",
    "\n",
    "    #map 111 to 100\n",
    "    simon_circuit.mcx([0,1,2],5) \n",
    "    simon_circuit.barrier()\n",
    "\n",
    "    #map 101 to 100\n",
    "    simon_circuit.x(1)\n",
    "    simon_circuit.mcx([0,1,2],5)\n",
    "    simon_circuit.x(1)\n",
    "    simon_circuit.barrier()\n",
    "\n",
    "    #map 110 to 110\n",
    "    simon_circuit.x(0)\n",
    "    simon_circuit.mcx([0,1,2],4)\n",
    "    simon_circuit.mcx([0,1,2],5)\n",
    "    simon_circuit.x(0)\n",
    "    simon_circuit.barrier()\n",
    "\n",
    "    #map 100 to 110\n",
    "    simon_circuit.x(0)\n",
    "    simon_circuit.x(1)\n",
    "    simon_circuit.mcx([0,1,2],4)\n",
    "    simon_circuit.mcx([0,1,2],5)\n",
    "    simon_circuit.x(0)\n",
    "    simon_circuit.x(1)\n",
    "    simon_circuit.barrier()    \n",
    "    \n",
    "    #map 001 to 010\n",
    "    simon_circuit.x(1)\n",
    "    simon_circuit.x(2)\n",
    "    simon_circuit.mcx([0,1,2],4)\n",
    "    simon_circuit.x(1)\n",
    "    simon_circuit.x(2)\n",
    "    simon_circuit.barrier()\n",
    "    \n",
    "    #map 011 to 010\n",
    "    simon_circuit.x(2)\n",
    "    simon_circuit.mcx([0,1,2],4)\n",
    "    simon_circuit.x(2)\n",
    "    return simon_circuit\n"
   ]
  },
  {
   "cell_type": "code",
   "execution_count": null,
   "metadata": {},
   "outputs": [],
   "source": [
    "from qiskit import QuantumCircuit, execute, Aer, QuantumRegister, ClassicalRegister\n",
    "\n",
    "#Implementing Simon's algorithm \n",
    "\n",
    "def simon(n):  #n is the length of 's' (or the length of input to the function 'x')\n",
    "    # Define the set of registers\n",
    "    qreg1 = QuantumRegister(n, \"register_1\")\n",
    "    qreg2 = QuantumRegister(n, \"register_2\")\n",
    "    creg = ClassicalRegister(n)\n",
    "\n",
    "    # Define the quantum Circuit\n",
    "    simon_circuit = QuantumCircuit(qreg1, qreg2, creg)\n",
    "\n",
    "    # Apply Hadamard to the first set of register\n",
    "\n",
    "\n",
    "    # Apply the simon_oracle function\n",
    "\n",
    "\n",
    "    # Apply Hadamard to the first set register\n",
    "\n",
    "\n",
    "    # Measure the first register\n",
    "\n",
    "\n",
    "    job = execute(simon_circuit, Aer.get_backend('qasm_simulator'),shots=1)\n",
    "    counts = job.result().get_counts() #Note that counts is a dictionary\n",
    "\n",
    "    #Since the number of shots is 1, there is only a single key and we return it\n",
    "    return list(counts.keys())[0]\n",
    "\n",
    "# n=    (chose n appropriately and uncomment)\n",
    "y_list = []\n",
    "iter = 1\n",
    "while(len(y_list)) < n-1:  # while loop till we get (n-1) linearly independent strings\n",
    "    y = simon(n)\n",
    "    if y!='000' and y not in y_list: #Omit 000 string and omit if y already exists in the list\n",
    "        y_list.append(y) #we get the key and append it to our list\n",
    "    iter+=1\n",
    "print(y_list)\n",
    "print(f\"{iter} iterations were required to obtain the list containing (n-1) linearly independent y's\") "
   ]
  },
  {
   "cell_type": "markdown",
   "metadata": {},
   "source": [
    "**Post-Processing:**\n",
    "\n",
    "\n",
    "After obtaining the list of bitstrings $y$ from the computation above, find the hidden bitstring $s$ from the output by solving the linear systems of equations ($s.y=0$)\n",
    "\n",
    "When solving for $s$, you'll get two solutions. One solution is $s$ = |0⟩$^{\\otimes n}$ which trivially satisfies $s.y=0$, discard this solution and keep the other one as the provided $f$ is **two-to-one** and has a non-trivial $s$."
   ]
  },
  {
   "cell_type": "markdown",
   "metadata": {},
   "source": [
    "        (your answer here)"
   ]
  },
  {
   "cell_type": "markdown",
   "metadata": {},
   "source": [
    "---"
   ]
  },
  {
   "cell_type": "markdown",
   "metadata": {},
   "source": [
    "### References\n",
    "\n",
    "\n",
    "- QWorld resources available at https://gitlab.com/qworld/qeducation/qbook101\n",
    "- Nielsen, M. A., & Chuang, I. L. (2010). Quantum Computation and Quantum Information: 10th Anniversary Edition. Cambridge: Cambridge University Press.\n",
    "- Qiskit API reference found at https://docs.quantum.ibm.com/api/qiskit\n",
    "- Birthday Paradox reference: https://betterexplained.com/articles/understanding-the-birthday-paradox/"
   ]
  }
 ],
 "metadata": {
  "kernelspec": {
   "display_name": "qcvenv",
   "language": "python",
   "name": "python3"
  },
  "language_info": {
   "codemirror_mode": {
    "name": "ipython",
    "version": 3
   },
   "file_extension": ".py",
   "mimetype": "text/x-python",
   "name": "python",
   "nbconvert_exporter": "python",
   "pygments_lexer": "ipython3",
   "version": "3.11.5"
  }
 },
 "nbformat": 4,
 "nbformat_minor": 2
}
