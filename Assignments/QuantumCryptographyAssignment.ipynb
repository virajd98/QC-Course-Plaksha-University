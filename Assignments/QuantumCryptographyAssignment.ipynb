{
 "cells": [
  {
   "cell_type": "markdown",
   "metadata": {},
   "source": [
    "# Quantum One-Time Pad: Assignment"
   ]
  },
  {
   "cell_type": "markdown",
   "metadata": {},
   "source": [
    "*<font color='red'> Read everything carefully before starting to solve questions provided at the end of the notebook </font>*\n",
    "\n",
    "**Some Hints:**\n",
    "- Its always useful to display the quantum circuit and check whether the gates are applied as desired. Also mentally (or on a pen and paper) check the gate operations you apply.\n",
    "- Square of Hadamard, Z and X gates is equal to Identity."
   ]
  },
  {
   "cell_type": "markdown",
   "metadata": {},
   "source": [
    "#### <font color='yellow'> Cryptography is a technique used for secure communication between two parties, where unauthorized users and malicious attackers can be present.</font>\n",
    "\n",
    "In cryptography, there are majorly two processes:\n",
    "- **Encryption** \n",
    "    - The process of converting essential information / message into unreadble encrypted form (also called *cipher text*) using keys (additional data string).\n",
    "    - It is performed at the sender's end.\n",
    " \n",
    "\n",
    "- **Decryption** \n",
    "    - The process of decoding the message by converting encrypted message to original message using the same key (*symmetric key cryptography*) or different key (*assymmetric key cryptography*).\n",
    "    - It is performed at the receiver's end.\n",
    "\n",
    " You can read [here](https://www.geeksforgeeks.org/classical-cryptography-and-quantum-cryptography/?ref=rp) and watch [this](https://www.khanacademy.org/computing/computer-science/cryptography/crypt/v/intro-to-cryptography) for a little more explanation on Cryptography.\n",
    "\n"
   ]
  },
  {
   "cell_type": "markdown",
   "metadata": {},
   "source": [
    "## Classical One-Time Pad"
   ]
  },
  {
   "cell_type": "markdown",
   "metadata": {},
   "source": [
    "One-Time Pad is an example for Symmetric key Cryptography, as the same key is used for both encryption and decryption. The well-known RSA encryption you might have heard of is an example for Assymmetric key Cryptography.\n",
    "\n",
    "In **One-Time Pad** each bit of the message is encrypted using the corresponding bit from a randomly generated key (one-time pad) using modular addition. \n",
    "\n",
    "Following are the necessary requirements to make the encrypted text **impossible** to decrypt:\n",
    "\n",
    "1. The key must be at least as long as the message.\n",
    "2. The key must be random and independent of the message, entirely sampled from a non-algorithmic source such as a hardware random number generator. \n",
    "3. The key must never be reused in whole or in part.\n",
    "4. The key must be kept completely secret by the communicating parties.\n",
    "\n",
    "<font color= 'red'> **Let's understand one-time pad with the help of an example:** </font>\n",
    "\n",
    "* Anshu wants to share a message with Bharat. She converts the message to binary form (say using [ASCII Table](https://www.ascii-code.com/))\n",
    "* To encrypt the mesage, she tosses a fair coin, and based on the result she generates a key of 0's (Head) and 1's (Tail). The key is as long as the message and thus she has to toss the coin `len(message)` times to generate the full key.\n",
    "* She does a bitwise `xor` operation between the message bits and key bits. The result is an encrypted message.\n",
    "* Bharat uses the **same key** to apply `xor` on the encrypted message received and if this has not been tampered he'll get the original message back. \n",
    "\n",
    "The idea here is straightforward: message $\\oplus$ key $\\oplus$ key = message"
   ]
  },
  {
   "cell_type": "markdown",
   "metadata": {},
   "source": [
    "### Example:\n",
    "Anshu wants to send Bharat a message that contains information about their next meetup, say 10PM. She encrypts this message using one-time pad. \n",
    "\n",
    "She converts the time to its binary representation using ASCII character encoding. \"10PM\" is '00110001001100000101000001001101' in binary. Anshu needs a random key of the same string length (32 bits) to encrypt her message. She uses a random number generator to generate this key and does a bitwise `xor` operation between the binary message and the key to get the encrypted message which is then decoded by Bharat using the same key. "
   ]
  },
  {
   "cell_type": "code",
   "execution_count": 1,
   "metadata": {},
   "outputs": [
    {
     "name": "stdout",
     "output_type": "stream",
     "text": [
      "809417820\n",
      "Message = 00110001001100000101000001001101\n",
      "Key = 00110000001111101011110001011100\n",
      "Ciphertext = 00000001000011101110110000010001\n",
      "Decrypted Message = 00000001000011101110110000010001\n",
      "Protocol is correct!\n"
     ]
    }
   ],
   "source": [
    "#Generating random key of the same length as the message\n",
    "\n",
    "from random import randrange\n",
    "lst=[]\n",
    "i=0\n",
    "\n",
    "while i<31:\n",
    "    lst.append(randrange(2))\n",
    "    i=i+1\n",
    "    \n",
    "key=int(''.join(map(str, lst)), 2) #converting key to binary format and then to the corresponding integer\n",
    "\n",
    "print(key)\n",
    "\n",
    "from random import randrange\n",
    "\n",
    "m= '00110001001100000101000001001101'   #message in binary\n",
    "\n",
    "message=int(m ,2) #convert message to integer to apply xor operation\n",
    "\n",
    "#Encryption\n",
    "\n",
    "encrypted_message=message^key #encrypt the message using generated random key by applying xor operator\n",
    "\n",
    "print('Message =', bin(message)[2:].zfill(32))\n",
    "print('Key =', bin(key)[2:].zfill(32))\n",
    "print('Ciphertext =', bin(encrypted_message)[2:].zfill(32))\n",
    "\n",
    "\n",
    "#Bharat then decrypts the encrypted text by applying the same key \n",
    "\n",
    "decrypted_message=encrypted_message^key\n",
    "print('Decrypted Message =', bin(encrypted_message)[2:].zfill(32))\n",
    "\n",
    "  \n",
    "if message == decrypted_message:  \n",
    "    print(\"Protocol is correct!\")  \n",
    "else:  \n",
    "    print(\"Protocol is incorrect!\")\n",
    "\n",
    "\n",
    "#if needed:\n",
    "##bin() converts the integer to binary\n",
    "#[2:] removes the initial \"0b\" that is added at the start of the binary string (string slicing)\n",
    "#zfill(n) adds back leading zeros so that length of string is equal to n"
   ]
  },
  {
   "cell_type": "markdown",
   "metadata": {},
   "source": [
    "Thus Bharat has successfully decoded his message."
   ]
  },
  {
   "cell_type": "markdown",
   "metadata": {},
   "source": [
    "## Quantum One-Time Pad"
   ]
  },
  {
   "cell_type": "markdown",
   "metadata": {},
   "source": [
    "Quantum One-Time Pad is the quantum version of classical One-Time Pad. \n",
    "\n",
    "Suppose Anshu wants to send a message to Bharat using qubits, such that Chaman cannot decrypt it.\n",
    "\n",
    "By using a randomly generated classical key, say $ k \\in\\{0,1\\} $, for encryption Anshu will apply $X$ gate to each of her qubit if $k=1$ and do nothing if $k=0$:\n",
    "$$\\ket{E} = X_k\\ket{M}$$\n",
    "where\n",
    "$$X\\ket{M} = \\ket{M \\oplus 1}$$\n",
    "\n",
    "To decrypt Bharat will use the same key and re-apply $X$ gate if $k=1$ and do nothing if $k=0$\n",
    "\n",
    "$$\\ket{M} = X_k\\ket{E}$$\n",
    "\n",
    "Note: $ \\ket{M}=$ Orginal message, $\\ket{E}=$ Encrypted message"
   ]
  },
  {
   "cell_type": "code",
   "execution_count": 2,
   "metadata": {},
   "outputs": [
    {
     "name": "stdout",
     "output_type": "stream",
     "text": [
      "Preshared Key between Anshu and Bharat: [1, 0, 0, 1, 1, 0, 1, 0]\n",
      "[1, 1, 0, 1, 0, 1, 0, 1]\n",
      "\n",
      "Message: [0, 0, 1, 1, 0, 0, 0, 1]\n",
      "Key: [1, 0, 0, 1, 1, 0, 1, 0]\n",
      "Encrypted message to be sent to Bharat:  [1, 0, 1, 0, 1, 0, 1, 1]\n",
      "\n",
      "Message decrypted by Bharat: [0, 0, 1, 1, 0, 0, 0, 1]\n",
      "\n",
      "Protocol is correct! Sent Message==Received Message\n"
     ]
    }
   ],
   "source": [
    "# Quantum One Time Pad in the standard basis $\\ket{0}, \\ket{1}$\n",
    "\n",
    "# Encryption\n",
    "\n",
    "from qiskit import QuantumRegister, ClassicalRegister, QuantumCircuit, execute, Aer\n",
    "from random import randrange\n",
    "\n",
    "# Enter your message as binaries in a list\n",
    "message = [0,0,1,1,0,0,0,1]  #say this is a 8-bit message Anshu wants to send to Bharat\n",
    "\n",
    "# create a quantum curcuit for Anshu's qubits.\n",
    "qregA = QuantumRegister(len(message)) \n",
    "cregA = ClassicalRegister(len(message)) \n",
    "mycircuitA = QuantumCircuit(qregA,cregA, name= 'Anshu')\n",
    "\n",
    "# apply x-gate to change initial states from 0 to 1, preparing the given message \n",
    "for m in range(len(message)):\n",
    "    if message[m]==1:\n",
    "        mycircuitA.x(qregA[m])\n",
    "\n",
    "# barrier for a better visualization\n",
    "mycircuitA.barrier()\n",
    "\n",
    "# create random key and apply x gates and encrypt message\n",
    "key=[] \n",
    "for i in range(len(message)):\n",
    "    a=randrange(2)\n",
    "    key.append(a)\n",
    "    if a==1:\n",
    "        mycircuitA.x(qregA[i])\n",
    "\n",
    "\n",
    "print('Preshared Key between Anshu and Bharat:', key)\n",
    "        \n",
    "mycircuitA.barrier()\n",
    "mycircuitA.measure(qregA,cregA)\n",
    "mycircuitA.draw()\n",
    "\n",
    "# execute the circuit\n",
    "job = execute(mycircuitA,Aer.get_backend('qasm_simulator'))\n",
    "encryption = job.result().get_counts(mycircuitA)\n",
    "\n",
    "# this converts the measurement result string (encryption) into a list\n",
    "encrypted_message=list(map(int,[*list(encryption.keys())[0]]))\n",
    "print(encrypted_message)\n",
    "\n",
    "# we reverse the list since the quantum simulator considers our MSB as LSB\n",
    "encrypted_message.reverse()\n",
    "print()\n",
    "print(\"Message:\", message)\n",
    "print(\"Key:\", key)\n",
    "print(\"Encrypted message to be sent to Bharat: \", encrypted_message)\n",
    "print() \n",
    "\n",
    "# Decryption\n",
    "\n",
    "\n",
    "# create a quantum curcuit for Bharat's qubits.\n",
    "\n",
    "qregB = QuantumRegister(len(message)) \n",
    "cregB = ClassicalRegister(len(message)) \n",
    "mycircuitB = QuantumCircuit(qregB,cregB, name= 'Bharat')\n",
    "\n",
    "\n",
    "# apply x-gate to change initial states from 0 to 1, preparing the state with encrypted message\n",
    "for m in range(len(encrypted_message)):\n",
    "    if encrypted_message[m]==1:\n",
    "        mycircuitB.x(qregB[m])\n",
    "        \n",
    "\n",
    "# use the same random key and apply x gates to decrypt message\n",
    "for i in range(len(key)):\n",
    "    if key[i]==1:\n",
    "        mycircuitB.x(qregB[i])\n",
    "          \n",
    "\n",
    "# Perform Measurement\n",
    "mycircuitB.barrier()\n",
    "mycircuitB.measure(qregB,cregB)\n",
    "\n",
    "mycircuitB.draw()\n",
    "\n",
    "\n",
    "# execute the circuit\n",
    "job = execute(mycircuitB,Aer.get_backend('qasm_simulator'))\n",
    "decryption = job.result().get_counts(mycircuitB)\n",
    "\n",
    "# this converts the measurement result string (decryption) into a list\n",
    "decrypted_message=list(map(int,[*list(decryption.keys())[0]]))\n",
    "\n",
    "# we reverse the list since the quantum simulator considers our MSB as LSB\n",
    "decrypted_message.reverse()\n",
    "print(\"Message decrypted by Bharat:\", decrypted_message)\n",
    "print()  \n",
    "  \n",
    "if message == decrypted_message:  \n",
    "    print(\"Protocol is correct! Sent Message==Received Message\")  \n",
    "else:  \n",
    "    print(\"Protocol is incorrect!\")"
   ]
  },
  {
   "cell_type": "markdown",
   "metadata": {},
   "source": [
    "So you see that this works. But we haven't really used the power of 'quantum' as such here. The above code does exactly what the classical one-time pad does, but using quantum circuits. \n",
    "\n",
    "**Note: We worked with $Z-basis$ for the encryption/decryption above.** \n",
    " Some points that might help you realize this further:\n",
    "- We use $\\ket{0}$ and $\\ket{1}$ as computational basis states. These vectors are eigenvectors of the $Z$ gate (or Pauli Z matrix). (Check!!)\n",
    "    - In this basis $X$ gate is the $NOT$ gate. (it flips $\\ket{0}$ to $\\ket{1}$ and vice-versa)\n",
    "- You can have other basis states, like $\\ket{+}$ and $\\ket{-}$. You can get to this basis by applying Hadamard on computational basis states.\n",
    "    - In this basis ___ is the $NOT$ gate. (it flips $\\ket{+}$ to $\\ket{-}$ and vice-versa) (<font color='red'>fill in the blank </font>)"
   ]
  },
  {
   "cell_type": "markdown",
   "metadata": {},
   "source": [
    "\n",
    "<font style=\"color:darkorange;font-weight:bold;\"> <h2>Main Task 1</h2> </font>\n",
    "- #### Using Hadamard Basis and replacing $\\ket{0}$ with $\\ket{+}$ and $\\ket{1}$ with $\\ket{-}$, encrypt the same message with $X$ gates and verify that the protocol is incorrect.\n",
    "- #### Why do you think that using X gates for encryption in Hadamard Basis won't work?"
   ]
  },
  {
   "cell_type": "markdown",
   "metadata": {},
   "source": [
    "<font style=\"color:darkorange;font-weight:bold;\"> <h2>Main Task 2</h2> </font>\n",
    "\n",
    "#### Develop a complete Quantum One Time Pad and ensure that your protocol is correct. Here is the protocol to implement this: \n",
    "\n",
    "- <b>$X$</b> gate is used to encrypt in Standard basis.\n",
    "\n",
    "- <b>$Z$</b> gate is used to encrypt in Hadamard basis.\n",
    "\n",
    "- By using a classical key (generated randomly), Anshu will apply both or either of gates (X and Z) randomly to her qubit. Before applying $Z$ gate as the NOT operator you need to make sure that the qubit to which it is applied is in the Hadamard basis.\n",
    "\n",
    "- For encryption,\n",
    "\n",
    "$$\\ket{E}= X_{k1}Z_{k2}\\ket{M}$$\n",
    "where, \n",
    "$$X\\ket{M} =  \\ket{M \\oplus 1}$$\n",
    "\n",
    "$$Z\\ket{M} =  (-1)^{M}\\ket{M}$$\n",
    "\n",
    "- For decryption,\n",
    "\n",
    "$$\\ket{M} = Z_{k2}X_{k1}\\ket{E}=Z_{k2}X_{k1}(X_{k1}Z_{k2}\\ket{M})=\\ket{M}$$\n",
    "\n",
    "where $X_{k1}X_{k1}=I$ and $Z_{k2}Z_{k2}=I$.  (Square of Pauli matrices is Identity)\n",
    "\n",
    "- You can see here that for the complete quantum one-time pad, Anshu will need to use <b>two bits</b> of the key <b>k<sub>1</sub>k<sub>2</sub></b> to encode one quantum state $ \\ket{Ψ} $: one bit for X-gate and the second for Z-gate. So, the **key must be twice as long as the message** unlike the example shown above.\n"
   ]
  },
  {
   "cell_type": "markdown",
   "metadata": {},
   "source": []
  },
  {
   "cell_type": "markdown",
   "metadata": {},
   "source": [
    "### The below notes will help in $Main Task 2$"
   ]
  },
  {
   "cell_type": "markdown",
   "metadata": {},
   "source": [
    "As you can see from the result of $Main Task 1$, when Anshu switched to Hadamard basis, encoding with $X$ gate didn't work any more. The solution was to use $Z$ gate, which is a bit-flip operation for Hadamard basis. Ok, so we figured out what flips bits in Hadamard basis.\n",
    "\n",
    "- In the example code above, notice that we had performed a measurement on Anshu's circuit to get the encrypted message which was used by Bharat for decryption (given that he knows the key). But if Hadamard basis is used (and also $Z$ gate for flipping according to the generated key), measurement results result in multiple encryptions (as you saw in Main Task 1) because of the superpositions. \n",
    "\n",
    "(Reason:  Measurement results in qiskit is always with respect to the computational basis states ($\\ket{0}$ and $\\ket{1}$). That's why you got multiple encryptions in $Task 1$ and thus decryption was not possible)\n",
    "\n",
    "So to tackle it we won't do a measurement on Anshu's side and send the final quantum state (obtained after Anshu's operations to qubits, some of which are in Hadamard and some in computational basis) to Bharat directly using the function defined below."
   ]
  },
  {
   "cell_type": "markdown",
   "metadata": {},
   "source": []
  },
  {
   "cell_type": "code",
   "execution_count": 8,
   "metadata": {},
   "outputs": [],
   "source": [
    "# DO NOT MODIFY THE FUNCTION BELOW (unless you understand every line of it). You are not expected to understand this code, just use it.\n",
    "\n",
    "from qiskit import QuantumRegister, ClassicalRegister, QuantumCircuit, execute, Aer\n",
    "from random import randrange\n",
    "\n",
    "#Source for SendState: awards/teach_me_qiskit_2018/cryptography/Cryptography.ipynb (the code taken from here has been modified a bit for this assignment, to incorporate Z gate)\n",
    "\n",
    "def SendState(qc1, qc2, qc1_name):\n",
    "    ''' This function takes the output of a circuit qc1 (made up only of x,\n",
    "        h and z gates and initializes another circuit qc2 with the same state\n",
    "    ''' \n",
    "    \n",
    "    # Quantum state is retrieved from qasm code of qc1\n",
    "    qs = qc1.qasm().split(sep=';')[4:-1]\n",
    "\n",
    "    # Process the code to get the instructions\n",
    "    for index, instruction in enumerate(qs):\n",
    "        qs[index] = instruction.lstrip()\n",
    "\n",
    "    for instruction in qs:\n",
    "        if instruction[0] == 'x':\n",
    "            if instruction[5] == '[':\n",
    "                old_qr = int(instruction[6:-1])\n",
    "            else:\n",
    "                old_qr = int(instruction[5:-1])\n",
    "            qc2.x(qreg[old_qr])\n",
    "        elif instruction[0] == 'h':\n",
    "            if instruction[5] == '[':\n",
    "                old_qr = int(instruction[6:-1])\n",
    "            else:\n",
    "                old_qr = int(instruction[5:-1])\n",
    "            qc2.h(qreg[old_qr])\n",
    "        elif instruction[0] == 'z':\n",
    "            if instruction[5] == '[':\n",
    "                old_qr = int(instruction[6:-1])\n",
    "            else:\n",
    "                old_qr = int(instruction[5:-1])\n",
    "            qc2.z(qreg[old_qr])\n",
    "        elif instruction[0] == 'm': # exclude measuring:\n",
    "            pass\n",
    "        # else:\n",
    "        #     raise Exception('Unable to parse instruction')  # I commented this from the original code (there's a specific reason, do you see what\")"
   ]
  },
  {
   "cell_type": "markdown",
   "metadata": {},
   "source": [
    "Once Bharat receives Anshu's encryption, given that he has the right key he would be able to decrypt the message as provided in the protocol in $MainTask2$"
   ]
  },
  {
   "cell_type": "markdown",
   "metadata": {},
   "source": [
    "#### An example to show how `SendState()` function works"
   ]
  },
  {
   "cell_type": "code",
   "execution_count": 15,
   "metadata": {},
   "outputs": [
    {
     "data": {
      "text/html": [
       "<pre style=\"word-wrap: normal;white-space: pre;background: #fff0;line-height: 1.1;font-family: &quot;Courier New&quot;,Courier,monospace\">       ┌───┐\n",
       "q21_0: ┤ H ├\n",
       "       ├───┤\n",
       "q21_1: ┤ X ├\n",
       "       └───┘\n",
       "c14: 2/═════\n",
       "            </pre>"
      ],
      "text/plain": [
       "       ┌───┐\n",
       "q21_0: ┤ H ├\n",
       "       ├───┤\n",
       "q21_1: ┤ X ├\n",
       "       └───┘\n",
       "c14: 2/═════\n",
       "            "
      ]
     },
     "execution_count": 15,
     "metadata": {},
     "output_type": "execute_result"
    }
   ],
   "source": [
    "# Defining the first circuit\n",
    "\n",
    "qreg= QuantumRegister(2)\n",
    "creg= ClassicalRegister(2)\n",
    "circuit1 = QuantumCircuit(qreg, creg, name='1')\n",
    "\n",
    "#Doing operations on circuit1\n",
    "\n",
    "circuit1.h(qreg[0])\n",
    "circuit1.x(qreg[1])\n",
    "\n",
    "# Defining the first circuit\n",
    "circuit2 = QuantumCircuit(qreg, creg, name='2')\n",
    "\n",
    "SendState(circuit1, circuit2, '1') #the final state of circuit '1' is sent to the circuit '2'\n",
    "\n",
    "circuit2.draw()   #notice how the operations got transferred from circuit 1 to circuit 2 after executing this line"
   ]
  },
  {
   "cell_type": "markdown",
   "metadata": {},
   "source": [
    "<h3> Conclusion </h3>\n",
    "\n",
    "We can see that One-time Pad protocol can be implemented in quantum communication. Quantum one-time pad protocol is correct and secure, even if we assume that our eavesdropper has powerful quantum computer with infinite quantum memory and can listen the channel.\n",
    "\n",
    "**Drawbacks:**\n",
    "<ul>\n",
    "    <li> The key we are using is classical, which means that it is not truly random.\n",
    "<li> The key is an (overly) important resource. For quantum One-Time Pad, we need a key that is twice as long as the message, and Anshu and Bharat will be unable to communicate once they run out of keys.\n",
    "</ul>\n",
    "\n",
    "<b>These two problems are addressed by Quantum Key Distribution Techniques, which we'll be discussing later.</b>"
   ]
  },
  {
   "cell_type": "markdown",
   "metadata": {},
   "source": [
    "## References\n",
    "\n",
    "\n",
    "- A major part of the code for `SendState()` function has been taken from [here](https://github.com/CQCL/qiskit-tutorial/tree/master)\n",
    "- QWorld resources on [Quantum Cryptography](https://gitlab.com/qworld/qeducation/qbook101)\n",
    "- Some notes and intext reading suggestions from [here](https://www.geeksforgeeks.org/classical-cryptography-and-quantum-cryptography/?ref=rp )"
   ]
  },
  {
   "cell_type": "markdown",
   "metadata": {},
   "source": []
  }
 ],
 "metadata": {
  "kernelspec": {
   "display_name": "qcvenv",
   "language": "python",
   "name": "qcvenv"
  },
  "language_info": {
   "codemirror_mode": {
    "name": "ipython",
    "version": 3
   },
   "file_extension": ".py",
   "mimetype": "text/x-python",
   "name": "python",
   "nbconvert_exporter": "python",
   "pygments_lexer": "ipython3",
   "version": "3.11.5"
  }
 },
 "nbformat": 4,
 "nbformat_minor": 2
}
