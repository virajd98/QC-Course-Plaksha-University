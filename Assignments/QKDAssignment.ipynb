{
 "cells": [
  {
   "cell_type": "markdown",
   "metadata": {},
   "source": [
    "# Quantum Key Distribution: Assignment"
   ]
  },
  {
   "cell_type": "markdown",
   "metadata": {},
   "source": [
    " ### <font color='red'> Note: </font>\n",
    "- It would be useful to review the previous assignment to understand the context\n",
    "- You are allowed to change the noise level in the communication channel\n",
    "- It would be helpful to try out certain aspects in this notebook on a pen and paper\n"
   ]
  },
  {
   "cell_type": "markdown",
   "metadata": {},
   "source": [
    "In the previous assignment on Quantum Cryptography, we saw that the key was a very valuable commodity in secure communication. \n",
    "\n",
    "<font color='yellow'>**Quantum key distribution exploits the principles of quantum theory to establish a secret key between  two distant parties whose security is guaranteed by the laws of physics.**</font>\n",
    "\n",
    "- The **BB84 protocol** developed by Charles Bennett and Gilles Brassard in $1984$ is one of the first examples of a quantum key distribution protocol."
   ]
  },
  {
   "cell_type": "markdown",
   "metadata": {},
   "source": [
    "Two authorized parties, Anshu and Bharat, want to establish a secret key over a distance. To accomplish this task, they have access to two channels:\n",
    "\n",
    "- Quantum channel ($Q$) that allows Anshu and Bharat to send quantum signals (qubits).\n",
    "(An adversary can perform any operation on the information that is sent through this channel and hence it is insecure).\n",
    "- Classical channel ($C$) that Anshu and Bharat can use to send classical bits back and forth. \n",
    "\n",
    "![BB84](\\Images\\BB84.png)"
   ]
  },
  {
   "cell_type": "markdown",
   "metadata": {},
   "source": [
    "## BB84 Protocol (Noise-free version)"
   ]
  },
  {
   "cell_type": "markdown",
   "metadata": {},
   "source": [
    "### Stage $1$: Distributing Quantum States"
   ]
  },
  {
   "cell_type": "markdown",
   "metadata": {},
   "source": [
    "The key idea involved here (as was also seen in the previous assignment):\n",
    "\n",
    "***Measuring qubit with incorrect basis randomizes the outcome!***\n"
   ]
  },
  {
   "cell_type": "markdown",
   "metadata": {},
   "source": [
    "There are two bases that are most commonly used in QKD:\n",
    "\n",
    "> Orthogonal states $\\ket{0}$ and $\\ket{1}$ form a <b>Standard Basis</b>, also called the $Z$ basis.\n",
    "> Orthogonal states $\\ket{+}$ and $\\ket{-}$ form a <b>Hadamard Basis</b>, also called the $X$ basis."
   ]
  },
  {
   "cell_type": "markdown",
   "metadata": {},
   "source": [
    "#### Protocol for Stage 1:\n",
    "\n",
    "<b>Anshu</b>,\n",
    "\n",
    "- Creates a $n$ -bit long random bit string and initializes qubits accordingly.\n",
    "- Encodes qubits in a basis ($X$ or $Z$) chosen randomly (does nothing on the qubit if $Z$-basis is chosen, applies $H$-gate if $X$-basis is chosen).\n",
    "- Saves information about initial bit values and the corresponding basis she used to encode the bits.\n",
    "- Sends qubits to Bharat through the Quantum Channel.\n",
    "\n",
    "    \n",
    "**Bharat**,\n",
    "- Randomly and independently from Anshu, chooses a basis in which he will measure each received qubit.\n",
    "- Measures qubits in chosen basis ($X$ or $Z$) (does nothing on the qubit if $Z$-basis is chosen, applies $H$-gate if $X$-basis is chosen).\n",
    "- Saves information about the basis he used and the corresponding measurement results."
   ]
  },
  {
   "cell_type": "markdown",
   "metadata": {},
   "source": [
    "<font style=\"color:darkorange;font-weight:bold;\"> <h3>Task 1</h3> </font>Complete the code below to implement the stage 1 of the noise-free BB84 protocol for a $16$- bit long string"
   ]
  },
  {
   "cell_type": "code",
   "execution_count": 6,
   "metadata": {},
   "outputs": [],
   "source": [
    "# defining some necessary functions that can be used later\n",
    "\n",
    "from qiskit import QuantumRegister, ClassicalRegister, QuantumCircuit, execute, Aer\n",
    "from random import randrange\n",
    "\n",
    "def print_outcomes_in_reserve(counts): # takes a dictionary variable\n",
    "    for outcome in counts: \n",
    "        reverse_outcome = ''\n",
    "        for i in outcome: \n",
    "            reverse_outcome = i + reverse_outcome \n",
    "    return reverse_outcome\n",
    "\n",
    "#Source for SendState: awards/teach_me_qiskit_2018/cryptography/Cryptography.ipynb (slightly modified for this assignment)\n",
    "\n",
    "#this code has been modified to include circuits with any register names as opposed to the code in the previous assignment\n",
    "\n",
    "def SendState(qc1, qc2, qc1_name):\n",
    "    ''' This function takes the output of a circuit qc1 (made up only of x and \n",
    "        h gates and initializes another circuit qc2 with the same state\n",
    "    ''' \n",
    "    \n",
    "    # Quantum state is retrieved from qasm code of qc1\n",
    "    qs = qc1.qasm().split(sep=';')[4:-1]\n",
    "\n",
    "    # Process the code to get the instructions\n",
    "    for index, instruction in enumerate(qs):\n",
    "        qs[index] = instruction.lstrip()\n",
    "\n",
    "    for instruction in qs:\n",
    "        if instruction[0] == 'x':\n",
    "            if instruction[5] == '[':\n",
    "                old_qr = int(instruction[6:-1])\n",
    "            else:\n",
    "                old_qr = int(instruction[5:-1])\n",
    "            qc2.x(qc2.qregs[0][old_qr])\n",
    "        elif instruction[0] == 'h':\n",
    "            if instruction[5] == '[':\n",
    "                old_qr = int(instruction[6:-1])\n",
    "            else:\n",
    "                old_qr = int(instruction[5:-1])\n",
    "            qc2.h(qc2.qregs[0][old_qr])\n",
    "        elif instruction[0] == 'm': # exclude measuring:\n",
    "            pass\n",
    "        else:\n",
    "            raise Exception('Unable to parse instruction')"
   ]
  },
  {
   "cell_type": "code",
   "execution_count": null,
   "metadata": {},
   "outputs": [],
   "source": [
    "import qiskit\n",
    "from qiskit import *\n",
    "\n",
    "qreg = QuantumRegister(16) # quantum register with 16 qubits\n",
    "creg = ClassicalRegister(16) # classical register with 16 bits\n",
    "\n",
    "# Quantum circuit for Anshu's state\n",
    "anshu = QuantumCircuit(qreg, creg, name='anshu')\n",
    "\n",
    "send=[] #Initial bit string to send\n",
    "anshu_basis=[] # save information about encoding basis\n",
    "bharat_basis=[] # save information about decoding basis\n",
    "\n",
    "#Creating random 16-bit long string and store the values in the list 'send'\n",
    "\n",
    "    #your code here\n",
    "    \n",
    "#Prepare Anshu's qubits as per the bit string generated\n",
    "\n",
    "    #your code here\n",
    "\n",
    "\n",
    "#Encoding\n",
    "\n",
    "# randomly pick a basis to encode the qubits and also\n",
    "#store the basis picked in the list anshu_basis\n",
    "    \n",
    "    #your code here\n",
    "\n",
    "\n",
    "bharat = QuantumCircuit(qreg, creg, name='bharat') #Defining Bharat's circuit\n",
    "SendState(anshu, bharat, 'anshu') #Anshu sends states to Bharat\n",
    "\n",
    "#Bharat measures qubits\n",
    "\n",
    "#Bharat randomly picks a basis and performs measurement in the basis picked. \n",
    "# Also store the basis picked in the list bharat_basis\n",
    " \n",
    "    #your code here\n",
    "\n",
    "\n",
    "job = execute(bharat,Aer.get_backend('qasm_simulator'),shots=1) #Notice that Bharat only has one shot to measure qubits\n",
    "counts = job.result().get_counts(bharat) \n",
    "counts = print_outcomes_in_reserve(counts)\n",
    "\n",
    "#Saving Bharat's received string as a list\n",
    "received = list(map(int, counts))\n",
    "\n",
    "print(\"Anshu sent:\", send)\n",
    "print(\"Anshu's encoding basis:\", anshu_basis)\n",
    "print(\"Bharat received:\", received)\n",
    "print(\"Bharat's decoding basis:\", bharat_basis)"
   ]
  },
  {
   "cell_type": "markdown",
   "metadata": {},
   "source": [
    "Ofcourse, 'Anshu sent' is not the same as 'Bharat received', as expected. \n",
    "The next stage of BB84 protocol is to remove these incorrect results (errors)."
   ]
  },
  {
   "cell_type": "markdown",
   "metadata": {},
   "source": [
    "### Stage $2$: Classical Post-Processing\n",
    "\n",
    "There are mainly three processes here: **Sifting, Error-correction, Privacy Amplification.**"
   ]
  },
  {
   "cell_type": "markdown",
   "metadata": {},
   "source": [
    "#### Sifting\n",
    "\n",
    "Anshu and Bharat should determine, by *public exchange* of messages (through classical channel), the rounds in which their encoding and decoding bases agreed. \n",
    "\n",
    "Both users discard those rounds where Bharat chose a measurement basis different from the one Anshu used when preparing the states. This process is called **Sifting**.\n",
    "\n",
    "#### Sifting Protocol:\n",
    "\n",
    "- Anshu and Bharat compare the bases that they have used and keep those bits where bases matched. \n",
    "- They remove those bits from their key string where they used different bases."
   ]
  },
  {
   "cell_type": "markdown",
   "metadata": {},
   "source": [
    "<font style=\"color:darkorange;font-weight:bold;\"> <h4>Task 1.1</h4> </font>Implement the Sifting Protocol"
   ]
  },
  {
   "cell_type": "code",
   "execution_count": null,
   "metadata": {},
   "outputs": [],
   "source": [
    "anshu_key=[] #Anshu's register for matching rounds\n",
    "bharat_key=[] #Bharat's register for matching rounds\n",
    "\n",
    " #your code implementing sifting\n",
    "\n",
    "print(\"Anshu's key =\", anshu_key)\n",
    "print(\"Bharat's key =\", bharat_key)\n",
    "print(anshu_key==bharat_key) #should print 'True' if your codes are correct"
   ]
  },
  {
   "cell_type": "markdown",
   "metadata": {},
   "source": [
    "#### Quantum Bit Error Correction (QBER)\n",
    "\n",
    "At this stage, Anshu randomly chooses $\\frac{1}{3}$ of the key bits to test with corresponding keys of Bharat. They exchange bits, compare and compute **Quantum Bit Error Rate (QBER)**. From the observed QBER, they can estimate the information gained by the eavesdropper during the quantum transmission stage. \n",
    "\n",
    "For noise-free BB84 version (noise-free implies no eaves-dropping), \n",
    "\n",
    "> * If **QBER Value $\\neq 0$**, users abort the protocol.\n",
    "> * Else, they will continue with privacy amplification step."
   ]
  },
  {
   "cell_type": "markdown",
   "metadata": {},
   "source": [
    "<h4>QBER Protocol:</h4>\n",
    "\n",
    "- Anshu randomly chooses, say $\\frac{1}{3}$ part of the final key for testing.\n",
    "- Anshu and Bharat compare this part of the key bit-by-bit.\n",
    "- If their bits do not match, this is considered an error.\n",
    "- Error Rate is calculated as: $$QBER=\\frac{\\text{number of errors}}{\\text{number of bits compared}}$$   \n",
    "- All testing bits (one-third of the key) are discarded from their final key strings as the testing bits have been shared in the public classical channel. \n",
    "\n",
    "**Notice how key bits used for the protocol need to be discarded; this is because they are publicly shared and hence not secure to be used**\n"
   ]
  },
  {
   "cell_type": "markdown",
   "metadata": {},
   "source": [
    "<font style=\"color:darkorange;font-weight:bold;\"> <h4>Task 1.2</h4> </font>\n",
    "Implement the QBER protocol and check that $QBER=0$. Also print the final secret key that can now be used in the Quantum One-Time Pad. \n"
   ]
  },
  {
   "cell_type": "code",
   "execution_count": null,
   "metadata": {},
   "outputs": [],
   "source": [
    "\n",
    "# your code here\n",
    "       \n",
    "print(\"QBER value =\")\n",
    "print(\"Anshu's secret key =\")\n",
    "print(\"Bharat's secret key =\")"
   ]
  },
  {
   "cell_type": "markdown",
   "metadata": {},
   "source": [
    "#### Privacy Amplification"
   ]
  },
  {
   "cell_type": "markdown",
   "metadata": {},
   "source": [
    "What if Charlie gained *some* information about the key that Anshu and Bharat generated? So, Anshu and Bharat would not want to use the key generated earlier to encrypt their secret message. Let's suppose eavesdropper Charlie is passive i.e. he is only able to observe the communication but not alter it, then there is a direct solution to this problem based on the use of [<b>randomness extractor</b>](https://cryptography.fandom.com/wiki/Randomness_extractor)\n",
    "\n",
    "<h4>Hashing-based extractor</h4>\n",
    "\n",
    "From classical cryptography, **hash** is a **one-way function** $H$ that operates on an arbitrary-length message $M$ and returns a fixed-length hash value $h$. The importance of one-way hash functions is to provide a unique \"fingerprint\" of $M$.\n",
    "\n",
    "$$H(M) =h$$\n",
    "\n",
    "Some useful points:\n",
    "- Given $M$, it is easy to compute $h$.\n",
    "- Given $h$, it is hard to compute $M$ such that $H(M)=h$.\n",
    "- Given $M$, it is hard to find another message, $M'$, such that $H(M)=H(M')$\n",
    "\n",
    "\n",
    "- Given the same input, hashes always give the same output. This is an issue since if two users have the same hash, they will have the same information string which can be guessed easily.\n",
    "* As a solution, random data (<b>salt</b>) is added to the input of a hash function to guarantee a unique output, even if the initial input was the same.\n",
    "\n",
    "<font color='yellow'>**Universal hash functions are good extractors and as a consequence, confirms the security in privacy amplification.**</font>\n",
    "\n",
    "- Randomness extractor (based on 2-universal hash functions) can be described as a system that takes a string (<b>QKD key</b>) and salt (<b>generator seed</b>), decides between $2$ hash functions and encrypts using chosen function.\n",
    "\n",
    "**Note:** Salt length should be equal to the size of the QKD key. \n",
    "\n",
    "#### Privacy Amplification protocol\n",
    "\n",
    "Our 2-universal randomness extractor will append salt and use SHA256 and SHA3 256.\n",
    "\n",
    "- Anshu generates seed (or salt) - random bit sequence with length same as its final key and sends it to Bharat.\n",
    "- If first bit of final key is $0$, Anshu will encrypt using SHA 256.\n",
    "- If it is $1$, then SHA3 256 will be used.\n",
    "- Anshu and Bharat generate their final key.\n",
    "        \n",
    "**Note:** `hashlib` functions work with strings, so you will need to convert your lists to strings.\n"
   ]
  },
  {
   "cell_type": "code",
   "execution_count": null,
   "metadata": {},
   "outputs": [],
   "source": [
    "# Privacy Amplification \n",
    "# this has been implemented for you, you just have to run this cell and understand the point of this protocol\n",
    "\n",
    "from random import randrange\n",
    "import hashlib \n",
    "\n",
    "remain_key_anshu = anshu_key\n",
    "remain_key_bharat = bharat_key\n",
    "\n",
    "#Generating salt\n",
    "salt=[]\n",
    "for i in remain_key_anshu:\n",
    "    a=randrange(2)\n",
    "    salt.append(a)\n",
    "\n",
    "#Adding seeds to the keys\n",
    "    \n",
    "remain_key_anshu.append(salt)\n",
    "remain_key_bharat.append(salt)\n",
    "\n",
    "#Converting lists to strings\n",
    "str_key_anshu = ' '.join([str(elem) for elem in remain_key_anshu])\n",
    "str_key_bharat = ' '.join([str(elem) for elem in remain_key_bharat])\n",
    "\n",
    "#checking first bit to decide hash function to use\n",
    "\n",
    "if remain_key_anshu[0]==0:\n",
    "    result=hashlib.sha256(str_key_anshu.encode())\n",
    "    print(\"Final Key Encoded using SHA256:\", result.hexdigest())\n",
    "else:\n",
    "    result=hashlib.sha3_256(str_key_anshu.encode())\n",
    "    print(\"Final Key Encoded using SHA3 256:\", result.hexdigest())\n",
    "bin(int(result.hexdigest(), 16))[2:]"
   ]
  },
  {
   "cell_type": "markdown",
   "metadata": {},
   "source": [
    "## BB84 Protocol with Noise"
   ]
  },
  {
   "cell_type": "markdown",
   "metadata": {},
   "source": [
    "We will modify our <b>SendState</b> function to introduce some errors. In this case implementation of the protocol above can result in $QBER \\ne 0$ \n",
    "\n",
    "`NoisyChannel` function will help us consider more real-world QKD implementation cases.\n",
    "\n"
   ]
  },
  {
   "cell_type": "code",
   "execution_count": 1,
   "metadata": {},
   "outputs": [],
   "source": [
    "#Code modified to introduce noise in communication channel\n",
    "\n",
    "def NoisyChannel(qc1, qc2, qc1_name):\n",
    "    ''' This function takes the output of a circuit qc1 (made up only of x and \n",
    "        h gates, simulate noisy quantum channel, where Pauli errors (X - bit flip; Z - phase flip\n",
    "        will occur in qc2 and then initializes another circuit qc2 with introduce noise.\n",
    "    ''' \n",
    "    \n",
    "    # Quantum state is retrieved from qasm code of qc1\n",
    "    qs = qc1.qasm().split(sep=';')[4:-1]\n",
    "\n",
    "    # Process the code to get the instructions\n",
    "    for index, instruction in enumerate(qs):\n",
    "        qs[index] = instruction.lstrip()\n",
    "\n",
    "     # Parse the instructions and apply to new circuit\n",
    "    for instruction in qs:\n",
    "        if instruction[0] == 'x':\n",
    "            if instruction[5] == '[':\n",
    "                old_qr = int(instruction[6:-1])\n",
    "            else:\n",
    "                old_qr = int(instruction[5:-1])\n",
    "            qc2.x(qc2.qregs[0][old_qr])\n",
    "        elif instruction[0] == 'h':\n",
    "            if instruction[5] == '[':\n",
    "                old_qr = int(instruction[6:-1])\n",
    "            else:\n",
    "                old_qr = int(instruction[5:-1])\n",
    "            qc2.h(qc2.qregs[0][old_qr])\n",
    "        elif instruction[0] == 'm': # exclude measuring:\n",
    "            pass\n",
    "        else:\n",
    "            raise Exception('Unable to parse instruction')\n",
    "    \n",
    "    ### Introducing noise\n",
    "    for instruction in qs:\n",
    "        if randrange(4)<1:\n",
    "            if instruction[5] == '[':\n",
    "                old_qr = int(instruction[6:-1])\n",
    "            else:\n",
    "                old_qr = int(instruction[5:-1])\n",
    "            qc2.x(qc2.qregs[0][old_qr]) #apply bit-flip error\n",
    "        if randrange(4)<1:\n",
    "            if instruction[5] == '[':\n",
    "                old_qr = int(instruction[6:-1])\n",
    "            else:\n",
    "                old_qr = int(instruction[5:-1])\n",
    "            qc2.z(qc2.qregs[0][old_qr]) #apply phase-flip error"
   ]
  },
  {
   "cell_type": "markdown",
   "metadata": {},
   "source": [
    "<font style=\"color:darkorange;font-weight:bold;\"> <h3>Task 2</h3> </font>\n",
    "\n",
    "Implement the noisy version of the BB84 protocol for a $28$- bit long string upto $QBER$ calculation. Since the noise is random, run the codes repeatedly until you get $QBER \\le 0.25 $. We will carryforward the protocol with this $QBER$ value.\n",
    "\n",
    "Use the following variable names respectively for QBER value, anshu's key and bharat's key after Sifting: \n",
    "-       QBER\n",
    "-       anshu_key\n",
    "-       bharat_key"
   ]
  },
  {
   "cell_type": "markdown",
   "metadata": {},
   "source": [
    "#### Information Reconciliation using Cascade Protocol\n",
    "\n",
    "Before going into privacy amplification, we need to correct the erroneous bits in the generated key to generate a final error-free key for which $QBER=0$. "
   ]
  },
  {
   "cell_type": "markdown",
   "metadata": {},
   "source": [
    "Cascade Protocol uses parity check method to correct errors. Here's how Parity Check works:\n",
    "\n",
    "> Suppose you want to send a 5 bits of information: $10110$.\n",
    "> But an error occured during communication and our string became $11110$.\n",
    "> How can we tell if the received information is correct or wrong?\n",
    "\n",
    "<b>Parity bit</b> is one additional bit that we add at the end of our initial string before sending to the recepient. \n",
    "\n",
    "For a given set of bits, we will count how many bits we have with value '1':\n",
    "- If count is even, we add parity bit $0$ at the end of our string.\n",
    "- If count is odd, we add parity bit $1$."
   ]
  },
  {
   "cell_type": "markdown",
   "metadata": {},
   "source": [
    "<font style=\"color:darkorange;font-weight:bold;\"> <h4>Task 2.1</h4> </font>\n",
    "\n",
    "Explain with an example that parity check method cannot correct $100\\%$ error in for an arbitrary message string."
   ]
  },
  {
   "cell_type": "markdown",
   "metadata": {},
   "source": [
    "            (type your answer here in maximum of 4 lines)\n"
   ]
  },
  {
   "cell_type": "markdown",
   "metadata": {},
   "source": [
    "#### Cascade Protocol"
   ]
  },
  {
   "cell_type": "markdown",
   "metadata": {},
   "source": [
    "Cascade protocol consist of several passes. \n",
    "\n",
    "1st PASS - Subdividing blocks:\n",
    "1. Anshu and Bharat shuffle their bits by applying random permutation **that they agreed on.** (with this bits get shuffled but bit indices remain intact)\n",
    "2. They subdivide their key strings to blocks of equal length. Block size is taken to be $w_1=\\frac{0.73}{QBER}$ (rounded to an integer). Last block can consist of remainder bits.\n",
    "3. They calculate parity bit for each block and compare parity bits.\n",
    "* If parity bits match - they accept block as correct.\n",
    "* If parity bits mismatch - they continue with next pass. \n",
    "\n",
    "2nd PASS - Bisective search: (only on blocks where parity bits didn't match)\n",
    "1. Anshu and Bharat shuffle their bits based on an agreed random permutation. \n",
    "2. They divide the bad block in **half** and calculate parity bit for each half.\n",
    "3. They compare **parity bits**.\n",
    "* If parity bits match - they accept block as correct.\n",
    "* If parity bits mismatch - they repeat the 2nd pass until they correct all errors.\n",
    "##### Note:\n",
    "\n",
    "- **Threshold:**\n",
    " \n",
    "If $QBER > 0.25$, then Cascade protocol discloses lot of bits and potentially, the complete raw key. So if $QBER > 0.25$ we abort the BB84 protocol altogether because the security compromise is too much and hence we won't move to the Cascade protocol stage. \n",
    "If $QBER =0 $, then Cascade protocol can be skipped. \n",
    "If $QBER \\le 0.25$, then Anshu and Bharat performs the cascade protocol\n"
   ]
  },
  {
   "cell_type": "code",
   "execution_count": null,
   "metadata": {},
   "outputs": [],
   "source": [
    "#Functions necessary for the cascade protocol. \n",
    "#Check if the cascade_pass() function implements the cascade protocol as described above\n",
    "import random\n",
    "from random import randrange\n",
    "\n",
    "def split(list1, n): \n",
    "    out = []\n",
    "    last = 0.0\n",
    "    while last < len(list1):\n",
    "        out.append(list1[int(last):int(last + n)])\n",
    "        last += n\n",
    "    return out\n",
    "\n",
    "def cascade_pass(A, B, n): #input key lists of Anshu (A), Bharat (B) and target block size (n)\n",
    "    \n",
    "    #Shuffle keys bits\n",
    "    permutation = list(zip(A, B)) #this maps the index of multiple lists\n",
    "    random.shuffle(permutation) #performing random permutation (note:indices still match)\n",
    "    shuffledA, shuffledB = zip(*permutation) #unpacking shuffled keys of Anshu and Bharat\n",
    "    \n",
    "    #Split\n",
    "    splitA=split(shuffledA, n) #Anshu spliting her key into blocks of length n\n",
    "    splitB=split(shuffledB, n) #Bharat doing the same\n",
    "\n",
    "    #Calculate parity\n",
    "    #\"correctA/B\" lists will include blocks of Anshu and Bharat that has no errors\n",
    "    #\"errorA/B\" lists includes blocks where parities mismatched (errors present)\n",
    "    correctA, correctB, errorA, errorB= [], [], [], []\n",
    "    sumBlocksA = [sum(block) for block in splitA]\n",
    "    sumBlocksB = [sum(block) for block in splitB]\n",
    "    parityA = [i %2 for i in sumBlocksA] #gives parity of Anshu's blocks\n",
    "    parityB = [i %2 for i in sumBlocksB] \n",
    "    \n",
    "    #Compare Parity\n",
    "    for i,value in enumerate(range(len(parityA))): #comparing parity bits of Anshu and Bharat's blocks\n",
    "        if parityA[i]==parityB[i]: #if parity bit matched, corresponding block added to list 'correct'\n",
    "            correctA.append(splitA[i])\n",
    "            correctB.append(splitB[i])\n",
    "        else:\n",
    "            errorA.append(splitA[i]) #if parity bits mismatched corresponding block added to list 'error'\n",
    "            errorB.append(splitB[i])\n",
    "        \n",
    "    keyA = [item for i in correctA for item in i] #Converting correct blocks into a list\n",
    "    keyB= [item for i in correctB for item in i]\n",
    "    return keyA, keyB, errorA, errorB "
   ]
  },
  {
   "cell_type": "markdown",
   "metadata": {},
   "source": [
    "<font style=\"color:darkorange;font-weight:bold;\"> <h4>Task 2.2</h4> </font>\n",
    "\n",
    "Taking account of the threshold conditions defined above, write a program that performs the **first pass** of cascade protocol for $QBER \\le 0.25$."
   ]
  },
  {
   "cell_type": "code",
   "execution_count": null,
   "metadata": {},
   "outputs": [],
   "source": [
    "\n",
    "# your code here for conditions that don't use cascade protocol, print out the keys for each case\n",
    "\n",
    "\n",
    "'''\n",
    "if 0<QBER<=0.25: #cascade protocol used if this condition holds, uncomment this condition once your QBER has been calculated\n",
    "    \n",
    "    # code for first pass of cascade protocol \n",
    "\n",
    "\n",
    "\n",
    "    print(\"Anshu's key after first pass,\")  # error free part of Anshu and Bharat's keys after first pass, uncomment after codes above completed\n",
    "    print(\"Bharat's key after second pass,\")\n",
    "'''\n",
    "\n",
    "    #Once cascade_pass function is used, we now aproximately know how many errors we have in initial key string\n",
    "    #because after first pass each block in errorA and errorB lists contain an odd number of errors\n",
    "    #We now can determine the final (corrected) key list length before we correct those errors (when 1 bit is left in each block)\n",
    "\n",
    "    # The below code performing the second pass and finally correcting the error has been implemented for you, you just have to uncomment and run this after completing the code above\n",
    "    # make sure to define the variables as required by the codes below\n",
    "    \n",
    "    # penultimatePassLength=len(anshu_key)-len(errA)  #errA and errB are the third and fourth return values of cascade_pass() function\n",
    "    # print(penultimatePassLength)\n",
    "\n",
    "    # Bisective search at each block until corrected key length is not equal length of initial key minus error blocks number after first pass\n",
    "'''    \n",
    "    while len(kFinalA)!=penultimatePassLength: # kfinalA and kfinalB are anshu's and bharat's error free keys after first pass. \n",
    "        for i, (blockA, blockB) in enumerate(zip(errA, errB)):\n",
    "            if len(blockA)>1:\n",
    "                secondPassA=list(blockA)# we convert block into a lists\n",
    "                secondPassB=list(blockB)\n",
    "                blockSize2=len(blockA)//2 #we change block size, now we will divide each block that contains an error in half\n",
    "                corrBlockA2, corrBlockB2,  errBlockA2, errBlockB2=cascade_pass(secondPassA, secondPassB, blockSize2) #applying cascade\n",
    "                kFinalA.extend(corrBlockA2) # adding correct bits to the key string\n",
    "                kFinalB.extend(corrBlockB2)\n",
    "                errA[i]=errBlockA2[0] #updating error block values\n",
    "                errB[i]=errBlockB2[0]\n",
    "            if len(blockA)==1: #  a side case to deal with\n",
    "                for bit in blockA:\n",
    "                    if bit==1:\n",
    "                        bitA=errA[0][0]\n",
    "                        kFinalA.append(bitA)#Anshu adds corresponding bit to her key string without change\n",
    "                        bitB=errB[0][0]+1 # but Bharat will first correct the error by flipping the bit value \n",
    "                        kFinalB.append(bitB)\n",
    "                    if bit==0:\n",
    "                        bitA=errA[0][0]\n",
    "                        kFinalA.append(bitA) #Anshu adds corresponding bit to her key string without change\n",
    "                        bitB=errB[0][0]-1 # but Bharat will first correct the error by flipping the bit value \n",
    "                        kFinalB.append(bitB)\n",
    "                        \n",
    "'''\n",
    "        \n",
    "    #After previous passes we have a nested lists, to convert them:  \n",
    "'''\n",
    "    errorA=[item for elem in errA for item in elem]\n",
    "    errorB=[item for elem in errB for item in elem]\n",
    "    \n",
    "    #Error correction step, when our error blocks contains just 1 bit (error)\n",
    "\n",
    "    for i, error in enumerate(zip(errorA, errorB)):\n",
    "        bitA=int(errorA[i])\n",
    "        bitB=int(errorB[i])\n",
    "        if bitA==1:\n",
    "            kFinalA.append(bitA)\n",
    "            correctedBitB=bitB+1\n",
    "            kFinalB.append(correctedBitB)\n",
    "        if bitA==0:\n",
    "            kFinalA.append(bitA)\n",
    "            correctedBitB=bitB-1\n",
    "            kFinalB.append(correctedBitB)\n",
    "            \n",
    "    print(\"Final Key Anshu\", kFinalA)\n",
    "    print(\"Final Key Bharat\", kFinalB)\n",
    "'''"
   ]
  },
  {
   "cell_type": "markdown",
   "metadata": {},
   "source": [
    "#### BICONF Strategy\n",
    "\n",
    "Recall the parity bit problem. (Task $2.1$). \n",
    "\n",
    "Even if we see QBER $=0$ after the Cascade protocol, it doesn't mean that we can be 100% sure our key strings are identical.\n",
    "\n",
    "#### Strategy: \n",
    "- Anshu and Bharat choose a random subset of corresponding bits from their strings.\n",
    "- They compare parity bits.\n",
    "- If they find a parity mismatch, they apply bisective search until they correct that error. \n",
    "- If parity bits still match after several rounds, they can conclude that their keys are identical. \n",
    "\n",
    "**Block Size**\n",
    "- If QBER $=0$, we will use fixed block size value of $8$ bits per block. We execute $8$ rounds before we conclude that our keys are correct.\n",
    "- If QBER $\\ne 0$, we take the block size to be: $$b_1=\\frac{4ln(2)}{3QBER}$$"
   ]
  },
  {
   "cell_type": "markdown",
   "metadata": {},
   "source": [
    "**BIOCONF strategy has been implemented for you, please go through the codes and check that the final keys are error-free**"
   ]
  },
  {
   "cell_type": "code",
   "execution_count": null,
   "metadata": {},
   "outputs": [],
   "source": [
    "# #Uncomment and run after you have implemented all the codes above, take care of the varibale names\n",
    "\n",
    "# from numpy import log as ln\n",
    "\n",
    "'''\n",
    "if QBER!=0: #defining size of blocks\n",
    "    biconfBlockSize=(4*ln(2))//(3*QBER)\n",
    "if QBER==0:\n",
    "    biconfBlockSize=8\n",
    "    kFinalA=anshu_key\n",
    "    kFinalB=bharat_key\n",
    "\n",
    "rounds = 0 #counting rounds\n",
    "biconfError=[] #creating register for rounds with an error\n",
    "error=0 #register for found and corrected error\n",
    "\n",
    "while rounds!=8: #we will go through rounds and monitor if blocks with errors will be found \n",
    "    rounds=rounds+1\n",
    "    #Creating random subsets\n",
    "    kFinalZipped=list(zip(kFinalA, kFinalB)) #maping indexes of our two lists\n",
    "    randomBlock=random.sample(list(enumerate(kFinalZipped)), int(biconfBlockSize))\n",
    "    \n",
    "    #We will now need to calculate and compare parity bits for both users bits\n",
    "    sumBlockA=0\n",
    "    sumBlockB=0\n",
    "    for i in range(0,int(biconfBlockSize)):\n",
    "        sumBlockA=sumBlockA+randomBlock[i][1][0]\n",
    "        sumBlockB=sumBlockB+randomBlock[i][1][1]\n",
    "    parityA = sumBlockA%2 #then aplying mod(2) operator to our calculated sums and saving results\n",
    "    parityB = sumBlockB%2\n",
    "    \n",
    "    if parityA!=parityB: #if parities of block dismatch - we bisective search to correct error before continue with next round\n",
    "        print(\"Error found in round:\", rounds)\n",
    "        print(\"Applying bisective search and error correction\")\n",
    "        #Applying bisective search to find and correct an error\n",
    "        while len(randomBlock)>1: #We will take our block with error and run besective search till we find bit with error\n",
    "            #Split the block\n",
    "            if len(randomBlock)%2==1: #If block size is odd\n",
    "                half=len(randomBlock)//2+1 #Length of our first block should be half+1\n",
    "            else:\n",
    "                half=len(randomBlock)//2\n",
    "            splitBlock=split(randomBlock, half) #spliting our block in two parts\n",
    "            for i, block in enumerate(splitBlock): #For each part\n",
    "                sumA=0\n",
    "                sumB=0\n",
    "                for j in range(0,len(block)): #calculating sums \n",
    "                    sumA=sumA+splitBlock[i][j][1][0]\n",
    "                    sumB=sumB+splitBlock[i][j][1][1]\n",
    "                parA=sumA%2 #then calculate parities\n",
    "                parB=sumB%2\n",
    "                if parA==parB:\n",
    "                    pass\n",
    "                if parA!=parB: #if parities dismatch- we update our block and run while loop again\n",
    "                    randomBlock=splitBlock[i]\n",
    "        if len(randomBlock)==1: #once we isolate the error to 1 bit\n",
    "            error=error+1\n",
    "            print(\"Error found in bit:\", randomBlock[0][0]) #we retrieving the index of bit pair\n",
    "            errorIndex=int(randomBlock[0][0])\n",
    "            #Apply error correction at Bharats' initial key string\n",
    "        if kFinalB[errorIndex]==0:\n",
    "            kFinalB[errorIndex]=1\n",
    "        else:\n",
    "            kFinalB[errorIndex]=0\n",
    "        print(\"Error corrected!\\n\")\n",
    "    else: #If parities matched\n",
    "        pass\n",
    "\n",
    "print(\"BICONF strategy completed!\\n\", error, \"errors found!\")\n",
    "print(\"Final key Anshu\", kFinalA)\n",
    "print(\"Final key Bharat\", kFinalB)\n",
    "'''"
   ]
  },
  {
   "cell_type": "markdown",
   "metadata": {},
   "source": [
    "With this the keys are error-free and we can proceed to the privacy amplification stage"
   ]
  },
  {
   "cell_type": "markdown",
   "metadata": {},
   "source": [
    "<font style=\"color:darkorange;font-weight:bold;\"> <h4>Task 2.3</h4> </font>\n",
    "\n",
    "Implement privacy amplification on the keys generated to obtain the hashed version of keys that can be used in Quantum One Time pad for encryption /decryption"
   ]
  },
  {
   "cell_type": "code",
   "execution_count": 7,
   "metadata": {},
   "outputs": [],
   "source": [
    "#your code here (print out the final key that can be used in One Time Pad)"
   ]
  },
  {
   "cell_type": "markdown",
   "metadata": {},
   "source": [
    "### References:"
   ]
  },
  {
   "cell_type": "markdown",
   "metadata": {},
   "source": [
    "- QWorld resources on [Quantum Key Distribution](https://gitlab.com/qworld/qeducation/educational-materials/self-study-modules/qkd)\n",
    "- A major part of the code for `SendState()` function has been taken from [here](https://github.com/qiskit-community/qiskit-community-tutorials/blob/master/awards/teach_me_qiskit_2018/cryptography/Cryptography.ipynb)\n",
    "- Quantum Key Distribution: An Introduction with Exercises, Ramona Wolf (2021). Can be accessed [here](https://link.springer.com/book/10.1007/978-3-030-73991-1)"
   ]
  }
 ],
 "metadata": {
  "kernelspec": {
   "display_name": "qcvenv",
   "language": "python",
   "name": "qcvenv"
  },
  "language_info": {
   "codemirror_mode": {
    "name": "ipython",
    "version": 3
   },
   "file_extension": ".py",
   "mimetype": "text/x-python",
   "name": "python",
   "nbconvert_exporter": "python",
   "pygments_lexer": "ipython3",
   "version": "3.11.5"
  }
 },
 "nbformat": 4,
 "nbformat_minor": 2
}
