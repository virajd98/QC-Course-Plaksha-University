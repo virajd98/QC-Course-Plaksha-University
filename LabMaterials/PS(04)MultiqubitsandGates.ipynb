{
 "cells": [
  {
   "cell_type": "markdown",
   "metadata": {},
   "source": [
    "## More One Qubit Gates\n",
    "\n",
    "\n",
    "### Z gate\n",
    "\n",
    "Z-gate flips the sign of $\\ket{1}$ and does not do anything on $\\ket{0}$. Given this information can you construct the $2$ x $2$ matrix representation for the Z-gate?\n",
    "\n",
    "In qiskit, 'z' is used for a zgate"
   ]
  },
  {
   "cell_type": "markdown",
   "metadata": {},
   "source": [
    "#### <font color= 'red'>**Lab Exercise:** Using qiskit, starting from the qubit state 1, use all of Hadamard, NOT and Z gate atleast once to obtain measurement outcome of state 1 with probability nearly 1 </font>\n",
    "Look at how destructive interferences play out in this example\n"
   ]
  },
  {
   "cell_type": "markdown",
   "metadata": {},
   "source": [
    "#### <font color='green'> *It is possible to condtionally apply operators based on measurement outomes of an intermediate state of a Quantum Circuit* </font>"
   ]
  },
  {
   "cell_type": "markdown",
   "metadata": {},
   "source": [
    "##### **Example:** Start with a $0$ qubit state, apply hadamard to create a linear superposition and perform a measurement. If measurement outcome is $0$, apply hadamard and then do another measurement on the register and observe the results. First try to do this mentally (or use a pen and paper) then use qiskit and check. "
   ]
  },
  {
   "cell_type": "code",
   "execution_count": 25,
   "metadata": {},
   "outputs": [
    {
     "name": "stderr",
     "output_type": "stream",
     "text": [
      "c:\\Users\\viraj.dsouza\\OneDrive - Plaksha University\\Main\\PlakshaQC\\qcvenv\\Lib\\site-packages\\qiskit\\visualization\\circuit\\matplotlib.py:266: FutureWarning: The default matplotlib drawer scheme will be changed to \"iqp\" in a following release. To silence this warning, specify the current default explicitly as style=\"clifford\", or the new default as style=\"iqp\".\n",
      "  self._style, def_font_ratio = load_style(self._style)\n"
     ]
    },
    {
     "data": {
      "image/png": "[encoded data removed]",
      "text/plain": [
       "<Figure size 436.286x200.667 with 1 Axes>"
      ]
     },
     "execution_count": 25,
     "metadata": {},
     "output_type": "execute_result"
    }
   ],
   "source": [
    "\n",
    "# import all necessary objects and methods for quantum circuits\n",
    "import qiskit\n",
    "from qiskit import QuantumRegister, ClassicalRegister, QuantumCircuit, execute, Aer\n",
    "\n",
    "# define a quantum register with a single qubit\n",
    "q = QuantumRegister(1,\"q\")\n",
    "# define a classical register with a single bit\n",
    "c = ClassicalRegister(1,\"c\")\n",
    "# define a quantum circuit\n",
    "qc = QuantumCircuit(q,c)\n",
    "\n",
    "# apply the first Hadamard\n",
    "qc.h(q[0])\n",
    "\n",
    "# the first measurement\n",
    "qc.measure(q,c)\n",
    "\n",
    "# apply the second Hadamard if the measurement outcome is 0\n",
    "qc.h(q[0]).c_if(c,0)\n",
    "\n",
    "# the second measurement\n",
    "qc.measure(q[0],c)\n",
    "\n",
    "# draw the circuit\n",
    "qc.draw(output=\"mpl\")"
   ]
  },
  {
   "cell_type": "code",
   "execution_count": 26,
   "metadata": {},
   "outputs": [
    {
     "name": "stdout",
     "output_type": "stream",
     "text": [
      "{'1': 7528, '0': 2472}\n"
     ]
    }
   ],
   "source": [
    "job = execute(qc,Aer.get_backend('qasm_simulator'),shots=10000)\n",
    "counts = job.result().get_counts(qc)\n",
    "print(counts) # print the outcomes"
   ]
  },
  {
   "cell_type": "markdown",
   "metadata": {},
   "source": [
    "As expected we get state $0$ with $25%$ probability and $1$ with 75% probability."
   ]
  },
  {
   "cell_type": "markdown",
   "metadata": {},
   "source": [
    "### T gate\n",
    "\n",
    "It induces a $\\frac{\\pi}{4}$ phase in the qubit state $1$ and does not have any effect on state $0$.  The matrix representation of the gate is $$T = \\begin{pmatrix}\n",
    "                1 & 0 \\\\\n",
    "                0 & e^{i\\pi/4}\n",
    "            \\end{pmatrix}$$"
   ]
  },
  {
   "cell_type": "markdown",
   "metadata": {},
   "source": [
    "#### <font color= 'red'>**Lab Exercise:** How does T gate relate to the Z gate?</font>\n",
    "\n",
    "##### <font color= 'red'>**Homework:** Similar to T gate, costruct S gate which induces a $\\frac{\\pi}{4}$ phase in the qubit state $1$ and does not have any effect on state $0$?</font>\n",
    "\n",
    "\n",
    "\n",
    "\n",
    "\n"
   ]
  },
  {
   "cell_type": "markdown",
   "metadata": {},
   "source": [
    "### Y gate"
   ]
  },
  {
   "cell_type": "markdown",
   "metadata": {},
   "source": [
    "  The action of Y gate is as follows:  $$|0\\rangle \\rightarrow i|1\\rangle$$\n",
    "        $$|1\\rangle \\rightarrow -i|0\\rangle$$ \n",
    "        The matrix representation: \n",
    "        $$ Y = \\begin{pmatrix}\n",
    "                0 & -i \\\\\n",
    "                i & 0\n",
    "            \\end{pmatrix} $$"
   ]
  },
  {
   "cell_type": "markdown",
   "metadata": {},
   "source": [
    "# Two Qubit States\n",
    "\n",
    "##### Remember that when we have a quantum system with two qubits ($\\ket{ab}$), we can represent it using the basis states: $ \\ket{00}, \\ket{01}, \\ket{10}, \\ket{11} $.\n",
    "\n",
    "The state $ \\ket{ab} $ means that \n",
    "\n",
    "- the first qubit is in state $ \\ket{a} $ and\n",
    "- the second qubit is in state $ \\ket{b} $,\n",
    "\n",
    "where $ a,b \\in \\{0,1\\} $.\n",
    "\n",
    "$ \\ket{ab} = \\ket{a} \\otimes \\ket{b} $ (or shortly $\\ket{a}\\ket{b}$.\n",
    "\n",
    "<h3> Generalization </h3>\n",
    "\n",
    "Suppose that we have $ k>1 $ qubits (or bits). Then, any deterministic (basis) state can be represented by $ k $ bits:  $ \\ket{b_1b_2\\cdots b_k} $, where any $ b_j \\in \\{0,1\\} $ for $ 1 \\leq j \\leq k $.\n",
    "\n",
    "- What is the size of the vector representing the states of $k$ qubits?\n",
    "- If the decimal value of $ \\ket{b_1 b_2 \\cdots b_k} $ is $ 42 $, then which entry has the value of 1?"
   ]
  },
  {
   "cell_type": "markdown",
   "metadata": {},
   "source": [
    "# Two Qubit Gates\n",
    "\n",
    "We define a quantum circuit with two qubits and apply the Hadamard operator to each of them.\n"
   ]
  },
  {
   "cell_type": "code",
   "execution_count": 29,
   "metadata": {},
   "outputs": [
    {
     "data": {
      "image/png": "[encoded data removed]",
      "text/plain": [
       "<Figure size 203.683x200.667 with 1 Axes>"
      ]
     },
     "execution_count": 29,
     "metadata": {},
     "output_type": "execute_result"
    }
   ],
   "source": [
    "from qiskit import QuantumCircuit\n",
    "\n",
    "# remark the concise representation of a quantum circuit\n",
    "qc = QuantumCircuit(2)\n",
    "\n",
    "qc.h(0)\n",
    "qc.h(1)\n",
    "\n",
    "qc.draw(output='mpl', reverse_bits=True) # why did I use reverse_bits=True ?"
   ]
  },
  {
   "cell_type": "markdown",
   "metadata": {},
   "source": [
    "\n",
    "These two Hadamards can also be represented as a single quantum operator on two qubits: $ H \\otimes H $. \n",
    "\n",
    "<font color='red'> Can you do this calculation and check manually whether the circuit results after measurement matches your theoretical calculation? </font>"
   ]
  },
  {
   "cell_type": "markdown",
   "metadata": {},
   "source": [
    "<h4> Unitary backend</h4>\n",
    "\n",
    "Unitary_simulator of qiskit gives a single matrix representation of all gates in the circuit until that point.\n"
   ]
  },
  {
   "cell_type": "code",
   "execution_count": 30,
   "metadata": {},
   "outputs": [
    {
     "name": "stdout",
     "output_type": "stream",
     "text": [
      "0.5 0.5 0.5 0.5 \n",
      "0.5 -0.5 0.5 -0.5 \n",
      "0.5 0.5 -0.5 -0.5 \n",
      "0.5 -0.5 -0.5 0.5 \n"
     ]
    }
   ],
   "source": [
    "from qiskit import execute, Aer\n",
    "\n",
    "job = execute(qc, Aer.get_backend('unitary_simulator'),shots=1,optimization_level=0)\n",
    "current_unitary = job.result().get_unitary(qc, decimals=3).data\n",
    "for row in current_unitary:\n",
    "    column = \"\"\n",
    "    for entry in row:\n",
    "        column = column + str(entry.real) + \" \"\n",
    "    print(column)"
   ]
  },
  {
   "cell_type": "markdown",
   "metadata": {},
   "source": [
    "##### <font color='red'>Perform a measurement on both the registers and observe the results. Does it match with your theoretical expectation? </font>"
   ]
  },
  {
   "cell_type": "markdown",
   "metadata": {},
   "source": [
    "#### SWAP Gate:\n",
    "\n",
    "The gate is equivalent to a state swap and is a **classical logic gate.**\n",
    "$$\n",
    "        |a, b\\rangle \\rightarrow |b, a\\rangle $$\n",
    "\n",
    "The matrix representation is: \n",
    "$$ \n",
    "SWAP = \\begin{pmatrix} 1 & 0 & 0 & 0 \\\\ 0 & 0 & 1 & 0 \\\\ 0 & 1 & 0 & 0 \\\\ 0 & 0 & 0 & 1 \\end{pmatrix}\n",
    "$$\n"
   ]
  },
  {
   "cell_type": "code",
   "execution_count": 16,
   "metadata": {},
   "outputs": [
    {
     "data": {
      "image/png": "[encoded data removed]",
      "text/plain": [
       "<Figure size 454.517x284.278 with 1 Axes>"
      ]
     },
     "execution_count": 16,
     "metadata": {},
     "output_type": "execute_result"
    }
   ],
   "source": [
    "# Swapping two qubit states\n",
    "\n",
    "q = QuantumRegister(2,\"q\")\n",
    "c = ClassicalRegister(2,\"c\")\n",
    "qc = QuantumCircuit(q,c)\n",
    "qc.x(q[0])\n",
    "qc.swap(q[0], q[1])\n",
    "qc.measure(q[0],c[0])\n",
    "qc.measure(q[1],c[1])\n",
    "\n",
    "# draw the circuit\n",
    "qc.draw(output=\"mpl\")"
   ]
  },
  {
   "cell_type": "code",
   "execution_count": 17,
   "metadata": {},
   "outputs": [
    {
     "name": "stdout",
     "output_type": "stream",
     "text": [
      "{'10': 10000}\n"
     ]
    }
   ],
   "source": [
    "job = execute(qc,Aer.get_backend('qasm_simulator'),shots=10000)\n",
    "# print(job.result)\n",
    "counts = job.result().get_counts(qc)\n",
    "print(counts)"
   ]
  },
  {
   "cell_type": "markdown",
   "metadata": {},
   "source": [
    "#### CNOT gate: (CX gate)\n",
    "\n",
    "Controlled- X gate is a two qubit gate, taking 2 qubit inputs namely (control,target). A NOT gate operates on the target if the control is in state $\\ket{1}$\n",
    "\n",
    "To summarize:\n",
    "- $ CNOT \\ket{00} = \\ket{00} $,\n",
    "- $ CNOT \\ket{01} = \\ket{01} $,\n",
    "- $ CNOT \\ket{10} = \\ket{11} $,\n",
    "- $ CNOT \\ket{11} = \\ket{10} $.\n",
    "\n",
    "In general, one can see that $CNOT \\ket{a,b} = \\ket{a, a \\oplus  b}$, where $\\oplus$ represents addition modulo $2$. Thus CNOT is a *generalization* of classical $XOR$ gate. This is not exactly the classical $XOR$ gate which takes $2$ bits $a,b$ and outputs a single bit $a \\oplus b$. Note that this usual classical $XOR$ gate is irreversible, just like the classical universal $NAND$ gate. On the other hand, unitary quantum gates are always invertible/reversible. \n",
    "\n",
    "So, implementing classical logic on a quantum computer is not straightforward, as we need to make sure of reversibility in quantum gates but this was not necessary for classical gates. For now, we saw how $NOT$ and $XOR$ classical logic are implemented as quantum gates. We shall see later that to implement $NAND$ logic in a quantum circuit we need a $3$ qubit quantum gate.\n",
    "      \n",
    "The the matrix representation of $CNOT$ is:  (*check if this representation follows expectations from a $CNOT$*)\n",
    "\n",
    "$$ CX =\n",
    "\\begin{pmatrix}\n",
    "1 & 0 & 0 & 0 \\\\\n",
    "0 & 0 & 0 & 1 \\\\\n",
    "0 & 0 & 1 & 0 \\\\\n",
    "0 & 1 & 0 & 0\n",
    "\\end{pmatrix}$$\n",
    "\n",
    "Note that the inverse of this matrix exists and as $(CX)(CX)^{\\dagger} = I$, the inverse of $CX$ can be easily deduced to be the dagger of $CX$. \n",
    "\n",
    "*Important note:*\n",
    "<font color= 'green'> \n",
    "In Qiskit's convention, higher qubit indices are more significant (little endian convention). For the state $\\ket{q_1q_0}$, $q_1$ is the higher qubit index (most significant).  Controlled gates here are presented with the assumption of more significant qubit as target, which in our case would be $q_1$. Some textbook use a reverse convention, but that's fine until we know the definitions we start with.</font>\n"
   ]
  },
  {
   "cell_type": "code",
   "execution_count": 23,
   "metadata": {},
   "outputs": [
    {
     "name": "stdout",
     "output_type": "stream",
     "text": [
      "{'11': 5000, '00': 5000}\n",
      "State 00 is observed with frequency % 50.0\n",
      "State 11 is observed with frequency % 50.0\n"
     ]
    },
    {
     "name": "stderr",
     "output_type": "stream",
     "text": [
      "c:\\Users\\viraj.dsouza\\OneDrive - Plaksha University\\Main\\PlakshaQC\\qcvenv\\Lib\\site-packages\\qiskit\\visualization\\circuit\\matplotlib.py:266: FutureWarning: The default matplotlib drawer scheme will be changed to \"iqp\" in a following release. To silence this warning, specify the current default explicitly as style=\"clifford\", or the new default as style=\"iqp\".\n",
      "  self._style, def_font_ratio = load_style(self._style)\n"
     ]
    },
    {
     "data": {
      "image/png": "[encoded data removed]",
      "text/plain": [
       "<Figure size 700x500 with 1 Axes>"
      ]
     },
     "execution_count": 23,
     "metadata": {},
     "output_type": "execute_result"
    }
   ],
   "source": [
    "q = QuantumRegister(2,\"q\")  #note that q[1] is most significant as per qiskit convention, so that state created here is |q_1q_0> and not |q_0q_1>\n",
    "c = ClassicalRegister(2,\"c\")\n",
    "qc = QuantumCircuit(q,c)\n",
    "qc.h(q[[0]])\n",
    "qc.cx(q[0],q[1])\n",
    "qc.measure(q[0],c[0])\n",
    "qc.measure(q[1],c[1])\n",
    "\n",
    "# draw the circuit\n",
    "qc.draw(output=\"mpl\")\n",
    "\n",
    "job = execute(qc,Aer.get_backend('qasm_simulator'),shots=10000)\n",
    "# print(job.result)\n",
    "counts = job.result().get_counts(qc)\n",
    "print(counts) \n",
    "\n",
    "n_z = counts['00']\n",
    "# n_zo = counts['01'] #note counts dictionary won't have the key (state) which can't be a result of a measurement. For example 01 cannot be a measurement outcome here, hence this line would give an error\n",
    "# n_oz = counts['10']\n",
    "n_oo = counts['11']\n",
    "total= n_z+n_oo\n",
    "\n",
    "print(\"State 00 is observed with frequency %\",100*n_z/(total))\n",
    "# print(\"State 01 is observed with frequency %\",100*n_zo/(total)) \n",
    "# print(\"State 10 is observed with frequency %\",100*n_oz/(total))\n",
    "print(\"State 11 is observed with frequency %\",100*n_oo/(total))\n",
    "\n",
    "\n",
    "# we can show the result by using histogram\n",
    "from qiskit.visualization import plot_histogram\n",
    "plot_histogram(counts)\n"
   ]
  },
  {
   "cell_type": "code",
   "execution_count": 31,
   "metadata": {},
   "outputs": [
    {
     "data": {
      "image/png": "[encoded data removed]",
      "text/plain": [
       "<Figure size 370.906x284.278 with 1 Axes>"
      ]
     },
     "metadata": {},
     "output_type": "display_data"
    },
    {
     "name": "stdout",
     "output_type": "stream",
     "text": [
      "00 --CNOT-> {'00': 1024}\n"
     ]
    },
    {
     "data": {
      "image/png": "[encoded data removed]",
      "text/plain": [
       "<Figure size 454.517x284.278 with 1 Axes>"
      ]
     },
     "metadata": {},
     "output_type": "display_data"
    },
    {
     "name": "stdout",
     "output_type": "stream",
     "text": [
      "01 --CNOT-> {'01': 1024}\n"
     ]
    },
    {
     "data": {
      "image/png": "[encoded data removed]",
      "text/plain": [
       "<Figure size 454.517x284.278 with 1 Axes>"
      ]
     },
     "metadata": {},
     "output_type": "display_data"
    },
    {
     "name": "stdout",
     "output_type": "stream",
     "text": [
      "10 --CNOT-> {'11': 1024}\n"
     ]
    },
    {
     "data": {
      "image/png": "[encoded data removed]",
      "text/plain": [
       "<Figure size 454.517x284.278 with 1 Axes>"
      ]
     },
     "metadata": {},
     "output_type": "display_data"
    },
    {
     "name": "stdout",
     "output_type": "stream",
     "text": [
      "11 --CNOT-> {'10': 1024}\n"
     ]
    }
   ],
   "source": [
    "# Control gate on all two qubit basis states\n",
    "\n",
    "pairs = ['00','01','10','11']\n",
    "\n",
    "for pair in pairs:\n",
    "    from qiskit import QuantumCircuit, execute, Aer\n",
    "    qc = QuantumCircuit(2,2)  #note how circuit can be directly made without explicitly defining registers first (not advisable though)\n",
    "    # initialize the pair\n",
    "    # we follow the reading order in Qiskit\n",
    "    # q1-tensor-q0\n",
    "    if pair[1] == '1':\n",
    "        qc.x(0)\n",
    "    if pair[0] =='1':\n",
    "        qc.x(1)\n",
    "    qc.cx(1,0)\n",
    "    qc.measure(0,0)\n",
    "    qc.measure(1,1)\n",
    "    display(qc.draw(output='mpl',reverse_bits=True))\n",
    "    job = execute(qc,Aer.get_backend('qasm_simulator'),shots=1024)\n",
    "    counts = job.result().get_counts(qc)\n",
    "    print(pair,\"--CNOT->\",counts)"
   ]
  },
  {
   "cell_type": "markdown",
   "metadata": {},
   "source": [
    "##### <font color= 'red'> **Homework:** Like $CX$, many other control gates can be constructed. Can you construct a $CZ$, $CY$ and a controlled Hadamard gate ? </font>"
   ]
  },
  {
   "cell_type": "markdown",
   "metadata": {},
   "source": [
    "##### Can you have universal quantum gates? The answer to this is \"YES\". For now, take the below as a theorem without proof. \n",
    "\n",
    "**<font color='green'> \"Any multiqubit logic gate may be composed from CNOT (a $2$ qubit gate) and single qubit gates.\" </font>**\n",
    "\n"
   ]
  },
  {
   "cell_type": "markdown",
   "metadata": {},
   "source": []
  }
 ],
 "metadata": {
  "kernelspec": {
   "display_name": "qcvenv",
   "language": "python",
   "name": "qcvenv"
  },
  "language_info": {
   "codemirror_mode": {
    "name": "ipython",
    "version": 3
   },
   "file_extension": ".py",
   "mimetype": "text/x-python",
   "name": "python",
   "nbconvert_exporter": "python",
   "pygments_lexer": "ipython3",
   "version": "3.11.5"
  }
 },
 "nbformat": 4,
 "nbformat_minor": 2
}
