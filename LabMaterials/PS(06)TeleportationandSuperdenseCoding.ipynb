{
 "cells": [
  {
   "cell_type": "markdown",
   "metadata": {},
   "source": [
    "# Quantum Teleportation and Superdense Coding"
   ]
  },
  {
   "cell_type": "markdown",
   "metadata": {},
   "source": [
    "Before starting with these topics its useful to review one of the fundamental properties of qubits: \n",
    "\n",
    "### **Qubits in an unknown state cannot be copied** (*no-cloning theorem*) "
   ]
  },
  {
   "cell_type": "markdown",
   "metadata": {},
   "source": [
    "#### <font color='red'> Exercise 1: </font>Create a classical operation that can be used to copy classical bits ($0$ or $1$)\n",
    "#### <font color='red'> Exercise 2:</font> Create a quantum circuit that copies the state $\\ket{+}$ (note, this is a 'known' state)"
   ]
  },
  {
   "cell_type": "markdown",
   "metadata": {},
   "source": [
    "##### **Explanation for no-cloning theorem**\n",
    "\n",
    "Let's say we have a qubit in an arbitrary state $\\ket{\\psi} = \\alpha \\ket{0} + \\beta \\ket{1}$ and we want to copy this. Let's say there exists an unitary operation that does this.\n",
    "\n",
    "Thus we assume, $$U \\ket{\\psi} \\ket{0} = \\ket{\\psi}\\ket{\\psi}$$ If such a $U$ exists, we have essentially copied the state $\\ket{\\psi}$ to another qubit. Let's say such a operator exists, thus we get"
   ]
  },
  {
   "cell_type": "markdown",
   "metadata": {},
   "source": [
    "$$ U \\ket{\\psi}\\ket{0} = (\\alpha \\ket{0} + \\beta \\ket{1}) (\\alpha \\ket{0} + \\beta \\ket{1})= (\\alpha^ 2 \\ket{00} + \\alpha \\beta \\ket{01} + \\beta \\alpha \\ket{10}+ \\beta^2 \\ket{11})$$\n",
    "\n",
    "Also when we use $U$ to clone the expansion of $\\ket{\\psi}$ we see,\n",
    "\n",
    "$$ U \\ket{\\psi}\\ket{0} = U (\\alpha \\ket{0} \\ket{0}) + U (\\beta \\ket{1} \\ket{0}) = \\alpha \\ket{0} \\ket{0} + \\beta \\ket{1} \\ket{1}$$\n",
    "\n",
    "Comparing the two resulting states above, we can see that they are different (there are no cross-terms in the second state). We get a contradiction and thus we cannot construct such a unitary operator $U$. "
   ]
  },
  {
   "cell_type": "markdown",
   "metadata": {},
   "source": []
  },
  {
   "cell_type": "markdown",
   "metadata": {},
   "source": [
    "## Quantum Teleportation"
   ]
  },
  {
   "cell_type": "markdown",
   "metadata": {},
   "source": [
    "(Extracted as it is from Nielsen and Chuan, 2010)\n",
    "\n",
    "*Quantum teleportation is a technique for moving quantum states around, even in the absence of a quantum communications channel linking the sender of the quantum state to the recipient.*\n",
    "\n",
    "**Here’s how it works:** \n",
    "\n",
    "Alice and Bob met long ago but now live far apart. While together they generated an EPR pair (refer PS(05)), each taking one qubit of the EPR pair when they separated. Many years later, Bob is in hiding, and Alice’s mission is to deliver an arbitrary qubit $\\ket{\\psi}$ to Bob. She does not know the state of the qubit, and moreover can only send classical information to Bob.\n",
    " \n",
    "Intuitively, things look pretty bad for Alice. She doesn’t know the state $\\ket{\\psi}$ of the qubit she has to send to Bob, and the laws of quantum mechanics prevent her from determining the state when she only has a single copy of $\\ket{\\psi}$ in her possession. (<font color='red'> WHY? </font>) What’s worse, even if she did know the state $\\ket{\\psi}$, describing it precisely takes an infinite amount of classical information since $\\ket{\\psi}$ takes values in a continuous space. So even if she did know $\\ket{\\psi}$, it would take forever for Alice to describe the state to Bob.  \n",
    "\n",
    "Fortunately for Alice, quantum teleportation is a way of utilizing the entangled EPR pair in order to send $\\ket{\\psi}$ to Bob, with only a small overhead of classical communication."
   ]
  },
  {
   "cell_type": "markdown",
   "metadata": {},
   "source": [
    "**Teleportation protocol:**\n",
    "\n",
    "\n",
    "- Suppose Alice and Bob already share an EPR pair (Alice has the first qubit and Bob has the second qubit of the EPR pair). The state of the EPR pair is:\n",
    "\n",
    "    $$ \\ket{\\psi} = \\frac{\\ket{00} + \\ket{11}}{\\sqrt{2}}$$\n",
    "\n",
    "\n",
    "- Alice wants to send the quantum message (encoded by a qubit), \n",
    "$$ \\ket{v} = \\begin{pmatrix} \n",
    " \\alpha\\\\\\beta \n",
    " \\end{pmatrix} = \\alpha \\ket{0} + \\beta \\ket{1} $$\n",
    "\n",
    "So there are three qubits in total, two belonging to the EPR pair and one corresponding to the message to be sent. Alice has $2$ qubits and Bob has $1$. The goal is to send $\\ket{\\psi}$ to Bob.\n",
    "\n",
    "Thus to begin with, the full quantum state of the three qubits between Alice and Bob is (note, first $2$ qubits are with Alice and the third qubit is with Bob)\n",
    "\n",
    "$$= \\big (\\alpha \\ket{0} + \\beta \\ket{1}\\big) \\big(\\frac {\\ket{00} + \\ket{11}}{\\sqrt{2}} \\big) = \\frac {\\big( \\alpha \\ket{000} + \\alpha \\ket{011} + \\beta \\ket{100} + \\beta \\ket{111} \\big)}{\\sqrt{2}}\n"
   ]
  },
  {
   "cell_type": "markdown",
   "metadata": {},
   "source": [
    "- Alice applies a $CNOT$ gate with the message qubit as the control and her qubit of the EPR pair as the target. The resulting state now is, \n",
    "\n",
    "$$ = \\frac {\\big( \\alpha \\ket{000} + \\alpha \\ket{011} + \\beta \\ket{110} + \\beta \\ket{101} \\big)}{\\sqrt{2}}$$ \n",
    "This can also be written as follows: \n",
    "$$ = \\frac {\\alpha \\ket{0} \\big( \\ket{00} + \\ket{11} \\big) + \\beta \\ket{1} \\big( \\ket{10} + \\ket{01} \\big)}{\\sqrt{2}}$$ \n",
    "\n",
    "\n",
    "- She then applies a Hadamard gate to the message qubit (the first qubit).\n",
    "\n",
    "$$ = \\frac {\\alpha \\big (\\ket{0} + \\ket{1})  \\big( \\ket{00} + \\ket{11} \\big) + \\beta \\big (\\ket{0} - \\ket{1})  \\big( \\ket{10} + \\ket{01} \\big)}{2}$$ \n",
    "\n",
    "Simple regrouping of terms leads to the state being rewritten as: (<font color='red'> Check! </font>) \n",
    "\n",
    "$$ =\\frac{\\ket{00}\\big(\\alpha \\ket{0} + \\beta \\ket{1} \\big) + \\ket{01}\\big(\\alpha \\ket{1} + \\beta \\ket{0} \\big)+ \\ket{10}\\big(\\alpha \\ket{0} - \\beta \\ket{1} \\big) + \\ket{11}\\big(\\alpha \\ket{1} - \\beta \\ket{0} \\big)}{2}$$\n",
    "\n",
    "In this expression, first term has Alice's qubits is $\\ket{00}$ and Bob's qubit in state $\\alpha \\ket{0} + \\beta \\ket{1}$ which is exactly the message to be sent. Similarly the other terms can be interpreted. (note in the rest of the terms, Bob's state need to be manipulated to retrieve the original message)\n",
    "\n",
    "- Alice performs measurement on both of her qubits. She can get any of the four computational basis states each with probability $\\frac{1}{4}$.\n",
    "\n",
    "Depeding on the measurement outcomes, Bob's qubit is in the following states:\n",
    "\n",
    "1. \"00\":  $ \\ket{v_{00}} = \\alpha \\ket{0} + \\beta \\ket{1} $\n",
    "2. \"01\":  $ \\ket{v_{01}} = \\alpha \\ket{1} + \\beta \\ket{0} $\n",
    "3. \"10\":  $ \\ket{v_{10}} =  \\alpha \\ket{0} - \\beta \\ket{1} $\n",
    "4. \"11\":  $ \\ket{v_{11}} =  \\alpha \\ket{1} - \\beta \\ket{0} $\n",
    "\n",
    "- The measurement results is then sent to Bob using $2$ classical bits $ (x,y) $, via a classical communication channel. \n",
    "\n",
    "For each $ (x,y) $ pair, Bob has to apply appropriate quantum operator(s) to obtain the message $ \\ket{\\psi} = \\alpha \\big(\\ket{0} + \\beta \\ket{1}\\big) $.\n",
    "\n",
    "\n",
    "- Based on the classical bits obtained, Bob then applies appropriate quantum operators to retrieve the state $\\ket{\\psi}$"
   ]
  },
  {
   "cell_type": "code",
   "execution_count": null,
   "metadata": {},
   "outputs": [],
   "source": []
  },
  {
   "cell_type": "code",
   "execution_count": null,
   "metadata": {},
   "outputs": [],
   "source": []
  },
  {
   "cell_type": "markdown",
   "metadata": {},
   "source": []
  }
 ],
 "metadata": {
  "language_info": {
   "name": "python"
  }
 },
 "nbformat": 4,
 "nbformat_minor": 2
}
