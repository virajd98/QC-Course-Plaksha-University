{
 "cells": [
  {
   "cell_type": "code",
   "execution_count": null,
   "id": "cfdd8d39-8347-4eab-9ccf-b7fd36b9adb1",
   "metadata": {},
   "outputs": [],
   "source": [
    "# !pip install notebook nbconvert\n",
    "\n",
    "# !pip install --upgrade notebook\n"
   ]
  },
  {
   "cell_type": "markdown",
   "id": "1c0e901b",
   "metadata": {},
   "source": [
    "# Lab Session 1\n",
    "#### 20 Jan 2024\n",
    "\n",
    "*prepared by VirajDsouza*"
   ]
  },
  {
   "cell_type": "markdown",
   "id": "73d9659c",
   "metadata": {},
   "source": [
    "<font size=\"28px\" style=\"font-size:28px;\" align=\"left\"><b> Installations and tests </b></font>\n",
    "<br><br>"
   ]
  },
  {
   "cell_type": "markdown",
   "id": "7553794c",
   "metadata": {},
   "source": [
    "Ensure that you have python installed on your system\n",
    "## **Create a Directory for the Course:**\n",
    "\n",
    "Open a terminal and navigate to the desired location where you want to create a directory for this course. \n",
    "\n",
    "    cd\n",
    "\n",
    "Use the following commands to create a directory and navigate into it:\n",
    "\n",
    "\n",
    "    mkdir N&BofQC\n",
    "    cd N&BofQC\n",
    "\n",
    "This will serve as your main working directory for the course.\n",
    "\n",
    "\n",
    "Download all the .ipynb files related to the course and save them in the created directory.\n",
    "\n",
    "If a git repo is made for this course, git clone to fetch the course materials. \n",
    "\n",
    "    git clone https://github.com/quantum-computing-course/materials.git\n",
    "\n",
    "(assuming you have git installed on your system)\n",
    "    \n",
    " \n",
    "## **Create and Activate a Virtual Environment:**\n",
    "\n",
    "Create a virtual environment named 'qcvenv' for the course:\n",
    "\n",
    "    python -m venv qcvenv\n",
    "\n",
    "\n",
    "Activate the virtual environmen:\n",
    "\n",
    "\n",
    "    .\\qcvenv\\Scripts\\activate   # On Windows\n",
    "    \n",
    "To deactivate:\n",
    "\n",
    "    deactivate\n",
    "    \n",
    "Might be useful:\n",
    "\n",
    "    Set-ExecutionPolicy RemoteSigned -Scope CurrentUser\n",
    "\n",
    "\n",
    "\n",
    "## **Install necessary requirements for the course within the virtual environment:**\n",
    "\n",
    "    pip install jupyter\n",
    "\n",
    "This ensures that Jupyter Notebook is available within your virtual environment. This usually comes with the IPython kernel, and you should be able to run Jupyter Notebooks without any issues. After installing Jupyter (and ipykernel), you can register your virtual environment as a Jupyter kernel with:\n",
    "\n",
    "    python -m ipykernel install --user --name=qcvenv\r\n",
    "\n",
    "This command essentially tells Jupyter to recognize your virtual environment as a separate Python kernel \n",
    "\n",
    "Open Jupyter Notebook:\n",
    "\n",
    "    jupyter notebook\n",
    "\n",
    "This will open Jupyter Notebook in your default web browser. Navigate to the directory where you saved the .ipynb files and open the desired notebook.\n",
    "\n",
    "Ensure that you have Python and pip installed on your system.\n",
    "\n",
    "Install Qiskit and Cirq within the virtual environment (you can do these on the commandline itself):\n",
    "\n",
    "    pip install qiskit\n",
    "    pip install cirq\n",
    "This ensures that Qiskit and Cirq are installed within your virtual environment, keeping dependencies isolated As an exercise, install numpy and matplotlib as we are going to need this in the course \n",
    "\n",
    "By following these instructions, you have created a dedicated virtual environment for the course, ensuring that your course related installations are contained within this environment, separate from the system-wide Python installation."
   ]
  },
  {
   "cell_type": "code",
   "execution_count": 3,
   "id": "b06caa64-d5ff-4e83-8a6e-cb374f3271f8",
   "metadata": {},
   "outputs": [
    {
     "name": "stdout",
     "output_type": "stream",
     "text": [
      "{'qiskit': '0.45.2', 'qiskit-aer': '0.13.2', 'qiskit-ignis': None, 'qiskit-ibmq-provider': None, 'qiskit-nature': None, 'qiskit-finance': None, 'qiskit-optimization': None, 'qiskit-machine-learning': None}\n",
      "The version of Qiskit is 0.45.2\n",
      "The version of each component:\n",
      "\n",
      "qiskit -> 0.45.2\n",
      "qiskit-aer -> 0.13.2\n",
      "qiskit-ignis -> None\n",
      "qiskit-ibmq-provider -> None\n",
      "qiskit-nature -> None\n",
      "qiskit-finance -> None\n",
      "qiskit-optimization -> None\n",
      "qiskit-machine-learning -> None\n"
     ]
    }
   ],
   "source": [
    "import qiskit\n",
    "versions = qiskit.__qiskit_version__\n",
    "print(versions)\n",
    "print(\"The version of Qiskit is\",versions['qiskit'])\n",
    "print(\"The version of each component:\")\n",
    "print()\n",
    "for key in versions:\n",
    "    print(key,\"->\",versions[key])"
   ]
  },
  {
   "cell_type": "markdown",
   "id": "1faa48b4-524f-4f1e-be67-668b8e113ceb",
   "metadata": {},
   "source": [
    "<hr id=\"tips\">\n",
    "\n",
    "### Tips\n",
    "\n",
    "_Any terminal/shell command can be executed in the notebook cells by putting an exclamation mark (!) at the beginning of the command._\n",
    "\n",
    "_$\\rightarrow$ To update Qiskit to the latest version, execute the following command in a code cell_\n",
    "\n",
    "    !pip install -U qiskit\n",
    "    \n",
    "_$\\rightarrow$ To uninstall Qiskit, execute the following command in a code cell_\n",
    "\n",
    "    !pip uninstall qiskit"
   ]
  },
  {
   "cell_type": "markdown",
   "id": "ff279db1-83a3-4895-96b1-8744bd363ab6",
   "metadata": {},
   "source": [
    "\n",
    "### An  example quantum program"
   ]
  },
  {
   "cell_type": "markdown",
   "id": "ae5fba00-80e5-4f05-a136-bdfe9b130f5d",
   "metadata": {},
   "source": [
    "Executing a quantum circuit that creates two entangled qubits"
   ]
  },
  {
   "cell_type": "code",
   "execution_count": 4,
   "id": "50a7579c-20d8-4898-850c-a8cb6af2897f",
   "metadata": {},
   "outputs": [
    {
     "name": "stdout",
     "output_type": "stream",
     "text": [
      "The quantum circuit created is as follows:)\n"
     ]
    }
   ],
   "source": [
    "# import the objects from qiskit\n",
    "from qiskit import QuantumRegister, ClassicalRegister, QuantumCircuit, execute, Aer\n",
    "from random import randrange\n",
    "\n",
    "# create a quantum circuit and its register objects\n",
    "qreg = QuantumRegister(2) # quantum register with two quantum bits (qubits)\n",
    "creg = ClassicalRegister(2) # classical register with two classical bit\n",
    "circuit = QuantumCircuit(qreg,creg) # quantum circuit composed by a quantum register and a classical register (the full quantum circuit)\n",
    "\n",
    "# apply a Hadamard gate to the first qubit\n",
    "circuit.h(qreg[0])\n",
    "\n",
    "# set the second qubit to state |1>\n",
    "circuit.x(qreg[1])\n",
    "\n",
    "# apply CNOT(first_qubit,second_qubit)\n",
    "circuit.cx(qreg[0],qreg[1])\n",
    "\n",
    "# measure the both qubits\n",
    "circuit.measure(qreg,creg)\n",
    "\n",
    "print(\"The quantum circuit created is as follows:)\")"
   ]
  },
  {
   "cell_type": "code",
   "execution_count": null,
   "id": "fe49783b-3b35-4f5b-ab8a-f202ce6b86a9",
   "metadata": {},
   "outputs": [],
   "source": [
    "# required to use 'MatplotlibDrawer'\n",
    "!pip install pylatexenc  "
   ]
  },
  {
   "cell_type": "code",
   "execution_count": 7,
   "id": "c238c515-176b-4b9f-9fdf-3323391c45af",
   "metadata": {},
   "outputs": [
    {
     "data": {
      "text/html": [
       "<pre style=\"word-wrap: normal;white-space: pre;background: #fff0;line-height: 1.1;font-family: &quot;Courier New&quot;,Courier,monospace\">      ┌───┐     ┌─┐   \n",
       "q1_0: ┤ H ├──■──┤M├───\n",
       "      ├───┤┌─┴─┐└╥┘┌─┐\n",
       "q1_1: ┤ X ├┤ X ├─╫─┤M├\n",
       "      └───┘└───┘ ║ └╥┘\n",
       "c0: 2/═══════════╩══╩═\n",
       "                 0  1 </pre>"
      ],
      "text/plain": [
       "      ┌───┐     ┌─┐   \n",
       "q1_0: ┤ H ├──■──┤M├───\n",
       "      ├───┤┌─┴─┐└╥┘┌─┐\n",
       "q1_1: ┤ X ├┤ X ├─╫─┤M├\n",
       "      └───┘└───┘ ║ └╥┘\n",
       "c0: 2/═══════════╩══╩═\n",
       "                 0  1 "
      ]
     },
     "execution_count": 7,
     "metadata": {},
     "output_type": "execute_result"
    }
   ],
   "source": [
    "# draw circuit \n",
    "\n",
    "# circuit.draw(output='mpl')\n",
    "# this output will be a \"matplotlib.Figure\" object\n",
    "\n",
    "circuit.draw(style= \"iqp\")"
   ]
  },
  {
   "cell_type": "code",
   "execution_count": null,
   "id": "200ea24b-23f8-482a-86fa-a792d545f880",
   "metadata": {},
   "outputs": [],
   "source": [
    "#qiskit-aer' library is required to use 'Aer provider\n",
    "!pip install qiskit-aer"
   ]
  },
  {
   "cell_type": "code",
   "execution_count": 8,
   "id": "d4f9518d-440c-4cba-b13f-82ac409179a4",
   "metadata": {},
   "outputs": [
    {
     "name": "stdout",
     "output_type": "stream",
     "text": [
      "{'10': 514, '01': 510}\n",
      "Everything looks great! Welcome aboard, everyone. Let's get started\n"
     ]
    }
   ],
   "source": [
    "## execute the circuit 1024 times\n",
    "job = execute(circuit,Aer.get_backend('qasm_simulator'),shots=1024)\n",
    "# get the result\n",
    "counts = job.result().get_counts(circuit)\n",
    "print(counts)\n",
    "\n",
    "print('Everything looks great! Welcome aboard, everyone. Let\\'s get started')"
   ]
  },
  {
   "cell_type": "markdown",
   "id": "a7c47004-6287-46e4-bed0-ef48ba8cefbd",
   "metadata": {},
   "source": [
    "## Simulators vs Quantum Computers"
   ]
  },
  {
   "cell_type": "markdown",
   "id": "8209ab4e-8122-4aec-9313-c0cc07744ef6",
   "metadata": {},
   "source": [
    "# Simulators\n",
    "\n",
    "1. Mimics quantum computations but,uses  classical computation (classical bits). No quantum phenomena leveraged here. No quantum hardware.\n",
    "2. Runs at classical speeds (depending on your systems performance). \n",
    "May struggle with complex quantum algorithms.\n",
    "3. Virtually error-free, *simulates* idealized quantum behavior.\n",
    "\n",
    "# Quantum Computers\n",
    "\n",
    "1. Performs computations using qubits. Quantum phenomena like superposition,  entanglement, etc leveraged. Requires physical qubits and control systems (quantum hardwares).\n",
    "2. Has potential for exponential speedup in specific algorithms. \n",
    "3. Qubits susceptible to quantum errors due to decoherence and noise. \n",
    "Requires error-correction techniques for fault-tolerant quantum computation. Current systems are small and imperfect, known as noisy, intermediate scale quantum computers (NISQ)\n",
    "\n",
    "For learning purpose, we shall run programs mostly on Simulators throughout the course but here and there we will send our algorithms to real quantum computers for execution and study the results. Note that the latter is time consuming as there are limited quantum computers hence our job has to wait in a queue till our turn arrives"
   ]
  },
  {
   "cell_type": "markdown",
   "id": "8ea2494d-8415-44a9-8712-c425e1d2e548",
   "metadata": {},
   "source": [
    "## Quantum Computing Stack\n",
    "(R. van Meter et al. 2013)\n",
    "\n",
    "![QC Stack](QCstack.jpg)"
   ]
  },
  {
   "cell_type": "markdown",
   "id": "9c180132-9511-4eb4-955f-1ca99decc7db",
   "metadata": {},
   "source": [
    "### QC Commercial Landscape\n",
    "(R. Au-Yeung et al. 2023)\n",
    "\n",
    "![QC Commercial Landscape](QCCL.jpg)\n",
    "\r",
    "Some examples of companies (blue) partnered with \n",
    "quantum tech companies (orange) to advance QC research. Cambridge Quantum Computing (CQC) an \r\n",
    "Honeywell now merged as Quantinuum (red).\n"
   ]
  },
  {
   "cell_type": "markdown",
   "id": "fba5d535-2b89-4062-8a95-5b609765371f",
   "metadata": {},
   "source": [
    "#### Some things:\n",
    "\n",
    "1. Learning Quantum Computing is an exciting journey, and we'll be navigating it together this semester.\n",
    "2. The more you engage in the course lectures, labs, self-study, the better will your final projects be. \n",
    "3. I'll be crafting interactive notebooks like this for the lab sessions of the course, so that you can download and run programs locally. Sometimes exercises (mostly code related) will be put in the notebooks for you to try out.\n",
    "4. Do not hesitate to provide constructive feedback/suggestions, together we can make this a good learning experience."
   ]
  },
  {
   "cell_type": "markdown",
   "id": "685ba176-a4e2-48c9-8948-c65e2f06c5b4",
   "metadata": {},
   "source": [
    "### References:\n",
    "\n",
    "1. R. van Meter and D. Horsman. A blueprint for \n",
    "building a quantum compute.  Commun. ACM \r\n",
    "56:84–93, 2013. doi: 10.1145/249456\n",
    "2. R. Au-Yeung et al. 2023, Quantum algorithms for scientific applications, Can be found at https://arxiv.org/abs/2312.149048."
   ]
  },
  {
   "cell_type": "markdown",
   "id": "3f1ce8c1-82c3-457f-95da-17804fa5ec5d",
   "metadata": {},
   "source": [
    "#### Optional Homework:\n",
    "\n",
    "1. Read section 1 (Introduction) of R. Au-Yeung et al. 2023.\n",
    "\n",
    "2. https://youtu.be/r5NQecwZs1A?si=bHE7pfcfVPlr-PvL  ( approx 8 minutes)"
   ]
  }
 ],
 "metadata": {
  "kernelspec": {
   "display_name": "qcvenv",
   "language": "python",
   "name": "qcvenv"
  },
  "language_info": {
   "codemirror_mode": {
    "name": "ipython",
    "version": 3
   },
   "file_extension": ".py",
   "mimetype": "text/x-python",
   "name": "python",
   "nbconvert_exporter": "python",
   "pygments_lexer": "ipython3",
   "version": "3.11.5"
  }
 },
 "nbformat": 4,
 "nbformat_minor": 5
}
