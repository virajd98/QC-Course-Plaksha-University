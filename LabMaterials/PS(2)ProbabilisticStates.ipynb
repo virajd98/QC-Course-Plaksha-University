{
 "cells": [
  {
   "cell_type": "markdown",
   "id": "eabe24ed-c2a6-4a8f-a1be-9baf8aed5972",
   "metadata": {},
   "source": [
    "# One Bit\n",
    "\n",
    "In daily life, we use decimal number system. It is also called base-10 system, because we have 10 digits:\n",
    "\n",
    "$ 0,~1,~2,~3,~4,~5,~6,~7,~8, \\text{ and } 9  $. \n",
    "\n",
    "In computer science, the widely used system to represent information is binary, which has only two digits:\n",
    "\n",
    "$ 0 $ and $ 1 $. These are called bits. You need only these two digits to write any number in binary.\n",
    "\n",
    "Bit (or binary digit) is the basic unit of information used in computer science and information theory. \n",
    "\n",
    "It can also be seen as the smallest \"useful\" memory unit, which has two states named 0  and 1. \n",
    "\n",
    "At any moment, a bit can be in either state 0 or state 1 (deterministic). "
   ]
  },
  {
   "cell_type": "markdown",
   "id": "e8dc8ee1-47cb-4ce6-a8ec-1791ddf39a02",
   "metadata": {},
   "source": [
    "<h4> Four operators </h4>\n",
    "\n",
    "How many different operators can be defined on a *single* bit?\n",
    "\n",
    "<i>An operator, depending on the current state of the bit, updates the state of bit (the result may be the same state).</i> \n",
    "\n",
    "We can apply four different operators to a single bit:\n",
    "\n",
    "1. Identity: $ I(0) = 0 $ and $ I(1) = 1 $\n",
    "2. Negation: $ NOT(0) = 1 $ and $ NOT(1) = 0 $\n",
    "3. Constant (Zero): $ ZERO(0) = 0 $ and $ ZERO(1) = 0 $\n",
    "4. Constant (One): $ ONE(0) = 1 $ and $ ONE(1) = 1 $\n",
    "</ol>\n",
    "The first operator is called IDENTITY, because it does not change the content/value of the bit.\n",
    "\n",
    "The second operator is named NOT, because it negates (flips) the value of bit. \n",
    "\n",
    "<i>Remark that 0 and 1 also refer to Boolean values False and True, respectively, and, False is the negation of True, and True is the negation of False.</i>\n",
    "\n",
    "The third (and fourth) operator returns a constant value 0 (and 1), whatever the input is."
   ]
  },
  {
   "cell_type": "markdown",
   "id": "05f5a195-c663-412e-bccd-5bda1822e705",
   "metadata": {},
   "source": [
    "<h4> Table representation </h4>\n",
    "\n",
    "In our representations, the direction of the transitions are from the top to the left, i.e., the initial states are on the top and the final states are on the left:\n",
    "\n",
    "$\n",
    "    \\begin{array}{c|c}\n",
    "        & initialstates \\\\ \\hline\n",
    "        finalstates&\\hookleftarrow\n",
    "    \\end{array}\n",
    "$\n",
    "\n",
    "We can represent the transitions of each operator by a table:\n",
    "\n",
    "<!-- $\n",
    "I = \\begin{array}{lc|cc} \n",
    "     & & initial & states \\\\ \n",
    "    & \\hookleftarrow & \\mathbf{0} & \\mathbf{1} \\\\ \\hline \n",
    "    final & \\mathbf{0} & \\mbox{goes-to} & \\emptyset \\\\  \n",
    "    states & \\mathbf{1} & \\emptyset & \\mbox{goes-to}  \\end{array} ,\n",
    "$\n",
    "where \n",
    "- the header (first row) represents the initial values, and\n",
    "- the first column represents the final values.\n",
    "\n",
    " -->\n",
    "\n",
    "We can define the transitions numerically:\n",
    "- we use 1 if there is a transition between two states, and, \n",
    "- we use 0 if there is no transition between two states.\n",
    "\n",
    "$\n",
    "I = \\begin{array}{lc|cc} \n",
    "    & & initial & states \\\\ \n",
    "    & \\hookleftarrow & \\mathbf{0} & \\mathbf{1} \\\\ \\hline \n",
    "    final & \\mathbf{0} & 1 & 0 \\\\  \n",
    "    states & \\mathbf{1} & 0 & 1  \\end{array}\n",
    "$"
   ]
  },
  {
   "cell_type": "markdown",
   "id": "802c960c-36bf-40f9-a408-781c88d6af78",
   "metadata": {},
   "source": [
    "The values in <b>bold</b> are the initial and final values of the bits. The non-bold values represent the transitions.\n",
    "\n",
    "- The top-left non-bold 1 represents the transtion $ 0 \\rightarrow 0 $.\n",
    "- The bottom-right non-bold 1 represents the transtion $ 1 \\rightarrow 1 $. \n",
    "- The top-right non-bold 0 means that there is no transition from 1 to 0.\n",
    "- The bottom-left non-bold 0 means that there is no transition from 0 to 1.\n",
    "    \n",
    "The reader may think that the values 0 and 1 are representing the transitions as False (Off) and True (On), respectively. \n",
    "\n",
    "Similarly, we can represent the other operators as below:"
   ]
  },
  {
   "cell_type": "markdown",
   "id": "ab9a318a",
   "metadata": {},
   "source": [
    "$\n",
    "ONE= \\begin{array}{lc|cc}\n",
    "& & \\text{initial} & \\text{states} \\\\\n",
    "& \\hookleftarrow & \\mathbf{0} & \\mathbf{1} \\\\\n",
    "\\hline\n",
    "\\text{final} & \\mathbf{0} & 0 & 0 \\\\\n",
    "\\text{states} & \\mathbf{1} & 1 & 1\n",
    "\\end{array}\n",
    "$\n"
   ]
  },
  {
   "cell_type": "markdown",
   "id": "366dc0e2",
   "metadata": {},
   "source": [
    "$\n",
    "ZERO= \\begin{array}{lc|cc}\n",
    "& & \\text{initial} & \\text{states} \\\\\n",
    "& \\hookleftarrow & \\mathbf{0} & \\mathbf{1} \\\\\n",
    "\\hline\n",
    "\\text{final} & \\mathbf{0} & 1 & 1 \\\\\n",
    "\\text{states} & \\mathbf{1} & 0 & 0\n",
    "\\end{array}\n",
    "$\n"
   ]
  },
  {
   "cell_type": "markdown",
   "id": "2a9d1cd5",
   "metadata": {},
   "source": [
    "$\n",
    "NOT= \\begin{array}{lc|cc}\n",
    "& & \\text{initial} & \\text{states} \\\\\n",
    "& \\hookleftarrow & \\mathbf{0} & \\mathbf{1} \\\\\n",
    "\\hline\n",
    "\\text{final} & \\mathbf{0} & 0 & 1 \\\\\n",
    "\\text{states} & \\mathbf{1} & 1 & 0\n",
    "\\end{array}\n",
    "$\n"
   ]
  },
  {
   "cell_type": "markdown",
   "id": "8ee0833e-dba8-47bc-8748-94b48270d65e",
   "metadata": {},
   "source": [
    "<h4> Reversibility and Irreversibility </h4>\n",
    "\n",
    "After applying Identity or NOT operator, we can easily determine the initial value by checking the final value. \n",
    "<ul>\n",
    "    <li> In the case of Identity operator, we simply say the same value. </li>\n",
    "    <li> In the case of NOT operator, we simply say the other value, i.e., if the final value is 0 (resp., 1), then we say 1 (resp., 0). </li>\n",
    "</ul>\n",
    "\n",
    "However, we cannot know the initial value by checking the final value after applying ZERO or ONE operator. \n",
    "\n",
    "Based on this observation, we can classify the operators into two types: <i>Reversible</i> and <i>Irreversible</i>.\n",
    "<ul>\n",
    "    <li> If we can recover the initial value(s) from the final value(s), then the operator is called reversible like Identity and NOT operators. </li>\n",
    "    <li> If we cannot know the initial value(s) from the final value(s), then the operator is called irreversible like ZERO and ONE operators. </li>\n",
    "</ul>\n",
    "\n",
    "<b> This classification is important, as the quantum evolution operators are reversible </b> (as long as the system is closed).\n",
    "\n",
    "The Identity and NOT operators are two fundamental quantum operators."
   ]
  },
  {
   "cell_type": "markdown",
   "id": "17f56bfe-c55b-410e-b15c-393a32423b6f",
   "metadata": {},
   "source": [
    "# Classical Coin - Probabilistic Bit\n",
    "\n",
    "A coin has two sides: <i>Heads</i> and <i>Tails</i>. This is a nice intuitive example to understand the concept of Probabilistic bit\n",
    "\n",
    "After flipping a coin, we get either Heads or Tails. We can represent these two different cases by a single bit:\n",
    "<ul>\n",
    "    <li> 0 represents Heads </li>\n",
    "    <li> 1 represents Tails </li>\n",
    "</ul>"
   ]
  },
  {
   "cell_type": "markdown",
   "id": "59c19a27-7c59-455f-8048-d5339bca464f",
   "metadata": {},
   "source": [
    "<h4> Flipping a fair coin </h4>\n",
    "\n",
    "If our coin is fair, then the probabilities of getting Heads and Tails are equal:\n",
    "\n",
    "$ p= \\dfrac{1}{2} = 0.5 $.\n",
    "\n",
    "**Flipping a fair coin can be represented as an operator:** (a matrix, if you wish)\n",
    "\n",
    "Here is the table by using $\\mathbf{0}$ (Head) and $\\mathbf{1}$ (Tail) as the states:\n",
    "\n",
    "$\n",
    "FairCoin = \\begin{array}{c|cc} \\hookleftarrow & \\mathbf{0} & \\mathbf{1} \\\\ \\hline \\mathbf{0} & \\dfrac{1}{2} & \\dfrac{1}{2} \\\\  \\mathbf{1} & \\dfrac{1}{2} & \\dfrac{1}{2}  \\end{array} \n",
    "$"
   ]
  },
  {
   "cell_type": "markdown",
   "id": "7267a20d-84e1-4831-8052-282b8022f6d1",
   "metadata": {},
   "source": [
    "<h4> Flipping a biased coin </h4>\n",
    "\n",
    "Our coin may have a bias. \n",
    "\n",
    "For example, the probability of getting heads is greater than the probability of getting tails.\n",
    "\n",
    "By using 0 and 1 as the states: \n",
    "\n",
    "$\n",
    "BiasedCoin = \\begin{array}{c|cc} \\hookleftarrow & \\mathbf{0} & \\mathbf{1} \\\\ \\hline \\mathbf{0} & 0.6 & 0.6\\\\  \\mathbf{1} & 0.4 & 0.4 \\end{array}\n",
    "$\n",
    "\n",
    "**Notice we have a probabilistic operator for probabilistic bits**"
   ]
  },
  {
   "cell_type": "markdown",
   "id": "814a1282-a3df-4bc0-a765-d45612b9a6ab",
   "metadata": {},
   "source": [
    "### Exercise: Game with 1 biased coin\n",
    "\n",
    "Flip the above biased coin 100 times. Calculate the total numbers of heads and tails, and then check the ratio of the number of heads and the number of tails.\n",
    "\n",
    "Do the same experiment 1000 times.\n",
    "\n",
    "Do the same experiment 10,000 times.\n",
    "\n",
    "Do the same experiment 100,000 times.\n",
    "\n",
    "Do your results get close to the ideal case of $1.5$?"
   ]
  },
  {
   "cell_type": "markdown",
   "id": "3809dcc4-4d85-499f-831b-7f5a37ad326a",
   "metadata": {},
   "source": [
    "### Exercise: Game with 2 biased coins\n",
    "\n",
    "Our friend Alice has one dollar and one cent. \n",
    "\n",
    "Both coins are biased, and the probabilities of getting heads ($0$) and tails ($1$) are as follows:\n",
    "\n",
    "- one dollar: heads with probability $ 0.6 $ and tails with probability $ 0.4 $.\n",
    "- one cent: heads with probability $ 0.3 $ and tails with probability $ 0.7 $.\n",
    "\n",
    "Alice flips her coins based on the following <b>protocol</b>: \n",
    "<ol> \n",
    "    <li> she starts with flipping one dollar; </li>  (We should fix an initial condition. Otherwise, Alice cannot pick any of the coins at the beginning of game)\n",
    "    <li> whenever she gets heads, she flips one dollar in the next round; and, </li>\n",
    "    <li> whenever she gets tails, she flips one cent in the next round. </li>\n",
    "</ol>\n",
    "\n",
    "By using a single bit, we summarize all transitions of this game as follows:"
   ]
  },
  {
   "cell_type": "markdown",
   "id": "97087f34-7f4a-4a37-bc67-64b4c8adcdf3",
   "metadata": {},
   "source": [
    "$\n",
    "GameCoins   \\begin{array}{c|cc} \\hookleftarrow & \\mathbf{0} & \\mathbf{1} \\\\ \\hline \\mathbf{0} & 0.6 & 0.3 \\\\  \\mathbf{1} & 0.4 & 0.7  \\end{array}\n",
    "$"
   ]
  },
  {
   "cell_type": "markdown",
   "id": "554a77cb-24bf-415a-9888-d86cab8d17ac",
   "metadata": {},
   "source": [
    "\n",
    "Suppose that Alice <b>secretly</b> tosses her coins based on the defined protocol.\n",
    "\n",
    "*Using python, calculate the probabilities of Alice seeing heads and tails after five coin tosses.*\n"
   ]
  },
  {
   "cell_type": "markdown",
   "id": "21734164-0b62-411c-971c-4a99e91c6d79",
   "metadata": {},
   "source": [
    "### Idea of Probabilistic 'state'\n",
    "\n",
    "Suppose that we have a system (say, a classical coin) with 2 distiguishable states: $ s_1 $ and $s_2 $ (say: head, tail - a classical 2-state system) \n",
    "\n",
    "We expect the system to be in one of them at any given moment (classically). In other words, we can say that the system is in one of the states with probability 1, and in any other state with probability 0. \n",
    "\n",
    "We can represent each state as a column vector ( by using the vectors in standard basis of $ \\mathbf{R}^2 $ ):\n",
    "\n",
    "Say for the state 'head', \n",
    "$$\n",
    "    e_1 = \\begin{pmatrix} \n",
    "    1\\\\ 0 \n",
    "    \\end{pmatrix}  \n",
    "$$\n",
    "\n",
    "Say for the state 'tail', \n",
    "$$\n",
    "e_2 = \\begin{pmatrix} \n",
    "0\\\\ 1 \n",
    "\\end{pmatrix}\n",
    "$$\n",
    "\n",
    "This representation helps us to represent the information about a system when it is in more than one state with certain probabilities (say, the situation when coins are tossed secretly). \n",
    "\n",
    "For example, suppose that the system is in states $ e_1 $ and $ e_2 $ (head and tail) with probabilities $ 0.35 $ and $0.65$ respectively. \n",
    "\n",
    "Then, we can say that the system is in the following **probabilistic state** :\n",
    "\n",
    "$$ 0.35 \\cdot e_1 + 0.65 \\cdot e_2 =  0.35 \\cdot \\begin{pmatrix} 1\\\\ 0 \\end{pmatrix} + 0.65 \\cdot \\begin{pmatrix} 0\\\\ 1 \\end{pmatrix} = \\begin{pmatrix} 0.35\\\\ 0.65 \\end{pmatrix}$$\n",
    "\n",
    "**Intuition:** If the system is a biased classical coin, the first entry shows the probability of getting heads, and the second entry shows the probability of getting tails and the column vector is a neat description (using the language of linear algebra) for describing the state of a coin during the toss (or after a secret toss) when the outcome is not known. \n",
    "\n",
    "**Notice that the sum of the column elements (sum of probabilities) must add to one.**\n"
   ]
  },
  {
   "cell_type": "markdown",
   "id": "f0e42159-c9ca-4340-ad36-d3b03cb6de76",
   "metadata": {},
   "source": [
    "Thus, a probabilistic state can be represented a linear combination of the vectors in the standard basis. \n",
    "    \n",
    "Here coefficients (scalars) must satisfy certain properties:\n",
    "<ol>\n",
    "    <li> Each coefficient is non-negative </li>\n",
    "    <li> The summation of coefficients is 1 </li>\n",
    "</ol>\n",
    "\n",
    "Alternatively, we can say that  *a probabilistic state is a probability distribution over deterministic states.*"
   ]
  },
  {
   "cell_type": "markdown",
   "id": "17b8faa2-cf45-44b1-a9d2-64bc232af738",
   "metadata": {},
   "source": [
    "### Exercise \n",
    "\n",
    "For a system with $6$ states, randomly create a probabilistic state. Do you have any system in mind that can have such a state?"
   ]
  },
  {
   "cell_type": "markdown",
   "id": "7879fd96-4a81-40bb-83ef-abe6c232c2ae",
   "metadata": {},
   "source": [
    "## Two Probabilistic Bits"
   ]
  },
  {
   "cell_type": "markdown",
   "id": "1b1a29b6-4ea5-4e87-be1e-15c885176dfb",
   "metadata": {},
   "source": [
    "##### Suppose that we have two probabilistic bits, and our probabilistic states respectively are\n",
    "\n",
    "$\n",
    "\\begin{pmatrix} \n",
    "0.2\\\\ 0.8 \n",
    "\\end{pmatrix}$\n",
    "and\n",
    "$\\begin{pmatrix} \n",
    "0.6\\\\ 0.4 \n",
    "\\end{pmatrix}\n",
    "$\n",
    "\n",
    "If we combine both bits as a single system, then what is the state of the combined system?\n",
    "\n",
    "For getting an intuition behind this, think of tossing two biased coins secretely and asking the question - what is the state of the system of two coins? "
   ]
  },
  {
   "cell_type": "markdown",
   "id": "5c18d244-206f-4af4-989c-9c2665898f60",
   "metadata": {},
   "source": [
    "In total, we have four different states. We can name them as follows:\n",
    "<ul>\n",
    "    <li>00: both bits are in state 0 (both heads, if the system is 2 coins)\n",
    "    <li>01: the first bit is in state 0 and the second bit is in state 1</li>\n",
    "    <li>10: the first bit is in state 1 and the second bit is in state 0</li>\n",
    "    <li>11: both bits are in state 1</li>\n",
    "</ul>"
   ]
  },
  {
   "cell_type": "markdown",
   "id": "ab8ac1c5-b068-4f06-9c05-2f0bdf701ded",
   "metadata": {},
   "source": [
    "\n",
    "The vector representation of state 0 is $ \\begin{pmatrix} 1\\\\ 0 \\end{pmatrix} = \\ket{0}$. Similarly, the vector representation of state 1 is $ \\begin{pmatrix} 0\\\\ 1 \\end{pmatrix} = \\ket{1}$\n",
    "\n",
    "Then, the probabilistic state $ \\begin{pmatrix} 0.2\\\\ 0.8 \\end{pmatrix}$ is represented as $ 0.2 \\begin{pmatrix} 1\\\\ 0 \\end{pmatrix} + 0.8 \\begin{pmatrix} 0\\\\ 1 \\end{pmatrix} $ and the state $ \\begin{pmatrix} 0.6\\\\ 0.4 \\end{pmatrix}$ is represented as $ 0.6 \\begin{pmatrix} 1\\\\ 0 \\end{pmatrix} + 0.4 \\begin{pmatrix} 0\\\\ 1 \\end{pmatrix} $."
   ]
  },
  {
   "cell_type": "markdown",
   "id": "5a23f22c-5550-46b8-8433-d9acb1768927",
   "metadata": {},
   "source": [
    "\n",
    "<h3> Composite systems </h3>\n",
    "\n",
    "When two systems are composed, then their states are **tensored** to calculate the state of composite system.\n",
    "\n",
    "The probabilistic state of the composite system is $ \\begin{pmatrix} 0.2 \\begin{pmatrix} 1\\\\ 0 \\end{pmatrix} + 0.8 \\begin{pmatrix} 0\\\\ 1 \\end{pmatrix}\\end{pmatrix} \\otimes \\begin{pmatrix} 0.6 \\begin{pmatrix} 1\\\\ 0 \\end{pmatrix} + 0.4 \\begin{pmatrix} 0\\\\ 1 \\end{pmatrix}\\end{pmatrix} = (0.2 \\ket{0} + 0.8 \\ket{1}) \\otimes( 0.6 \\ket{0} + 0.4 \\ket{1}) $"
   ]
  },
  {
   "cell_type": "markdown",
   "id": "2a91e704-d93f-4ea4-b9eb-ec8b617ce9aa",
   "metadata": {},
   "source": [
    "**Tensor product distributes over addition in the same way as the distribution of multiplication over addition**\n",
    "\n",
    "$\n",
    "\\begin{aligned}\n",
    "&\\left( \\alpha \\ket{0} + \\beta \\ket{1} \\right) \\otimes \\left( \\gamma \\ket{0} + \\delta \\ket{1} \\right) \\\\\n",
    "&= \\alpha \\ket{0} \\otimes \\left( \\gamma \\ket{0} + \\delta \\ket{1} \\right) + \\beta \\ket{1} \\otimes \\left( \\gamma \\ket{0} + \\delta \\ket{1} \\right) \\quad \\text{(Distribution)} \\\\\n",
    "&= \\alpha \\left( \\ket{0} \\otimes \\gamma \\ket{0} \\right) + \\alpha \\left( \\ket{0} \\otimes \\delta \\ket{1} \\right) + \\beta \\left( \\ket{1} \\otimes \\gamma \\ket{0} \\right) + \\beta \\left( \\ket{1} \\otimes \\delta \\ket{1} \\right) \\quad \\text{(Distribution)} \\\\\n",
    "&= \\alpha \\gamma \\ket{00} + \\alpha \\delta \\ket{01} + \\beta \\gamma \\ket{10} + \\beta \\delta \\ket{11} \\quad \\text{(Tensor product properties)}\n",
    "\\end{aligned}\n",
    "$\n"
   ]
  },
  {
   "cell_type": "markdown",
   "id": "1195757b-9060-4ca8-be80-81e0bad29af1",
   "metadata": {},
   "source": [
    "How to calculate tensor product?"
   ]
  },
  {
   "cell_type": "markdown",
   "id": "a9dcf5c1-9629-47dd-a517-4a35a012070a",
   "metadata": {},
   "source": [
    "\n",
    "$$\n",
    "\\begin{aligned}\n",
    "&\\ket{0} \\otimes \\ket{1} \\\\\n",
    "&= \\begin{pmatrix} \\small 1 \\\\ 0 \\end{pmatrix} \\otimes \\begin{pmatrix} \\small 0 \\\\ 1 \\end{pmatrix} \\quad \\text{(Matrix representation of ket states)} \\\\\n",
    "&= \\begin{pmatrix} \\small 1 \\begin{pmatrix} \\small 0 \\\\ 1 \\end{pmatrix} \\\\ 0 \\begin{pmatrix} \\small 0 \\\\ 1 \\end{pmatrix} \\end{pmatrix} \\quad \\text{(Tensor product of vectors)} \\\\\n",
    "&= \\begin{pmatrix} \\small 0 \\\\ 1 \\\\ 0 \\\\ 0 \\end{pmatrix} \\quad \\text{(Matrix multiplication)}\n",
    "\\end{aligned}\n",
    "$$\n"
   ]
  },
  {
   "cell_type": "markdown",
   "id": "1ce02648-0afd-4def-85e9-d97528d1ae59",
   "metadata": {},
   "source": [
    "### Exercises"
   ]
  },
  {
   "cell_type": "markdown",
   "id": "57d59615-d438-45f3-9ed4-be38086f1021",
   "metadata": {},
   "source": [
    "1. Find the probabilistic state of the composite system we started with in this section.\n",
    "\n",
    "2. Suppose that we have four ($4$) bits. \n",
    "\n",
    "    Number 9 is represented as $ 1001 $ in binary. Verify that the vector representation of $ \\ket{1001} $ is the zero vector except its $10$th          entry, which is 1.\n",
    "\n",
    "    Number 7 is represented as $ 0111 $ in binary. Verify that the vector representation of $ \\ket{0111} $ is the zero vector except its $8$th        entry, which is 1.\n",
    "\n",
    "    Generalize this idea for any number of bits."
   ]
  },
  {
   "attachments": {
    "1d853fc7-184a-4d85-8f57-361d046c2fe8.png": {
     "image/png": "[encoded data removed]"
    }
   },
   "cell_type": "markdown",
   "id": "a39ab028-568f-4f1b-bff5-2aca817cfaf1",
   "metadata": {},
   "source": [
    "##### The ideas for this material where taken from QWorld's graduate level quantum course and has been used with permission from Abuzer Yakaryilmaz.  \n",
    "\n",
    "![image.png](attachment:1d853fc7-184a-4d85-8f57-361d046c2fe8.png)"
   ]
  }
 ],
 "metadata": {
  "kernelspec": {
   "display_name": "qcvenv",
   "language": "python",
   "name": "qcvenv"
  },
  "language_info": {
   "codemirror_mode": {
    "name": "ipython",
    "version": 3
   },
   "file_extension": ".py",
   "mimetype": "text/x-python",
   "name": "python",
   "nbconvert_exporter": "python",
   "pygments_lexer": "ipython3",
   "version": "3.11.5"
  }
 },
 "nbformat": 4,
 "nbformat_minor": 5
}
