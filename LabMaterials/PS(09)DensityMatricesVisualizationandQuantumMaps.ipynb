{
 "cells": [
  {
   "cell_type": "markdown",
   "metadata": {},
   "source": [
    "# Density Matrices"
   ]
  },
  {
   "cell_type": "markdown",
   "metadata": {},
   "source": [
    "---"
   ]
  },
  {
   "cell_type": "markdown",
   "metadata": {},
   "source": [
    "#### A quick motivation for studying the density matrix formalism:\n",
    "\n",
    "- Instead of having a single state vector ($\\ket{\\psi}$) describing a quantum system (example: qubits), we only know that our system is in state $\\ket{\\psi_1}$ with probability $p_1$, or in state $\\ket{\\psi_2}$ with probability $p_2$, and so on. In other words, we have a ensemble of pure states $\\{q_i, \\psi_i\\}$ where $i$ runs from $1$ to $N$ describing our system. Note that **ensemble** here refers to a **classical mixture** of quantum states.\n",
    "\n",
    "**How do we describe such systems?** \n",
    "\n",
    "We define an operator called 'density operator' or a density matrix as:\n",
    "$$\\rho= \\sum_{i=1} ^{N} p_{i} \\ket{\\psi_i}\\bra{\\psi_i}$$\n",
    "Ofcourse requiring, $\\sum_{i=1} ^{N} p_{i} = 1$. In the density matrix language we call $\\rho$ as the state of the system, so from now on in this material whenever we say state, think of $\\rho$ (a matrix and not a vector), unless $\\ket{\\psi}$ is explicitly stated.\n",
    "\n",
    "This is \n",
    "completely equivalent to descibing the quantum system's state as $\\{q_i, \\psi_i\\}$, but the representation $\\rho$ has the advantage of being directly useful for certain calculations.\n",
    "\n",
    "- Just like quantum states cannot be any arbitrary complex column vector (recall, sum on amplitude sqaures need to be one for quantum states), quantum states represented by $\\rho$ cannot be any random matrix.\n",
    "\n",
    "**Properties of $\\rho$:**\n",
    "\n",
    "- Trace($\\rho$)=1\n",
    "- $\\rho$ is a postive operator (i.e, all the eigenvalues of $\\rho$ are positive)"
   ]
  },
  {
   "cell_type": "markdown",
   "metadata": {},
   "source": [
    "<font color='red'>**Exercise:** 1. Show that the definition of $\\rho$ given above satisfies the desired properties. </font>\n",
    "\n",
    "<font color='red'>**Exercise:** 2. Show that the positivity of $\\rho$ implies that $\\rho$ is Hermitian. </font>"
   ]
  },
  {
   "cell_type": "markdown",
   "metadata": {},
   "source": [
    "---"
   ]
  },
  {
   "cell_type": "markdown",
   "metadata": {},
   "source": [
    "- **Pure states:** If the state of the quantum system is $\\rho= \\ket{\\psi}\\bra{\\psi}$, then the system is pure, in other words a quantum system is pure if the ensemble has just one quantum state with probability $1$.\n",
    "\n",
    "For a pure state, Trace($\\rho^2$)=1= Trace($rho$)  (easy to show this from the definition of $\\rho$ for pure state)\n",
    "\n",
    "Hence $\\rho^2 = \\rho$ for a pure state (matrices with this property are called **projectors**)\n",
    "\n",
    "- **Mixed states:** If the state of the quantum system is $\\rho= \\sum_{i=1} ^{N} p_{i} \\ket{\\psi_i}\\bra{\\psi_i}$ where $N>1$, then its mixed. Here the system can be in any of the states in the ensemble with certain probabilities.\n",
    "\n",
    "For a mixed state Trace($\\rho^2$)<1   (easy to show this from the definition of $\\rho$ for mixed state)"
   ]
  },
  {
   "cell_type": "markdown",
   "metadata": {},
   "source": [
    "- **Expectation value:** Consider an observable $A$ measured for a system in the state $\\sum_{i=1} ^{N} p_{i} \\ket{\\psi_i}\\bra{\\psi_i}$ . \n",
    "In the state vector language for a pure qauntum state $\\ket{\\psi}$, $<A>=\\bra{\\psi}A\\ket{\\psi}$, what if the state is now represented by $\\rho$, in class it was shown that:\n",
    "\n",
    "$ <A> = tr(A\\rho) $ where $tr$ stands for Trace. \n",
    "\n",
    "- All postulates of quantum mechanics in the statevector language (where states are column vectors) can be rewritten in the density operator language (where states are matrices).\n",
    "\n",
    "![POSTULATES OF QM](Images/postulateDM.png)\n",
    "\n",
    "(Lidar, 2020)\n"
   ]
  },
  {
   "cell_type": "markdown",
   "metadata": {},
   "source": [
    "---"
   ]
  },
  {
   "cell_type": "markdown",
   "metadata": {},
   "source": [
    "## Visualizing Density Matrix of a Qubit:"
   ]
  },
  {
   "cell_type": "markdown",
   "metadata": {},
   "source": [
    "Just like a pure one-qubit quantum state $(\\ket{\\psi})$ can be geometrically pictured as points on the surface of the Bloch sphere, it should be possible for one-qubit states given interms of $\\rho$ to have a bloch sphere representation. "
   ]
  },
  {
   "cell_type": "markdown",
   "metadata": {},
   "source": [
    "**Recall:** The unique representation of a one qubit state can be written in terms of $ (\\theta,\\phi) $ as:\n",
    "\n",
    "##### $ \\ket{u} = \\cos ({\\frac{\\theta}{2}}) \\ket{0} + e^{i\\phi} \\sin ({\\frac{\\theta}{2}})\\ket{1} $.\n",
    "\n",
    "where, $\\theta \\in (0,\\pi) $ and $\\phi \\in (0, \\pi)$ \n",
    "\n",
    "Thus given $ (\\theta,\\phi) $ for a one-qubit state, its position on the Bloch sphere surface can be uniquely determined. This has been explained in detail in $PS(04a)$"
   ]
  },
  {
   "cell_type": "markdown",
   "metadata": {},
   "source": [
    "#### **Deriving the Bloch sphere representation of $\\rho$** (Lidar, 2020):\n",
    "\n",
    "- A qubit is a quantum state $\\left|\\psi_i\\right\\rangle$ in a two-dimensional Hilbert space $\\mathcal{H}=\\mathbb{C}^2=\\operatorname{span}\\{|0\\rangle,|1\\rangle\\}$ where $|0\\rangle$ and $|1\\rangle$ form an orthonormal basis for $\\mathcal{H}$. The density operator for any state in this space is thus of the form $\\sum_i p_i\\left|\\psi_i\\right\\rangle \\psi_i \\mid$ and can hence be represented by a $2 \\times 2$ complex matrix of the form\n",
    "$$\n",
    "\\rho=\\left[\\begin{array}{ll}\n",
    "a & b \\\\\n",
    "c & d\n",
    "\\end{array}\\right] .\n",
    "$$\n",
    "\n",
    "- From the properties of $\\rho$ the above matrix can be reduced to an expression with only two variables. First, unit trace condition gives $d=1-a$. Second, Hermiticity of $\\rho$ gives $c=b^*$ and $a$ is real. (check these by equating $\\rho={\\rho^\\dagger}$) Thus, the density matrix is completely parametrized by the **complex number** $b$ (hence $2$ parameters) and the **real number** $a$ and takes the form:\n",
    "$$\n",
    "\\rho=\\left[\\begin{array}{cc} \n",
    "a & b \\\\\n",
    "b^* & 1-a\n",
    "\\end{array}\\right]\\quad \\text{(1)}\n",
    "$$\n",
    "\n",
    "- Positivity of $\\rho$ implies that the eigenvalues $\\lambda_{ \\pm}$ are non-negative. Writing down the characteristic equation and imposing this condition: \n",
    "$$\n",
    "det(\\rho-\\lambda I)=0 \\Rightarrow \\lambda^2-\\lambda+ det (\\rho)=0,\n",
    "$$\n",
    "\n",
    "$$\n",
    "\\lambda_{\\pm}=\\frac{1}{2}(1 \\pm \\sqrt{1-4det(\\rho)}) \\geq 0 \\quad \\text{(2)}\n",
    "$$"
   ]
  },
  {
   "cell_type": "markdown",
   "metadata": {},
   "source": [
    "---"
   ]
  },
  {
   "cell_type": "markdown",
   "metadata": {},
   "source": [
    "#### **A very useful fact to know:**\n",
    "\n",
    "The Pauli matrices ($\\sigma_x, \\sigma_y, \\sigma_z$), along with the identity matrix $I$, form an orthogonal basis for the Hilbert space of all $2 \\times 2$ complex matrices, which means that we can express any $2 \\times 2$ complex matrix $M$ as $ M=c I + a_1 \\sigma^x + a_2 \\sigma^y+ a_3 \\sigma^z $ where $c, a_1, a_2, a_3$ are complex numbers. This can be rewitten as, \n",
    "$$M=c I+\\sum a_k \\sigma^k$$ \n",
    "where, \n",
    "$$ c=\\frac{1}{2} \\operatorname{tr} M, \\quad a_k=\\frac{1}{2} \\operatorname{tr} (\\sigma^k M )$$\n",
    "\n",
    "This fact leads to the bloch sphere representation for $\\rho$."
   ]
  },
  {
   "cell_type": "markdown",
   "metadata": {},
   "source": [
    "---"
   ]
  },
  {
   "cell_type": "markdown",
   "metadata": {},
   "source": [
    "Knowing the above useful fact, and using it on the matrix in $1$, one can see that\n",
    "\n",
    "- Any qubit density matrix can represented by\n",
    "$$\n",
    "\\rho=\\frac{1}{2}\\left(I+\\sum_i v_i \\sigma_i\\right)=\\frac{1}{2}(I+\\vec{v} \\cdot \\vec{\\sigma}),\n",
    "$$\n",
    "where $\\vec{v}=\\left(v_x, v_y, v_z\\right)$ and $\\vec{\\sigma}=\\left(\\sigma_x, \\sigma_y, \\sigma_z\\right)$. In terms of the elements of $\\vec{v}, \\rho$ appears as\n",
    "$$\n",
    "\\rho=\\frac{1}{2}\\left[\\begin{array}{cc}\n",
    "1+v_z & v_x-i v_y \\\\\n",
    "v_x+i v_y & 1-v_z\n",
    "\\end{array}\\right] .\n",
    "$$\n",
    "\n",
    "To relate this to our previous expression of $\\rho$ (equation $1$) let $b=\\frac{1}{2}\\left(v_x-i v_y\\right)$ and $a=\\frac{1}{2}\\left(1+v_z\\right)$. \n",
    "\n",
    "- We call $\\vec{v}$ the **Bloch vector**. The $2 \\times 2$ matrix we have constructed using the Bloch vector is not, however, necessarily a valid quantum state. Unit trace is guaranteed by the construction, (as you can check for yourself) and positivity can be made explicit by noting:\n",
    "$$\n",
    "det(\\rho)=\\frac{1}{4}\\left(1-v_z^2-\\left(v_x^2+v_y^2\\right)\\right)=\\frac{1}{4}\\left(1-\\|\\vec{v}\\|^2\\right),\n",
    "$$\n",
    "\n",
    "Plugging this in $2$, \n",
    "$$\n",
    "\\lambda_{ \\pm}=\\frac{1}{2}(1 \\pm\\|\\vec{v}\\|) \\ge 0\n",
    "$$\n",
    "\n",
    "Thus the relevant constraint that satifies both the inequalties above is: \n",
    "<font color='red'>\n",
    "$$\n",
    "\\mathbf {\\|\\vec{v}\\| \\leq 1}\n",
    "$$\n",
    "</font>\n",
    "\n",
    "- Let us also relate the magnitude of the Bloch vector ($\\|\\vec{v}\\|$) to the purity of the quantum state. If we calculate $\\rho^2$ we find\n",
    "$$\n",
    "\\rho^2=\\frac{1}{4}(I+\\vec{v} \\cdot \\vec{\\sigma})(I+\\vec{v} \\cdot \\vec{\\sigma})=\\frac{1}{4}\\left(I+2 \\vec{v} \\cdot \\vec{\\sigma}+(\\vec{v} \\cdot \\vec{\\sigma})^2\\right) .\n",
    "$$"
   ]
  },
  {
   "cell_type": "markdown",
   "metadata": {},
   "source": [
    "---"
   ]
  },
  {
   "cell_type": "markdown",
   "metadata": {},
   "source": [
    "<font color='red'>**Exercise:** 3. Prove the following relation for the above $\\rho^2$: </font>\n",
    "$$\n",
    "\\operatorname{Tr} \\rho^2=\\frac{1}{2}\\left(1+\\|\\vec{v}\\|^2\\right)\n",
    "$$\n",
    "The above exercise requires you to know:  Pauli matrices are traceless and thus $\\operatorname{Tr}(\\vec{v} \\cdot \\vec{\\sigma})^2=\\|\\vec{v}\\|^2 \\operatorname{Tr} I$ with $\\operatorname{Tr} I=2 $"
   ]
  },
  {
   "cell_type": "markdown",
   "metadata": {},
   "source": [
    "---"
   ]
  },
  {
   "cell_type": "markdown",
   "metadata": {},
   "source": [
    "\n",
    "- <font color='yellow'> **From the expression for $\\operatorname{Tr} \\rho^2$, any unit Bloch vector ($\\|\\vec{v}\\|=1$) will make $\\operatorname{Tr} \\rho^2=1$, i.e., a *pure state*, and Bloch vectors of length less than $1$ ($\\|\\vec{v}\\|<1$)  yield *mixed states.***</font>\n"
   ]
  },
  {
   "cell_type": "markdown",
   "metadata": {},
   "source": []
  }
 ],
 "metadata": {
  "kernelspec": {
   "display_name": "qcvenv",
   "language": "python",
   "name": "qcvenv"
  },
  "language_info": {
   "name": "python",
   "version": "3.11.5"
  }
 },
 "nbformat": 4,
 "nbformat_minor": 2
}
