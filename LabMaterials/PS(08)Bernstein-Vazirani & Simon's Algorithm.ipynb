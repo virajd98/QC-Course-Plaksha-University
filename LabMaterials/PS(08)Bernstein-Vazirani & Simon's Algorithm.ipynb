{
 "cells": [
  {
   "cell_type": "markdown",
   "metadata": {},
   "source": [
    "# Bernstein-Vazirani Algorithm"
   ]
  },
  {
   "cell_type": "markdown",
   "metadata": {},
   "source": [
    "#### Problem Statement:\n",
    "\n",
    "- Given an oracle function $f:\\{0,1\\}^n \\rightarrow \\{0,1\\}$, defined as $ f(\\mathbf{x}) = x \\cdot s $, find the secret bit string $s$."
   ]
  },
  {
   "cell_type": "markdown",
   "metadata": {},
   "source": [
    "**Note:**\n",
    "\n",
    "- $x \\cdot s$ represents the inner product of the bit strings modulo $2$.\n",
    "\n",
    "- The size of the bitstring should be the same as the size of input $x$ for the operation $x.s$ to make sense.\n",
    "\n",
    "- The unitary operator representing the oracle now takes the form:  \n",
    "$$ U_f: \\ket{x}\\ket{y} \\mapsto \\ket{x}\\ket{y \\oplus ( x \\cdot s)} $$\n"
   ]
  },
  {
   "cell_type": "markdown",
   "metadata": {},
   "source": [
    "#### <font color='red'>Exercise:</font>\n",
    "\n",
    "Find $s$ for the function that provides the below outputs: (here $n=2$)\n",
    "\\begin{align*}\n",
    "\tf(00)&=0\\\\\n",
    "\tf(01)&=1\\\\\n",
    "\tf(10)&=1\\\\\n",
    "\tf(11)&=0\\\\\n",
    "\\end{align*}\n",
    "\n",
    "Example: Say $x=10$, from above $f(x)=x.s= 1$\n",
    "$$ 1= x.s= (x_1x_2).(s_1s_2)= x_1s_1 + x_2s_2 (mod 2)= 1s_1 + 0s_2 (mod 2)= s_1$$\n",
    "Thus $s_1= 1$, similarly find $s_2$ to get the full string $s_1s_2$.\n",
    "\n",
    "Note that you would require $2$ calls to the function to find $s$ completely."
   ]
  },
  {
   "cell_type": "markdown",
   "metadata": {},
   "source": [
    "#### <font color='red'> **Exercise:** *Classical Complexity-* Clasically, how many oracle calls you need to make to find the secret string? </font>\n",
    "\n",
    "        (your answer here)"
   ]
  },
  {
   "cell_type": "markdown",
   "metadata": {},
   "source": [
    "#### **Quantum Algorithm:** \n",
    "\n",
    "We construct a $n+1$ qubit quantum circuit.\n",
    "\n",
    "- Set the ($n+1$)th qubit to state $\\ket{-}$ by applying $X$ and $H$ gates.\n",
    "- Apply $H$ to first $n$ qubits.\n",
    "- Apply $U_f$. (*the oracle*: required to be given to the algorithm)\n",
    "- Apply $H$ to first $n$ qubits.\n",
    "- Measure the first $n$ qubits to obtain $s$."
   ]
  },
  {
   "cell_type": "markdown",
   "metadata": {},
   "source": [
    "This is exactly the same algorithm as the Deutsch-Jozsa which we covered in a previous lab material. Only the oracle has a slighly modified form. "
   ]
  },
  {
   "cell_type": "markdown",
   "metadata": {},
   "source": [
    "![DeutschjoZSACircuit](Images/DJ.png)"
   ]
  },
  {
   "cell_type": "markdown",
   "metadata": {},
   "source": [
    "#### <font color='red'>Exercise: Work out the stages of the algorithm looking at the circuit above and check whether you get the below states: </font>\n",
    "\n",
    "$$ \\ket{\\psi_0} = \\ket{0}^{\\otimes n} \\ket{0}$$\n",
    "\n",
    "$$ \\ket{\\psi_1} = \\ket{0}^{\\otimes n} \\ket{1}$$\n",
    "\n",
    "$$ \\ket{\\psi_2} = \\frac{1}{\\sqrt{2^n}}\\sum_{x=0}^{2^n-1} \\ket{x} \\otimes \\ket{-} $$\n",
    "\n",
    "$$ \\ket{\\psi_3} = \\bigg[ \\frac{1}{\\sqrt{2^n}} \\sum_{x=0}^{2^n-1} (-1)^{x.s} \\ket{x} \\bigg] \\otimes \\ket{-} $$"
   ]
  },
  {
   "cell_type": "markdown",
   "metadata": {},
   "source": [
    "\n",
    "- Remember from the $PS(07)$ notebook, $ H^{\\otimes n} \\ket{x} = \\frac{1}{\\sqrt{2^n}} \\sum_{x=0}^{2^n-1} (-1)^{x \\cdot z} \\ket{z}. $\n",
    "\n",
    "- We also know that the $H^{\\otimes n}$ operator is its own inverse. \n",
    "\n",
    "- Thus, $H^{\\otimes n}\\ket{a} = \\ket{b} \\Longleftrightarrow H^{\\otimes n}\\ket{b} = \\ket{a}$. \n",
    "\n",
    "So, the first $n$ qubits state of $\\ket{\\psi_3}$ is the state obtained after applying $H^{\\otimes n}$ to $\\ket{s}$.\n",
    "\n",
    "Thus applying $H^{\\otimes n}$ to the input qubits (the first $n$ qubits), should provide us:\n",
    "\n",
    "$$ \\ket{\\psi_4} = \\ket{s} \\otimes \\ket{-} $$"
   ]
  },
  {
   "cell_type": "markdown",
   "metadata": {},
   "source": [
    "Measurement of the first $n$ qubits will provide string $s$ with probability $1$."
   ]
  },
  {
   "cell_type": "markdown",
   "metadata": {},
   "source": [
    "##### *Note that the Bernstein-Vazirani problem was artificially created to demonstrate the advantage of a quantum algorithm over classical algorithms.*"
   ]
  },
  {
   "cell_type": "markdown",
   "metadata": {},
   "source": [
    "##### To implement the algorithm, we will first design some specific oracles and then use the algorithm to determine the string $s$ encoded in the oracle."
   ]
  },
  {
   "cell_type": "markdown",
   "metadata": {},
   "source": [
    "#### <font color= 'red'> Lab Exercise: Design the oracles given below </font> \n",
    "(here n=4 , hence we would require a Quantum Circuit with 5 qubits)\n",
    "\n",
    "- Given $\\textbf{s} = 0110$, implement a function that returns an oracle for the function  $ f(\\mathbf{x}) = \\mathbf{x} \\cdot \\mathbf{s} $. *(oracle1, done for you below)*\n",
    "\n",
    "\n",
    "- Given $\\textbf{s} = 1001$, implement a function that returns an oracle for the function  $ f(\\mathbf{x}) = \\mathbf{x} \\cdot \\mathbf{s} $. *(oracle2, you need to do)*\n",
    "\n",
    "Can you generalize the oracle construction for any bitstring $s$, irrespective of its size.\n",
    "\n"
   ]
  },
  {
   "cell_type": "code",
   "execution_count": 6,
   "metadata": {},
   "outputs": [],
   "source": [
    "import qiskit\n",
    "from qiskit import QuantumCircuit\n",
    "\n",
    "def oracle1():  #for s=0110\n",
    "    circuit = QuantumCircuit(5)\n",
    "    circuit.barrier()\n",
    "\n",
    "    circuit.cx(1, 4)\n",
    "    circuit.cx(2, 4)\n",
    "\n",
    "    circuit.barrier()\n",
    "    return circuit\n",
    "\n",
    "\n",
    "def oracle2(): #for s= 1001\n",
    "    circuit = QuantumCircuit(5)\n",
    "    circuit.barrier()\n",
    "\n",
    "    #your code here\n",
    "\n",
    "    circuit.barrier()\n",
    "    return circuit"
   ]
  },
  {
   "cell_type": "code",
   "execution_count": 14,
   "metadata": {},
   "outputs": [
    {
     "name": "stdout",
     "output_type": "stream",
     "text": [
      "0\n"
     ]
    },
    {
     "data": {
      "text/plain": [
       "<qiskit.circuit.quantumcircuit.QuantumCircuit at 0x1e8871b9550>"
      ]
     },
     "execution_count": 14,
     "metadata": {},
     "output_type": "execute_result"
    }
   ],
   "source": [
    "#Chosing a random oracle\n",
    "import random\n",
    "# Create the list of oracles\n",
    "oracle_list = [oracle1, oracle2]\n",
    "\n",
    "# Randomly select an index using randrange(4)\n",
    "random_index = random.randrange(2)\n",
    "\n",
    "print(random_index)\n",
    "\n",
    "# Call the selected oracle\n",
    "selected_oracle = oracle_list[random_index]\n",
    "\n",
    "selected_oracle()"
   ]
  },
  {
   "cell_type": "markdown",
   "metadata": {},
   "source": [
    "##### Given the oracle function `selected_oracle()` for $f$,construct a circuit that implements the Bernstein-Vazirani algorithm described above to find out $s$."
   ]
  },
  {
   "cell_type": "code",
   "execution_count": 15,
   "metadata": {},
   "outputs": [
    {
     "name": "stdout",
     "output_type": "stream",
     "text": [
      "0110 is observed 10000 times\n"
     ]
    }
   ],
   "source": [
    "from qiskit import QuantumCircuit, execute, Aer\n",
    "\n",
    "n=4 #(size of the string or the input 'x')\n",
    "\n",
    "#Initialization\n",
    "bv_circuit = QuantumCircuit(n+1, n)  #measurement only on the first n qubits, hence n classical registers would suffice\n",
    "bv_circuit.x(n)\n",
    "bv_circuit.h(range(n+1))\n",
    "\n",
    "#Apply oracle\n",
    "bv_circuit.compose(selected_oracle(), inplace=True)\n",
    "\n",
    "#Apply Hadamard to all qubits and measure the first n qubits\n",
    "bv_circuit.h(range(n))\n",
    "bv_circuit.measure(range(n), range(n))\n",
    "\n",
    "#Draw the circuit, if needed\n",
    "\n",
    "#bv_circuit.draw(output=\"mpl\")\n",
    "\n",
    "#extracting the results of measurement to determine 's'\n",
    "job = execute(bv_circuit, Aer.get_backend('qasm_simulator'),shots=10000)\n",
    "counts = job.result().get_counts()\n",
    "for outcome in counts:\n",
    "    reverse_outcome = ''\n",
    "    for i in outcome:\n",
    "        reverse_outcome = i + reverse_outcome\n",
    "    print(reverse_outcome,\"is observed\",counts[outcome],\"times\")"
   ]
  },
  {
   "cell_type": "markdown",
   "metadata": {},
   "source": [
    "Since a classical computation of a requires $n$ function calls, we have obtained a “quantum speedup” of $n$ (polynomial speedup). \n",
    "\n",
    "The procedure is analagous to Deutsch-Jozsa algorithm. The first set of Hadamards generates a superposition of inputs to the oracle $Uf$ which evaluates the function for all $2^{n}$ inputs using *quantum parallelism*, and then the second set of Hadamards destroys all the outputs apart from $s$, using *quantum interference*.\n"
   ]
  },
  {
   "cell_type": "markdown",
   "metadata": {},
   "source": [
    "#### <font color= 'red'> Homework: </font> \n",
    "\n",
    "- Given $\\textbf{s} = 0110101$, implement a function that returns an oracle for the function  $ f(\\mathbf{x}) = \\mathbf{x} \\cdot \\mathbf{s} $.\n",
    "- Implement the Berstein-Vazirani algorithm for the above oracle and check if you obtain the required string.\n",
    "- What is the circuit width and depth used for solving this specific problem?\n"
   ]
  },
  {
   "cell_type": "markdown",
   "metadata": {},
   "source": [
    "# Simon's Algorithm"
   ]
  },
  {
   "cell_type": "markdown",
   "metadata": {},
   "source": [
    "#### Problem Statement:\n",
    "\n",
    "- Given an oracle function $f: \\{0,1\\}^{n} \\rightarrow \\{0,1\\}^{n}$, such that $f(x) = f(x\\oplus s)$, the goal is to determine the bitstring $s$ (where $s$ $\\in$ {0,1}$^{n}$ and $s\\ne 0^{n}$).\n"
   ]
  },
  {
   "cell_type": "markdown",
   "metadata": {},
   "source": [
    "**Note:**\n",
    "\n",
    "- Unlike the previous problem, here we don't know the functional form of $f$.\n",
    "- The secret string $s$ can be considered as a \"mask\" which hides the underlying encoding ($f$).\n",
    "- As long as $s$ is not the zero bitstring, the function is two-to-one i.e. mapping two elements from the domain to one value from the range.\n",
    "\n",
    "<i>Simon's problem can also be defined as the problem of determining whether $f$ is two-to-one or one-to-one, in which case one needs to determine whether $s$ is a zero string or not.</i>\n",
    "\n",
    "#### <font color= 'red'> Exercise: </font> \n",
    "\n",
    "- For two inputs $x_1$ and $x_2$ for which $f(x_1) = f(x_2)$, show that $x_1⊕x_2$ yields the secret string $s$, given that the function $f$ satisfies the property $f(x)=f(x\\oplus s)$.\n",
    "- What is the classical complexity for the Simon's problem? (look at the worst-case scenario)"
   ]
  },
  {
   "cell_type": "markdown",
   "metadata": {},
   "source": [
    "#### Have you hear of the Birthday problem?\n",
    "\n",
    "- In a set of $n$ randomly chosen people, what should be the value of $n$ such that the probability of at least two people sharing a birthday exceeds 50%?"
   ]
  },
  {
   "cell_type": "markdown",
   "metadata": {},
   "source": [
    "You can read more about this problem [here](https://betterexplained.com/articles/understanding-the-birthday-paradox/)."
   ]
  },
  {
   "cell_type": "markdown",
   "metadata": {},
   "source": []
  }
 ],
 "metadata": {
  "kernelspec": {
   "display_name": "qcvenv",
   "language": "python",
   "name": "qcvenv"
  },
  "language_info": {
   "codemirror_mode": {
    "name": "ipython",
    "version": 3
   },
   "file_extension": ".py",
   "mimetype": "text/x-python",
   "name": "python",
   "nbconvert_exporter": "python",
   "pygments_lexer": "ipython3",
   "version": "3.11.5"
  }
 },
 "nbformat": 4,
 "nbformat_minor": 2
}
