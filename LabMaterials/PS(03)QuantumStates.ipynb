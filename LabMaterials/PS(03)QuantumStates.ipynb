{
 "cells": [
  {
   "cell_type": "markdown",
   "id": "d6f2ae52-c19d-4e10-aca8-741cef569cee",
   "metadata": {},
   "source": [
    "## Let's start with recalling the Stern-Gerlach Experiment taught in the class\n",
    "\n",
    "**3 pictures to recall Stern-Gerlach Experiment (Taken from Sakurai, 1994)**"
   ]
  },
  {
   "cell_type": "markdown",
   "id": "21310502-fa0a-448c-aabc-211939186a88",
   "metadata": {},
   "source": [
    "### Experimental Setup\n",
    "![SG setup](SGsetup.png)\n",
    "\n",
    "### Expectation vs Reality\n",
    "![Classical vs Quantum](SGCQ.png)\n",
    "\n",
    "### Some Observations\n",
    "![SG Observations](ObsSG.png)\n"
   ]
  },
  {
   "cell_type": "markdown",
   "id": "fafbe953-a358-4719-8d4b-376912734650",
   "metadata": {},
   "source": [
    "### Some quick summary pointers: \n",
    "\n",
    "#### Classical expectations:\n",
    "Spin is a vector with multiple orientations possible. Magnetic field interacts with the spin, deflecting atoms in proportion to their spin projection. So a continuous range of deflections is expected, reflecting the various spin orientations.\n",
    "\n",
    "#### Actual Observations\n",
    "\n",
    "Instead of a continuous spread, the detector screen shows two distinct spots.This implies that silver atoms can only have two quantized spin states, deflecting in either one direction or the other depending on their state.\n",
    "\n",
    "Look at figure $1.3 (c)$. Can you come up with an explanation for this observation? Its not intuitive at all to explain in words. In the language of operators, this observation is because the operator representing $SGz$ does not commute with $SGx$ and hence they obey an uncertainty relation (just like position and momentum)"
   ]
  },
  {
   "cell_type": "markdown",
   "id": "58ab14cc-ae07-498a-8ff4-91e0a6514d34",
   "metadata": {},
   "source": [
    "### QUBIT"
   ]
  },
  {
   "cell_type": "code",
   "execution_count": null,
   "id": "19373bc0-3b3a-44e9-bda8-9f8da27d7802",
   "metadata": {},
   "outputs": [],
   "source": []
  }
 ],
 "metadata": {
  "kernelspec": {
   "display_name": "qcvenv",
   "language": "python",
   "name": "qcvenv"
  },
  "language_info": {
   "codemirror_mode": {
    "name": "ipython",
    "version": 3
   },
   "file_extension": ".py",
   "mimetype": "text/x-python",
   "name": "python",
   "nbconvert_exporter": "python",
   "pygments_lexer": "ipython3",
   "version": "3.11.5"
  }
 },
 "nbformat": 4,
 "nbformat_minor": 5
}
