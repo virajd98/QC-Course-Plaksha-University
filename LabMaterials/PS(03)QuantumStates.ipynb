{
 "cells": [
  {
   "cell_type": "markdown",
   "id": "d6f2ae52-c19d-4e10-aca8-741cef569cee",
   "metadata": {},
   "source": [
    "# Recalling the Stern-Gerlach Experiment:\n",
    "\n",
    "**3 pictures to recall Stern-Gerlach Experiment (Taken from Sakurai, 1994)**"
   ]
  },
  {
   "cell_type": "markdown",
   "id": "21310502-fa0a-448c-aabc-211939186a88",
   "metadata": {},
   "source": [
    "### Experimental Setup\n",
    "![SG setup](Images/SGsetup.png)\n",
    "\n",
    "### Expectation vs Reality\n",
    "![Classical vs Quantum](Images/SGCQ.png)\n",
    "\n",
    "### Some Observations\n",
    "![SG Observations](Images/ObsSG.png)\n"
   ]
  },
  {
   "cell_type": "markdown",
   "id": "fafbe953-a358-4719-8d4b-376912734650",
   "metadata": {},
   "source": [
    "\n",
    "##### Classical expectations:\n",
    "Spin is a vector with multiple orientations possible. Magnetic field interacts with the spin, deflecting atoms in proportion to their spin projection. So a continuous range of deflections is expected, reflecting the various spin orientations.\n",
    "\n",
    "##### Actual Observations\n",
    "\n",
    "Instead of a continuous spread, the detector screen shows two distinct spots.  This implies that silver atoms can only have two quantized spin states, deflecting in either one direction or the other depending on their state.\n",
    "\n",
    "Look at figure $1.3 (c)$. Can you come up with an explanation for this observation? Its not intuitive at all to explain in words. In the language of operators, this observation is because the operator representing $SGz$ does not commute with $SGx$ and hence they obey an uncertainty relation (just like position and momentum)"
   ]
  },
  {
   "cell_type": "markdown",
   "id": "b2246923-38d7-4c66-884e-3c9ce2d3d46c",
   "metadata": {},
   "source": [
    "### Formalizing the observations shown above \n",
    "\n",
    "From figure $1.2$ its evident that the spin magnetic moment of the electron is quantized (only two discrete values are possible). Let's use the physical property of *spin magnetic moment* of the outer most electron to describe the silver atom's state.  Let $\\ket{z, +}$ and $\\ket{z, -}$ (one call call these spin up and spin down, respectively) denote the possible spin states of the silver atoms when they come out of the $SG_z$ set-up and observed using a detector. \n",
    "\n",
    "From figure $1.3 (a)$ when the atoms in $\\ket{z, -}$ are blocked and only the ones with $\\ket{z, +}$ are allowed again through a $SG_z$ we see only $\\ket{z, +}$ states again. This is like saying $\\ket{z, -}$ has no component of $\\ket{z, +}$, hence when we formalize the state representation using the language of linear algebra where the states would be denoted by abstract vectors, we better be sure that these vectors are orthonormal to each other. \n",
    "\n",
    "From figure $1.3 (b)$ when the atoms in state $\\ket{z, +}$ are passed through a $SG_x$ we again see only two discrete outcomes but now the states should be represented differently, say $\\ket{x, +}$ and $\\ket{x, -}$. This observation is like saying that $\\ket{z, +}$ states are also states with some amplitude along $\\ket{x, +}$ and $\\ket{x, -}$. This is weird classically right? How can a classical top which is known to be spinning with spin angular momentum vector purely pointing in the postive z-direction (just as the $\\ket{z, +}$ state), also spin a little in the x-direction and a little in the -x direction? Looks like a statement that contradicts itself. Yes it is, if you you're still attuned to the thinking of states being 'deterministic'. \n",
    "\n",
    "\n",
    "##### <font color='red'>**Question** What should be the experiment to check if $\\ket{x, +}$ and $\\ket{x, -}$ are orthogonal ? </font>\n",
    "\n",
    "\n",
    "From figure $1.3 (c)$ when only the atoms in state $\\ket{x, +}$ are passed through a $SG_z$, to our surprise we see equal number of atoms with states $\\ket{z, +}$ and $\\ket{z, -}$. This weirdness is worse than the earlier one. Classically we would expect only a $\\ket{z, +}$ beam as the $\\ket{z, -}$ beam was earlier blocked right?  It looks like there is no memory of the first filter ($SG_z$):  the particles coming out of the second machine ($SG_x$) are not anymore $\\ket{z, +}$. \n",
    "\n",
    "Using all these observations, we had come up with the following expressions for the spin states of the silver atoms (for more details go through the reference section or your class notes):\n",
    "\n",
    "\n",
    "* Before observing the silver atom on the detector after going through the $SG_z$ set-up ($1.3 (c))$, the spin state of the atoms can be expressed as: \n",
    "\n",
    "  ####  $\\ket {\\psi} = \\frac{1}{\\sqrt{2}}\\ket{z, +} + \\frac{1}{\\sqrt{2}} \\ket{z, -}$ \n",
    "\n",
    "    * The square of the amplitude associated with the states represent the probability of observing the state when spin magnetic moment is measured along the z-direction. Before measurement the state is just $\\ket {\\psi}$. In the deterministic realm, we would ask if it's $\\ket{z, -}$ or $\\ket{z, +}$, but quantum mechanically this question makes no sense unless an observation (or measurement, loosely speaking) is made. Once observed, we saw that half of the atoms deflected up and half deflected down, hence the amplitude values here make sense.\n",
    "\n",
    "**The state $\\ket {\\psi}$ is an example of a qubit, a word used in the context of quantum computing, and we shall see throughout the course that a system in a linear superposition of multiple states (like $\\ket {\\psi}$  is simultaneously in $\\ket{z, -}$ and $\\ket{z, +}$) could have tremondous computational capabilities.**\n",
    "\n",
    "And we also require that the basis states are orthonormal that is $\\braket{z, +|z, -} = \\braket{z, -|z, +} = 0 $ and $\\braket{z, +|z, +} = \\braket{z, -|z, -}= 1$, and this should be satisied by the vectors we chose to represent the states with.\n",
    "\n",
    "* We also observed that the atoms in state $\\ket{z, +}$ (or analogously $\\ket{z, -}$} have equal chances of having spin component in the $+x$ and $-x$ directions. Thus,\n",
    "\n",
    "    ####  $\\ket {x, +} = \\frac{1}{\\sqrt{2}}\\ket{z, +} + \\frac{1}{\\sqrt{2}} \\ket{z, -}$\n",
    "    ####  $\\ket {x, -} = \\frac{1}{\\sqrt{2}}\\ket{z, +} - \\frac{1}{\\sqrt{2}} \\ket{z, -}$\n",
    "\n",
    "  * The minus factor in the second expression comes because we need  $\\braket{x, +|x, -}= 0$ and ofcourse $\\ket {x, +}$ and $\\ket {x, -}$ are not the same states, the minus sign distiguishes them (if you would like to think of it that way)\n",
    "\n",
    "\n",
    "* There is nothing special about $Z$ and $X$ direction. We could have as well started with $SG_y$ and $SG_x$ in the sequential setup. But we stick to conventions followed in the quantum computing community. In figure $1.3 (c)$) block any one of $\\ket{z, -}$ or $\\ket{z, +}$ beams, and use a $SG_y$ apparatus, **equal** distribution of $\\ket {y, +}$ and $\\ket {y, -}$ can be seen on the screen. And also $\\braket{y, +|y, -} = \\braket{y, -|y, +}= 0$. We thus can easily prove the following too: \n",
    "\n",
    "   ####  $\\ket {y, +} = \\frac{1}{\\sqrt{2}}\\ket{z, +} + \\frac{i}{\\sqrt{2}} \\ket{z, -}$\n",
    "   ####  $\\ket {y, -} = \\frac{1}{\\sqrt{2}}\\ket{z, +} - \\frac{i}{\\sqrt{2}} \\ket{z, -}$\n",
    "\n",
    "    * This satisfies the conditions stated and also is distinct from the expressions written above for $\\ket {x, +}$ and $\\ket {x, -}$. Think of $i$ and $-i$ entering into picture just because we have run out of real numbers that satisfies the experimental observations (equal distribution and orthonormality). You can prove this for your self. "
   ]
  },
  {
   "cell_type": "markdown",
   "id": "821a61f1-bb11-4daf-8f32-7da1481e623c",
   "metadata": {},
   "source": [
    "*A key message from this would be, real numbers are not enough to represent quantum states and amplitudes of quantum state could be a complex number*\n",
    "\n",
    "\n",
    "##### <font color='red'> **Question:** What is the probability of observing $\\ket{z, -}$ for the state $\\ket {y, +}$ ? If probability is just a simple square of amplitude, then you should be getting a negative probability here? </font>\n"
   ]
  },
  {
   "cell_type": "markdown",
   "id": "58ab14cc-ae07-498a-8ff4-91e0a6514d34",
   "metadata": {},
   "source": [
    "# QUBIT"
   ]
  },
  {
   "cell_type": "markdown",
   "id": "5e4e45b0-141b-4bd2-b83c-0372418f6b13",
   "metadata": {},
   "source": [
    "\n"
   ]
  },
  {
   "cell_type": "markdown",
   "id": "a27f8074-2574-4c7e-89cb-1206335bf2f8",
   "metadata": {},
   "source": [
    "As of now, you might have got a hint of what qubits physically are from the Stern-Gerlach experiment. The state $\\ket{\\psi}$ (referred to earlier in SG) is an example of a qubit state. Thus apart from being in the state $\\ket{0}$ and $\\ket{1}$ (in the SG experiment these may refer to up and down respectively), a qubit can exist in a state of linear combination of states, often called $\\textit{superposition}$:\n",
    "$$\\ket{\\psi} =\\alpha \\ket{0} + \\beta \\ket{1}$$\n",
    "\n",
    "The numbers $\\alpha$ and $\\beta$ are complex numbers, the reasons for which we saw earlier. Let's rephrase what we just read: A qubit state is a vector in $2 -$ dimensional complex vector space. $\\ket{0}$ and $\\ket{1}$ are known as computational basis states, and form an orthonormal basis for this vector space. When a qubit is measured, we get either the result $\\ket{0}$ or $\\ket{1}$ with probabilities $|{\\alpha ^{2}}|$ and $|{\\beta ^{2}}|$ respectively. And naturally,  $|{\\alpha ^{2}}| + |{\\beta ^{2}}| = 1$ (since they are probabilities) and geometrically one can think of this condition as a qubit state being a unit vector in a $2D$ complex vector space. Note that the state $\\ket{\\psi}$ can never be observed. \n",
    "\n",
    "\n",
    "\n",
    "\n",
    "\n",
    "<font color='red'> **Question:** How are the values of $\\alpha$ and $\\beta$ determined if $\\ket{\\psi}$ can't be observed? </font>\n",
    "\n",
    "\n"
   ]
  },
  {
   "cell_type": "markdown",
   "id": "82afdba0",
   "metadata": {},
   "source": [
    "Although the state $\\ket{\\psi}$ is unobservable, they can be manipulated and transformed which leads to measurement outcomes of interest. Such states have real, experimentally verifiable consequences, which we shall see from now on are essential to the power of quantum computation and information.  "
   ]
  },
  {
   "cell_type": "markdown",
   "id": "343b374c",
   "metadata": {},
   "source": [
    "$\\ket{0} = \\begin{pmatrix} \n",
    "1\\\\0 \n",
    "\\end{pmatrix} $\n",
    "and \n",
    "$\\ket{1} = \\begin{pmatrix} \n",
    "0\\\\1\n",
    "\\end{pmatrix} $ is a representation which we shall follow for the computational basis states. \n",
    "In this representation, a general qubit state is just $\\ket{\\psi} = \\begin{pmatrix} \n",
    " \\alpha\\\\\\beta \n",
    " \\end{pmatrix}$ (*try to show this, its a one line calculation!!*)"
   ]
  },
  {
   "cell_type": "markdown",
   "id": "c927fe97",
   "metadata": {},
   "source": [
    "<font color='red'> **Question:** Just like we saw for classical bits, what's the NOT operator for qubits? </font>  \n",
    "\n",
    "### One-Qubit Gates\n",
    "\n"
   ]
  },
  {
   "cell_type": "markdown",
   "id": "6bd61ba6",
   "metadata": {},
   "source": [
    "## NOT Gate\n",
    "We denote the $NOT$ operator in quantum computation as $X$. \n",
    "The action of $ X $ on the qubit:\n",
    "\n",
    "$ X \\ket{0} = \\ket{1} $ and Similarly, $ X \\ket{1} = \\ket{0} $\n",
    "\n",
    "But more generally, $$X \\ket{\\psi} =\\alpha X \\ket{0} + \\beta X \\ket{1} =  \\alpha \\ket{1} + \\beta \\ket{0}$$ Notice how the probability amplitudes associated with the stated got flipped because of the action of $X$. \n",
    "\n",
    "<font color='green'>One thing we need to keep in mind while constructing a quantum gate is that the quantum state obtained after the gate operation should be a valid quantum state, which means the normalization (sum of probabilities equal to one) should be sustained during the gate operation </font>"
   ]
  },
  {
   "cell_type": "markdown",
   "id": "ab34dc62",
   "metadata": {},
   "source": [
    "For this we need to ensure unitarity of quantum gates. That is, if $U$ is the matrix describing a single qubit quantum gate we require $UU^{\\dagger}=I$ (this can be easily shown from the text in green, let's do this as a lab exercise). \n",
    "\n",
    "$U^{\\dagger}$ is called the *adjoint* of $U$, obtained by transposing and then complex conjugating $U$"
   ]
  },
  {
   "cell_type": "markdown",
   "id": "e9ff0f5c",
   "metadata": {},
   "source": [
    "#### <font color='red'> Unitarity is the only constraint on a quantum gates. Any Unitary matrix is a valid quantum gate. <font>"
   ]
  },
  {
   "cell_type": "markdown",
   "id": "809bb913",
   "metadata": {},
   "source": [
    "**There are a number of non-trivial single qubit gates.**\n",
    " "
   ]
  },
  {
   "cell_type": "markdown",
   "id": "b49d3a66",
   "metadata": {},
   "source": [
    "## Hadamard Gate\n",
    "\n",
    "$H= \\frac{1}{\\sqrt{2}}\\begin{pmatrix}\n",
    "1&1\\\\ \n",
    "1&-1 \n",
    "\\end{pmatrix}$\n"
   ]
  },
  {
   "cell_type": "markdown",
   "id": "4ab3519f",
   "metadata": {},
   "source": [
    "##### <font color='red'> **Lab exercise (on paper):** Act $H$ on $\\ket{0}$ , $\\ket{1}$, and observe the output states. </font>"
   ]
  },
  {
   "cell_type": "markdown",
   "id": "7dc65bdd",
   "metadata": {},
   "source": [
    "Results from the exercise above:\n",
    "Hadamard action on $\\ket{0}$ or $\\ket{1}$ once, puts the qubit states in a linear superposition. So we started with a determininstic state and acted it by $H$ and we got a qubit state which is a equal superposition on $\\ket{0}$ and $\\ket{1}$"
   ]
  },
  {
   "cell_type": "markdown",
   "id": "d206a4c6",
   "metadata": {},
   "source": [
    "##### Designing a Quantum Circuit that performs this operation"
   ]
  },
  {
   "cell_type": "code",
   "execution_count": 8,
   "id": "6bd1ff96",
   "metadata": {},
   "outputs": [
    {
     "data": {
      "image/png": "[encoded data removed]",
      "text/plain": [
       "<Figure size 317.14x200.667 with 1 Axes>"
      ]
     },
     "execution_count": 8,
     "metadata": {},
     "output_type": "execute_result"
    }
   ],
   "source": [
    "# import all necessary objects and methods for quantum circuits\n",
    "import qiskit\n",
    "from qiskit import QuantumRegister, ClassicalRegister, QuantumCircuit, execute, Aer\n",
    "\n",
    "# define a quantum register with one qubit\n",
    "q =  QuantumRegister(1,\"qreg\")  # by default the qubit is initialized to state 0\n",
    "\n",
    "# define a classical register with one bit\n",
    "# it stores the measurement result of the quantum part\n",
    "c = ClassicalRegister(1,\"creg\")\n",
    "\n",
    "# define our quantum circuit\n",
    "qc = QuantumCircuit(q,c)\n",
    "\n",
    "# apply h-gate (Hadamard) to the first qubit\n",
    "qc.h(q[0])  \n",
    "\n",
    "# measure the first qubit, and store the result in the first classical bit\n",
    "qc.measure(q,c)\n",
    "\n",
    "# draw the circuit by using matplotlib\n",
    "qc.draw(output='mpl') "
   ]
  },
  {
   "cell_type": "markdown",
   "id": "2e8eb980",
   "metadata": {},
   "source": [
    "Let's execute this code in a simulator provided by qiskit and observe the results "
   ]
  },
  {
   "cell_type": "code",
   "execution_count": 9,
   "id": "bd161b87",
   "metadata": {},
   "outputs": [
    {
     "name": "stdout",
     "output_type": "stream",
     "text": [
      "{'1': 5011, '0': 4989}\n",
      "State 0 is observed with frequency % 49.89\n",
      "State 1 is observed with frequency % 50.11\n"
     ]
    },
    {
     "data": {
      "image/png": "[encoded data removed]",
      "text/plain": [
       "<Figure size 700x500 with 1 Axes>"
      ]
     },
     "execution_count": 9,
     "metadata": {},
     "output_type": "execute_result"
    }
   ],
   "source": [
    "# execute the circuit 10000 times in the local simulator\n",
    "\n",
    "job = execute(qc,Aer.get_backend('qasm_simulator'),shots=10000)\n",
    "counts = job.result().get_counts(qc)\n",
    "print(counts) # print the outcomes\n",
    "\n",
    "n_zeros = counts['0']\n",
    "n_ones = counts['1']\n",
    "print(\"State 0 is observed with frequency %\",100*n_zeros/(n_zeros+n_ones))\n",
    "print(\"State 1 is observed with frequency %\",100*n_ones/(n_zeros+n_ones))\n",
    "\n",
    "# we can show the result by using histogram\n",
    "from qiskit.visualization import plot_histogram\n",
    "plot_histogram(counts)"
   ]
  },
  {
   "cell_type": "markdown",
   "id": "71cf5bdf",
   "metadata": {},
   "source": [
    "Great! Kind of as we expected, but why isn't it exact 5000 '1's and 5000 '0's ? (theoretical calculation done before expected a uniform superposition)"
   ]
  },
  {
   "cell_type": "markdown",
   "id": "91d667e1",
   "metadata": {},
   "source": [
    "##### <font color='red'> **Lab exercise (code):** Prepare a 2-qubit register, one initialized to state $\\ket{0}$ and the other to $\\ket{1}$. Act a Hadamard on both the qubits and then do a measurement on both the registers. Plot a histogram of your measurement results. Take count= $10,0000$</font> \n",
    "*Note: 'x' is the qiskit gate for the NOT operator*"
   ]
  },
  {
   "cell_type": "markdown",
   "id": "68544774",
   "metadata": {},
   "source": [
    "##### In the literature, the quantum states obtained after applying $ H $ to $ \\ket{0} $ and $ \\ket{1} $ are known as **ket-plus** ($\\ket{+}$) and **ket-minus** ($ \\ket{-} $) states, respectively:"
   ]
  },
  {
   "cell_type": "markdown",
   "id": "591ea3da",
   "metadata": {},
   "source": [
    "**Question to ponder**: Action of Hadamard on a state twice gives the initial state back (can you check? ). So, can Hadamard be considered square- root of NOT gate (discussed in the lecture)"
   ]
  },
  {
   "cell_type": "markdown",
   "id": "57da28ae",
   "metadata": {},
   "source": [
    "### Quantum Circuits and Measurements"
   ]
  },
  {
   "cell_type": "markdown",
   "id": "ddbdd217",
   "metadata": {},
   "source": [
    "#### **Being in a superposition**\n",
    "\n",
    "A quantum system can be in more than one state with nonzero amplitudes. Then, we say that our system is in a superposition of these states.\n",
    "\n",
    "When a state evolves from a superposition, the resulting transitions may affect each other constructively or destructively. This happens because of having opposite sign transition amplitudes. "
   ]
  },
  {
   "cell_type": "markdown",
   "id": "82999d78",
   "metadata": {},
   "source": [
    "#### **Measurement**\n",
    "\n",
    "We can measure a quantum state, and then the system is observed in one of its states from the superposition. This is the most basic type of measurement in quantum computing. (There are more generic measurement operators, but we will not mention about them.)\n",
    "\n",
    "The probability of the system to be observed in a specified state is the square value of its amplitude.\n",
    "<ul>\n",
    "    <li> If the amplitude of a state is zero, then this state cannot be observed. </li>\n",
    "    <li> If the amplitude of a state is nonzero, then this state can be observed. </li>\n",
    "</ul>\n",
    "\n",
    "\n"
   ]
  },
  {
   "cell_type": "markdown",
   "id": "31ee29fd",
   "metadata": {},
   "source": [
    "For example, if the system is in quantum state \n",
    "\n",
    "$$\n",
    "    \\begin{pmatrix}\n",
    "    -\\frac{\\sqrt{1}}{\\sqrt{3}}\\\\\\frac{2}{\\sqrt{3}}\n",
    "    \\end{pmatrix}\n",
    "$$\n",
    "\n",
    "then, after a measurement, we can observe the system in state $\\ket{0} $ with probability $ \\frac{1}{3} $ and in state $\\ket{1}$ with probability $ \\frac{2}{3} $."
   ]
  },
  {
   "cell_type": "markdown",
   "id": "7f6b9502",
   "metadata": {},
   "source": [
    "#### <font color= 'red'>**Lab Exercise:** Prepare a quantum circuit with one quantum register and one classical register for doing the below distinct operations. Take 'counts' as per your choice </font> \n",
    "\n",
    "* Act Hadamard twice on the register initialized to state $\\ket{1}$ and observe the measurement results on a histogram\n",
    "* Act Hadamard gate thrice on the register initialized to state $\\ket{1}$ and observe the histogram"
   ]
  },
  {
   "cell_type": "markdown",
   "id": "f3d39c50",
   "metadata": {},
   "source": []
  },
  {
   "cell_type": "markdown",
   "id": "fdf47dd2",
   "metadata": {},
   "source": []
  }
 ],
 "metadata": {
  "kernelspec": {
   "display_name": "qcvenv",
   "language": "python",
   "name": "qcvenv"
  },
  "language_info": {
   "codemirror_mode": {
    "name": "ipython",
    "version": 3
   },
   "file_extension": ".py",
   "mimetype": "text/x-python",
   "name": "python",
   "nbconvert_exporter": "python",
   "pygments_lexer": "ipython3",
   "version": "3.11.5"
  }
 },
 "nbformat": 4,
 "nbformat_minor": 5
}
