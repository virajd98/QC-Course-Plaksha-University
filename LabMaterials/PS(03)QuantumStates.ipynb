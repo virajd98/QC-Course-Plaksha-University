{
 "cells": [
  {
   "cell_type": "markdown",
   "id": "d6f2ae52-c19d-4e10-aca8-741cef569cee",
   "metadata": {},
   "source": [
    "## Let's start with recalling the Stern-Gerlach Experiment taught in the class\n",
    "\n",
    "**3 pictures to recall Stern-Gerlach Experiment (Taken from Sakurai, 1994)**"
   ]
  },
  {
   "cell_type": "markdown",
   "id": "21310502-fa0a-448c-aabc-211939186a88",
   "metadata": {},
   "source": [
    "### Experimental Setup\n",
    "![SG setup](SGsetup.png)\n",
    "\n",
    "### Expectation vs Reality\n",
    "![Classical vs Quantum](SGCQ.png)\n",
    "\n",
    "### Some Observations\n",
    "![SG Observations](ObsSG.png)\n"
   ]
  },
  {
   "cell_type": "markdown",
   "id": "fafbe953-a358-4719-8d4b-376912734650",
   "metadata": {},
   "source": [
    "\n",
    "##### Classical expectations:\n",
    "Spin is a vector with multiple orientations possible. Magnetic field interacts with the spin, deflecting atoms in proportion to their spin projection. So a continuous range of deflections is expected, reflecting the various spin orientations.\n",
    "\n",
    "##### Actual Observations\n",
    "\n",
    "Instead of a continuous spread, the detector screen shows two distinct spots.  This implies that silver atoms can only have two quantized spin states, deflecting in either one direction or the other depending on their state.\n",
    "\n",
    "Look at figure $1.3 (c)$. Can you come up with an explanation for this observation? Its not intuitive at all to explain in words. In the language of operators, this observation is because the operator representing $SGz$ does not commute with $SGx$ and hence they obey an uncertainty relation (just like position and momentum)"
   ]
  },
  {
   "cell_type": "markdown",
   "id": "b2246923-38d7-4c66-884e-3c9ce2d3d46c",
   "metadata": {},
   "source": [
    "### Formalizing the observations shown above \n",
    "\n",
    "From figure $1.2$ its evident that the spin magnetic moment of the electron is quantized (only two discrete values are possible). Let's use the physical property of *spin magnetic moment* of the outer most electron to describe the silver atom's state.  Let $\\ket{z, +}$ and $\\ket{z, -}$ (one call call these spin up and spin down, respectively) denote the possible spin states of the silver atoms when they come out of the $SG_z$ set-up and observed using a detector. \n",
    "\n",
    "From figure $1.3 (a)$ when the atoms in $\\ket{z, -}$ are blocked and only the ones with $\\ket{z, +}$ are allowed again through a $SG_z$ we see only $\\ket{z, +}$ states again. This is like saying $\\ket{z, -}$ has no component of $\\ket{z, +}$, hence when we formalize the state representation using the language of linear algebra where the states would be denoted by abstract vectors, we better be sure that these vectors are orthonormal to each other. \n",
    "\n",
    "From figure $1.3 (b)$ when the atoms in state $\\ket{z, +}$ are passed through a $SG_x$ we again see only two discrete outcomes but now the states should be represented differently, say $\\ket{x, +}$ and $\\ket{x, -}$. This observation is like saying that $\\ket{z, +}$ states are also states with some amplitude along $\\ket{x, +}$ and $\\ket{x, -}$. This is weird classically right? How can a classical top which is known to be spinning with spin angular momentum vector purely pointing in the postive z-direction (just as the $\\ket{z, +}$ state), also spin a little in the x-direction and a little in the -x direction? Looks like a statement that contradicts itself. Yes it is, if you you're still attuned to the thinking of states being 'deterministic'. \n",
    "\n",
    "\n",
    "##### Question: What should be the experiment to check $\\ket{x, +}$ and $\\ket{x, -}$ are orthogonal ?\n",
    "\n",
    "\n",
    "From figure $1.3 (c)$ when only the atoms in state $\\ket{x, +}$ are passed through a $SG_z$, to our surprise we see equal number of atoms with states $\\ket{z, +}$ and $\\ket{z, -}$. This weirdness is worse than the earlier one. Classically we would expect only a $\\ket{z, +}$ beam as the $\\ket{z, -}$ beam was earlier blocked right?  It looks like there is no memory of the first filter ($SG_z$):  the particles coming out of the second machine ($SG_x$) are not anymore $\\ket{z, +}$. \n",
    "\n",
    "Using all these observations, we had come up with the following expressions for the spin states of the silver atoms (for more details go through the reference section or your class notes):\n",
    "\n",
    "\n",
    "* Before observing the silver atom on the detector after going through the $SG_z$ set-up ($1.3 (c))$, the spin state of the atoms can be expressed as: \n",
    "\n",
    "  ####  $\\ket {\\psi} = \\frac{1}{\\sqrt{2}}\\ket{z, +} + \\frac{1}{\\sqrt{2}} \\ket{z, -}$ \n",
    "\n",
    "    * The square of the amplitude associated with the states represent the probability of observing the state when spin magnetic moment is measured along the z-direction. Before measurement the state is just $\\ket {\\psi}$. In the deterministic realm, we would ask if it's $\\ket{z, -}$ or $\\ket{z, +}$, but quantum mechanically this question makes no sense unless an observation (or measurement, loosely speaking) is made. Once observed, we saw that half of the atoms deflected up and half deflected down, hence the amplitude values here make sense.\n",
    "\n",
    "**The state $\\ket {\\psi}$ is an example of a qubit, a word used in the context of quantum computing, and we shall see throughout the course that a system in a linear superposition of multiple states (like $\\ket {\\psi}$  is simultaneously in $\\ket{z, -}$ and $\\ket{z, +}$) could have tremondous computational capabilities.**\n",
    "\n",
    "And we also require that the basis states are orthonormal that is $\\braket{z, +|z, -} = \\braket{z, -|z, +} = 0 $ and $\\braket{z, +|z, +} = \\braket{z, -|z, -}= 1$, and this should be satisied by the vectors we chose to represent the states with.\n",
    "\n",
    "* We also observed that the atoms in state $\\ket{z, +}$ (or analogously $\\ket{z, -}$} have equal chances of having spin component in the $+x$ and $-x$ directions. Thus,\n",
    "\n",
    "    ####  $\\ket {x, +} = \\frac{1}{\\sqrt{2}}\\ket{z, +} + \\frac{1}{\\sqrt{2}} \\ket{z, -}$\n",
    "    ####  $\\ket {x, -} = \\frac{1}{\\sqrt{2}}\\ket{z, +} - \\frac{1}{\\sqrt{2}} \\ket{z, -}$\n",
    "\n",
    "  * The minus factor in the second expression comes because we need  $\\braket{x, +|x, -}= 0$ and ofcourse $\\ket {x, +}$ and $\\ket {x, -}$ are not the same states, the minus sign distiguishes them (if you would like to think of it that way)\n",
    "\n",
    "\n",
    "* There is nothing special about $Z$ and $X$ direction. We could have as well started with $SG_y$ and $SG_x$ in the sequential setup. But we stick to conventions followed in the quantum computing community. In figure $1.3 (c)$) block any one of $\\ket{z, -}$ or $\\ket{z, +}$ beams, and use a $SG_y$ apparatus, **equal** distribution of $\\ket {y, +}$ and $\\ket {y, -}$ can be seen on the screen. And also $\\braket{y, +|y, -} = \\braket{y, -|y, +}= 0$. We thus need can easily prove the following too: \n",
    "\n",
    "   ####  $\\ket {y, +} = \\frac{1}{\\sqrt{2}}\\ket{z, +} + \\frac{i}{\\sqrt{2}} \\ket{z, -}$\n",
    "   ####  $\\ket {y, -} = \\frac{1}{\\sqrt{2}}\\ket{z, +} - \\frac{i}{\\sqrt{2}} \\ket{z, -}$\n",
    "\n",
    "    * This satisfies the conditions stated and also is distinct from the expressions written above for $\\ket {x, +}$ and $\\ket {x, -}$. Think of $i$ and $-i$ entering into picture just because we have run out of real numbers that satisfies the experimental observations (equal distribution and orthonormality). You can prove this for your self. "
   ]
  },
  {
   "cell_type": "markdown",
   "id": "821a61f1-bb11-4daf-8f32-7da1481e623c",
   "metadata": {},
   "source": [
    "*A key message from this would be, real numbers are not enough to represent quantum states and amplitudes of quantum state could be a complex number*\n",
    "\n",
    "\n",
    "##### Question: What is the probability of observing $\\ket{z, -}$ for the state $\\ket {y, +}$ ? If probability is just square of amplitude, then you should be getting a negative probability here? \n"
   ]
  },
  {
   "cell_type": "markdown",
   "id": "58ab14cc-ae07-498a-8ff4-91e0a6514d34",
   "metadata": {},
   "source": [
    "### QUBIT"
   ]
  },
  {
   "cell_type": "markdown",
   "id": "5e4e45b0-141b-4bd2-b83c-0372418f6b13",
   "metadata": {},
   "source": [
    "(next topic)"
   ]
  },
  {
   "cell_type": "code",
   "execution_count": null,
   "id": "a27f8074-2574-4c7e-89cb-1206335bf2f8",
   "metadata": {},
   "outputs": [],
   "source": []
  }
 ],
 "metadata": {
  "kernelspec": {
   "display_name": "qcvenv",
   "language": "python",
   "name": "qcvenv"
  },
  "language_info": {
   "codemirror_mode": {
    "name": "ipython",
    "version": 3
   },
   "file_extension": ".py",
   "mimetype": "text/x-python",
   "name": "python",
   "nbconvert_exporter": "python",
   "pygments_lexer": "ipython3",
   "version": "3.11.5"
  }
 },
 "nbformat": 4,
 "nbformat_minor": 5
}
