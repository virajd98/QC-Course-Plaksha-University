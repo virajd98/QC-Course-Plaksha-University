{
 "cells": [
  {
   "cell_type": "markdown",
   "metadata": {},
   "source": [
    "# Entanglement"
   ]
  },
  {
   "cell_type": "markdown",
   "metadata": {},
   "source": [
    "Lets's create the state $\\ket{\\phi^+}= \\frac{\\ket{00} + \\ket{11}}{\\sqrt{2}}$ using qiskit"
   ]
  },
  {
   "cell_type": "code",
   "execution_count": 16,
   "metadata": {},
   "outputs": [
    {
     "data": {
      "text/html": [
       "<pre style=\"word-wrap: normal;white-space: pre;background: #fff0;line-height: 1.1;font-family: &quot;Courier New&quot;,Courier,monospace\">     ┌───┐     \n",
       "q_0: ┤ H ├──■──\n",
       "     └───┘┌─┴─┐\n",
       "q_1: ─────┤ X ├\n",
       "          └───┘</pre>"
      ],
      "text/plain": [
       "     ┌───┐     \n",
       "q_0: ┤ H ├──■──\n",
       "     └───┘┌─┴─┐\n",
       "q_1: ─────┤ X ├\n",
       "          └───┘"
      ]
     },
     "execution_count": 16,
     "metadata": {},
     "output_type": "execute_result"
    }
   ],
   "source": [
    "import qiskit\n",
    "from qiskit import *\n",
    "from qiskit.visualization import array_to_latex\n",
    "qc = QuantumCircuit(2)\n",
    "# Apply H-gate to the first:\n",
    "qc.h(0)\n",
    "# Apply a CNOT:\n",
    "qc.cx(0,1)\n",
    "qc.draw()"
   ]
  },
  {
   "cell_type": "code",
   "execution_count": 19,
   "metadata": {},
   "outputs": [
    {
     "name": "stderr",
     "output_type": "stream",
     "text": [
      "C:\\Users\\viraj.dsouza\\AppData\\Local\\Temp\\ipykernel_10888\\63884604.py:4: DeprecationWarning: Using a qobj for run() is deprecated as of qiskit-aer 0.9.0 and will be removed no sooner than 3 months from that release date. Transpiled circuits should now be passed directly using `backend.run(circuits, **run_options).\n",
      "  result = svsim.run(qobj).result()  #sending the qc and then retrieving the result\n"
     ]
    },
    {
     "data": {
      "text/latex": [
       "$$\n",
       "\\text{Statevector = }\n",
       "\\begin{bmatrix}\n",
       "\\frac{\\sqrt{2}}{2} & 0 & 0 & \\frac{\\sqrt{2}}{2}  \\\\\n",
       " \\end{bmatrix}\n",
       "$$"
      ],
      "text/plain": [
       "<IPython.core.display.Latex object>"
      ]
     },
     "execution_count": 19,
     "metadata": {},
     "output_type": "execute_result"
    }
   ],
   "source": [
    "svsim = Aer.get_backend('aer_simulator')  # 'aer_simulator' is a statevector simulator, that computes the final state vector of a quantum circuit\n",
    "## qc.save_statevector()  #saving state vector after execution of circuit\n",
    "qobj = assemble(qc)   # this object is used to send the qc to the simulator backend\n",
    "result = svsim.run(qobj).result()  #sending the qc and then retrieving the result\n",
    "#print(result)\n",
    "#Print the statevector neatly:\n",
    "final_state = result.get_statevector()   #extracting final state after simulation\n",
    "array_to_latex(final_state, prefix=\"\\\\text{Statevector = }\")"
   ]
  },
  {
   "cell_type": "markdown",
   "metadata": {},
   "source": [
    "This is exactly the expected state vector we wanted to construct. (<font color='red'>Check!! </font>)\n",
    "You can also use 'qasm_simulator' to plot histogarm of measurement results and then check whether your implementation is right (<font color='red'>homework!!</font>)"
   ]
  },
  {
   "cell_type": "markdown",
   "metadata": {},
   "source": [
    "<font color='red'> **Lab Exercise:** Construct quantum circuits that create the following state vectors: </font>\n",
    "\n",
    "- $\\ket{\\phi^-}= \\frac{\\ket{00} - \\ket{11}}{\\sqrt{2}}$\n",
    "- $\\ket{\\psi^+}= \\frac{\\ket{01} + \\ket{10}}{\\sqrt{2}}$\n",
    "- $\\ket{\\psi^-}= \\frac{\\ket{01} - \\ket{10}}{\\sqrt{2}}$"
   ]
  },
  {
   "cell_type": "markdown",
   "metadata": {},
   "source": [
    "Let us understand the $2$ qubit state $\\ket{\\phi^{+}}$. If we measure both qubits, we can observe either state $ \\ket{00} $ or state $ \\ket{11} $. \n",
    "\n",
    "- Say Alice has one qubit and Bob has the other. The $2$- qubit state $\\ket{\\phi^{+}}$ tells us that, if Alice measures her qubit and observed the state of her qubit to be $\\ket{0}$, Bob's state is instantenously known to Alice as $\\ket{1}$. So as far as the $2$ qubits are in the state $\\ket{\\phi^{+}}$, it doesn't matter how far are Alice and Bob away from each other. "
   ]
  },
  {
   "cell_type": "markdown",
   "metadata": {},
   "source": [
    "\n",
    "If two qubits are correlated in this way, then we say that they are <b>entangled</b>.\n",
    "\n",
    "#### **Note:**\n",
    "    \n",
    "- If the quantum state of two qubits can be written as $ \\ket{u} \\otimes \\ket{v} $, then two qubits are not correlated, where $ \\ket{u} $ and $ \\ket{v} $ are the quantum states of the first and second qubits.\n",
    "\n",
    "- On the other hand, if the quantum state of two qubits cannot be written as $ \\ket{u} \\otimes \\ket{v} $, then there is an entanglement between the qubits.\n",
    "</i>\n",
    "\n",
    "- *The states $\\ket{\\phi^{+}}$, $\\ket{\\phi^{-}}$, $\\ket{\\psi^{+}}$ and $\\ket{\\psi^{-}}$ are called <font color='red'>  Bell states or EPR states </font>, after some of the people- Bell and Einstein, Podolsky and Rosen- who first pointed out the strangeness of such states.*\n",
    "\n",
    "#### **The Bell states are four specific maximally entangled quantum states of two qubits.** Can you provide examples of 2- qubit states other than Bell states that are entangled ?"
   ]
  },
  {
   "cell_type": "markdown",
   "metadata": {},
   "source": [
    "#### <font color='red'> **Homework:** Check that the Bell states cannot be written as a tensor product of two one qubit states. </font>"
   ]
  },
  {
   "cell_type": "markdown",
   "metadata": {},
   "source": [
    "As we have seen, entanglement is a special connection between two particles, such that, no matter how far entangled particles are from one another, once you measure one particle, you instantaneously know the state of the second particle. \n",
    "\n",
    "**How is this possible? How does the second particle know whether the first particle is measured and what's its value?**"
   ]
  },
  {
   "cell_type": "markdown",
   "metadata": {},
   "source": [
    "* First possible explanation is that both particles are in <b>constant and immediate communication</b>. But in this case, communication between particles is faster than light. This is a problem, because it violates Einstein's theory of special relativity!  (Note: Speed of light is always a constant, as per special relativity)\n",
    "\n",
    "\n",
    "* Second explanation is that when entangled particles were produced, they were both embedded with <b>hidden variables</b>. Those hidden variables precisely govern the behaviour of those particles for their entire lives and thus also determine their states ($\\ket{0}$ or $\\ket{1}$) irrespective of measurement. And Quantum Mechanics did not account for such variables and hence is an incomplete theory!! "
   ]
  },
  {
   "cell_type": "markdown",
   "metadata": {},
   "source": [
    "Since first explanation violates theory of special relativity, Einstein, Podolsky and Rosen supported the second explanation. You can refer [this philosophical write up](https://plato.stanford.edu/entries/qt-epr/) for a detailed argument. "
   ]
  },
  {
   "cell_type": "markdown",
   "metadata": {},
   "source": [
    "#### It was <b>Bell's Inequalities</b> (which is purely common sensical and has nothing to do with quantum mechanics) that helped show that there can't be hidden variables. \n"
   ]
  },
  {
   "cell_type": "markdown",
   "metadata": {},
   "source": [
    "## Bell Inequality (or CHSH inequality):\n",
    "\n",
    "Consider the following experiment:\n",
    "\n",
    "- Charlie will create the $2$ qubit state $\\ket{\\phi^{+}}$ and sends one qubit to Alice, and second qubit to Bob.\n",
    "\n",
    "- Alice chooses between two detectors (randomly) $Z$ or $X$ and performs a measurement.\n",
    "\n",
    "- Bob chooses between two detectors (randomly) $W=\\frac{X+Z}{\\sqrt{2}}$ or $V=\\frac{-X+Z}{\\sqrt{2}}$ and performs a measurement.\n",
    "\n",
    "\n",
    "**For simplicity, let's say that that the measurements by all the $4$ detectors can each have one of two outcomes $+1$ or $−1$.**\n",
    "\n",
    "The timing of the experiment is arranged so that Alice and Bob do their measurements at the <font color= 'red'>same time </font>. (for causal disconnection, which ensures that Alice's measurement cannot disturb Bob's measurement (or vice-versa) since physical influences cannot propagate faster than the speed of light)\n",
    "\n",
    "\n",
    "**We are interested in the quantity:**\n",
    "\n",
    "$$S= ZW+XW-XV+ZV = (Z+X)W+(Z-X)V$$"
   ]
  },
  {
   "cell_type": "markdown",
   "metadata": {},
   "source": [
    "Because measurement outcomes can either be $+1$ or $-1$, $(Z+X)W=0$ and $(Z-X)V=\\pm 2$ or $(Z-X)V=0$ and $(Z+X)W=\\pm 2$.\n",
    "\n",
    "We can conclude that,\n",
    "$S=\\pm 2$"
   ]
  },
  {
   "cell_type": "markdown",
   "metadata": {},
   "source": [
    "If this experiment is done multiple times, the average value of $S$ always satisfies:\n",
    "\n",
    "$$ E(S) \\le 2 $$ \n",
    "\n",
    "This result is also known as CHSH inequality (named after the initials of its four discoverers- John Clauser, Michael Horne, Abner Shimony, and Richard Holt). Its a part of a larger set of inqualities, in general called Bell inqualities. "
   ]
  },
  {
   "cell_type": "markdown",
   "metadata": {},
   "source": [
    "\n",
    "\n",
    "Now, so far we have not used quantum mechanics. Let's calculate $E(S)$ for the two qubit state $\\ket{\\phi^{+}}$\n",
    "\n",
    "<font color='red'>**Homework:**</font> You have learnt how to evaluate expectation values for $2$ qubit operators in the class. Use this and derive the following for the state $\\ket{\\phi^{+}}$: \n",
    "- $E(ZW) = \\frac{1}{\\sqrt{2}}$\n",
    "- $E(XW) = \\frac{1}{\\sqrt{2}}$\n",
    "- $E(XV) = - \\frac{1}{\\sqrt{2}}$\n",
    "- $E(ZV) = \\frac{1}{\\sqrt{2}}$\n",
    "\n",
    "Once you have done this you can see that $E(S) =  2 \\sqrt{2}$ , which violates the CHSH inquality. \n"
   ]
  },
  {
   "cell_type": "markdown",
   "metadata": {},
   "source": [
    "To check if the result from quantum mechanics is correct or if the Bell's inequality (that comes from simple common sense) is correct, we turn to Nature to resolve this conflict.\n",
    "\n",
    "Clever experiments with photons (prepared in the entangled state $\\ket{\\phi^{+}}$) shows that quantum mechanical results ar correct. \n",
    "\n",
    "**Experiments and the theory of Quantum Mechanics, both show that Bell's inequality is not obeyed by Nature and thus Quantum Mechanics is a complete theory and there are no hidden variables. The recent 2022 Nobel Prize in Physics is related to an experimental verification of this. (we skip experimental details here)**\n"
   ]
  },
  {
   "cell_type": "markdown",
   "metadata": {},
   "source": [
    "#### <font color='blue'> What went wrong while deriving the CHSH inequality? </font> \n",
    "\n",
    "There are $2$ assumptions made in deriving CHSH inequality that are questionable (the below image is from Nielsen and Chuang, 2010):\n",
    "\n",
    "Replace $Q, R, S, T$ in the text by $Z, W, X, V$\n",
    "\n",
    "<img src=\"Images/bell.png\"  alt=\"Questionable Assumptions\" width=\"600\"/>"
   ]
  },
  {
   "cell_type": "markdown",
   "metadata": {},
   "source": [
    "### Let's find $E(S)$ using qiskit:"
   ]
  },
  {
   "cell_type": "markdown",
   "metadata": {},
   "source": [
    "#### Let's run four experiments, each 100 times and collect statistics.\n",
    "\n",
    "<b>1st experiment</b> - $⟨Z\\otimes W⟩$:\\\n",
    "Start with $\\ket{\\phi^+}$, where Alice will measure first qubit and Bob will measure second qubit.\\\n",
    "Alice measures in $Z$-basis, Bob measures in $W$-basis.\\\n",
    "To rotate the measurement basis to $W$-axis, use sequence of gates: $S-H-T-H$.\n",
    "\n",
    "<b>2nd experiment</b> - $⟨X\\otimes W⟩$:\\\n",
    "Start with $\\ket{\\phi^+}$, where Alice will measure first qubit and Bob will measure second qubit.\\\n",
    "Alice measures in $X$-basis, Bob measures in $W$-basis.\n",
    "\n",
    "<b>3rd experiment</b> - $⟨X\\otimes V⟩$:\\\n",
    "Alice measures in $X$-basis, Bob measures in $V$-basis.\\\n",
    "To rotate the measurement basis to $V$-axis, use sequence of gates: $S-H-T^\\dagger-H$.\n",
    "\n",
    "<b>4th experiment</b> - $⟨Z\\otimes V⟩$:\\\n",
    "Alice measures in $Z$-basis, Bob measures in $V$-basis.\n",
    "</div> "
   ]
  },
  {
   "cell_type": "code",
   "execution_count": 1,
   "metadata": {},
   "outputs": [
    {
     "name": "stderr",
     "output_type": "stream",
     "text": [
      "c:\\Users\\viraj.dsouza\\OneDrive - Plaksha University\\Main\\PlakshaQC\\qcvenv\\Lib\\site-packages\\qiskit\\visualization\\circuit\\matplotlib.py:266: FutureWarning: The default matplotlib drawer scheme will be changed to \"iqp\" in a following release. To silence this warning, specify the current default explicitly as style=\"clifford\", or the new default as style=\"iqp\".\n",
      "  self._style, def_font_ratio = load_style(self._style)\n"
     ]
    },
    {
     "name": "stdout",
     "output_type": "stream",
     "text": [
      "{'00': 38, '11': 49, '01': 10, '10': 3}\n"
     ]
    }
   ],
   "source": [
    "from qiskit import QuantumRegister, ClassicalRegister, QuantumCircuit, execute, Aer\n",
    "from random import randrange\n",
    "\n",
    "#1st experiment - ZW\n",
    "qreg = QuantumRegister(2)\n",
    "creg = ClassicalRegister(2) \n",
    "mycircuit1 = QuantumCircuit(qreg, creg)\n",
    "\n",
    "#Creating the bell state\n",
    "mycircuit1.h(qreg[0])\n",
    "mycircuit1.cx(qreg[0], qreg[1])\n",
    "\n",
    "#Alice measures 1st qubit qreg[0] in Z basis, thus do nothing\n",
    "\n",
    "#Bob measures 2nd qubit qreg[1] in W basis, thus applies S-H-T-H gates first\n",
    "mycircuit1.s(qreg[1])\n",
    "mycircuit1.h(qreg[1])\n",
    "mycircuit1.t(qreg[1])\n",
    "mycircuit1.h(qreg[1])\n",
    "\n",
    "# mycircuit1.draw(output='mpl')\n",
    "\n",
    "mycircuit1.measure(qreg,creg)\n",
    "\n",
    "job = execute(mycircuit1,Aer.get_backend('qasm_simulator'),shots=100)\n",
    "countsZW = job.result().get_counts(mycircuit1)\n",
    "print(countsZW) # counts is a dictionary\n"
   ]
  },
  {
   "cell_type": "code",
   "execution_count": null,
   "metadata": {},
   "outputs": [],
   "source": [
    "#2nd experiment - XW\n",
    "\n",
    "qreg = QuantumRegister(2)\n",
    "creg = ClassicalRegister(2) \n",
    "mycircuit2 = QuantumCircuit(qreg, creg)\n",
    "\n",
    "#Creating entanglement\n",
    "\n",
    "# Your code goes here (complete the code to create the entangled state)\n",
    "\n",
    "#Alice measures 1st qubit qreg[0] in X basis, so we apply a hadamard before measurement\n",
    "mycircuit2.h(qreg[0])\n",
    "\n",
    "#Bob measures 2nd qubit qreg[1] in W basis\n",
    "mycircuit2.s(qreg[1])\n",
    "mycircuit2.h(qreg[1])\n",
    "mycircuit2.t(qreg[1])\n",
    "mycircuit2.h(qreg[1])\n",
    "\n",
    "# mycircuit2.draw(output='mpl')\n",
    "\n",
    "mycircuit2.measure(qreg,creg)\n",
    "\n",
    "job = execute(mycircuit2,Aer.get_backend('qasm_simulator'),shots=100)\n",
    "countsXW = job.result().get_counts(mycircuit2)\n",
    "print(countsXW)"
   ]
  },
  {
   "cell_type": "code",
   "execution_count": null,
   "metadata": {},
   "outputs": [],
   "source": [
    "#3rd experiment - XV\n",
    "qreg = QuantumRegister(2)\n",
    "creg = ClassicalRegister(2) \n",
    "mycircuit3 = QuantumCircuit(qreg, creg)\n",
    "\n",
    "# Creating entanglement\n",
    "\n",
    "# Your code goes here (complete the code to create the entangled state)\n",
    "\n",
    "\n",
    "#Alice measure 1st qubit qreg[0] in X basis\n",
    "\n",
    "#Your code goes here\n",
    "\n",
    "#Bob measure 2nd qubit qreg[1] in V basis\n",
    "mycircuit3.s(qreg[1])\n",
    "mycircuit3.h(qreg[1])\n",
    "mycircuit3.tdg(qreg[1])\n",
    "mycircuit3.h(qreg[1])\n",
    "\n",
    "# mycircuit3.draw(output='mpl')\n",
    "\n",
    "mycircuit3.measure(qreg,creg)\n",
    "\n",
    "job = execute(mycircuit3,Aer.get_backend('qasm_simulator'),shots=100)\n",
    "countsXV = job.result().get_counts(mycircuit3)\n",
    "print(countsXV)"
   ]
  },
  {
   "cell_type": "code",
   "execution_count": null,
   "metadata": {},
   "outputs": [],
   "source": [
    "#4th experiment - ZV\n",
    "qreg = QuantumRegister(2)\n",
    "creg = ClassicalRegister(2) \n",
    "mycircuit4 = QuantumCircuit(qreg, creg)\n",
    "\n",
    "#Creating entanglement\n",
    "\n",
    "#Your code\n",
    "\n",
    "\n",
    "#Alice measure 1st qubit qreg[0] in Z basis\n",
    "\n",
    "#Your code\n",
    "\n",
    "#Bob measure 2nd qubit qreg[1] in V basis\n",
    "\n",
    "#Your code\n",
    "\n",
    "\n",
    "mycircuit4.draw(output='mpl')\n",
    "\n",
    "mycircuit4.measure(qreg,creg)\n",
    "\n",
    "job = execute(mycircuit4,Aer.get_backend('qasm_simulator'),shots=100)\n",
    "countsZV = job.result().get_counts(mycircuit4)\n",
    "print(countsZV) "
   ]
  },
  {
   "cell_type": "markdown",
   "metadata": {},
   "source": [
    "#### Calculate correlation value for each experiment using the formula:\n",
    "\n",
    "$⟨A\\otimes B⟩=P(1,1)+P(0,0)-P(1,0)-P(0,1)$\n",
    "\n",
    "where $P(1,1)$ and $P(0,0)$ are probabilities of correlated results.\\\n",
    "They can be calculated as number of rounds where Alice and Bob obtained identical bits after measurement ($11$ and $00$) divided by 100 (all rounds).\n",
    "\n",
    "$P(1,0)$ and $P(0,1)$ are probabilities of uncorrelated results.\\\n",
    "They can be calculated as number of rounds where Alice and Bob obtained different bits ($10$ and $01$) divided by 100 (all rounds)."
   ]
  },
  {
   "cell_type": "code",
   "execution_count": null,
   "metadata": {},
   "outputs": [],
   "source": [
    "ZW=(countsZW.get('00')+countsZW.get('11')-countsZW.get('01')-countsZW.get('10'))/100\n",
    "XW=(countsXW.get('00')+countsXW.get('11')-countsXW.get('01')-countsXW.get('10'))/100\n",
    "XV=(countsXV.get('00')+countsXV.get('11')-countsXV.get('01')-countsXV.get('10'))/100\n",
    "ZV=(countsZV.get('00')+countsZV.get('11')-countsZV.get('01')-countsZV.get('10'))/100\n",
    "\n",
    "print(ZW, XW, XV, ZV)"
   ]
  },
  {
   "cell_type": "markdown",
   "metadata": {},
   "source": [
    "#### Finally we calculate expectation of S. Note that this is a quantum mechanical result (and it violates CHSH inequality)"
   ]
  },
  {
   "cell_type": "code",
   "execution_count": null,
   "metadata": {},
   "outputs": [],
   "source": [
    "S= ZW+XW-XV+ZV\n",
    "\n",
    "print(\"CHSH inequality value is\", S)"
   ]
  },
  {
   "cell_type": "markdown",
   "metadata": {},
   "source": [
    "#### To conclude, "
   ]
  },
  {
   "cell_type": "markdown",
   "metadata": {},
   "source": [
    "- #### <font color='yellow'> The violation of CHSH inequality serve as an indicator of quantum entanglement! </font>\n",
    "\n",
    "- #### <font color='yellow'> The property of entanglement and the earlier studied property of linear superposition, shown by qubits have profound significance in quantum computing. These properties have no classical counterparts, they are solely a quantum phenomena.</font>"
   ]
  }
 ],
 "metadata": {
  "kernelspec": {
   "display_name": "qcvenv",
   "language": "python",
   "name": "qcvenv"
  },
  "language_info": {
   "codemirror_mode": {
    "name": "ipython",
    "version": 3
   },
   "file_extension": ".py",
   "mimetype": "text/x-python",
   "name": "python",
   "nbconvert_exporter": "python",
   "pygments_lexer": "ipython3",
   "version": "3.11.5"
  }
 },
 "nbformat": 4,
 "nbformat_minor": 2
}
