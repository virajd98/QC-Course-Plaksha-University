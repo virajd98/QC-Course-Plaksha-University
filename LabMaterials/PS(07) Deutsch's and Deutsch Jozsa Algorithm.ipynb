{
 "cells": [
  {
   "cell_type": "markdown",
   "metadata": {},
   "source": [
    "# Deutsch Algorithm"
   ]
  },
  {
   "cell_type": "markdown",
   "metadata": {},
   "source": [
    "Two main properties of quantum used in Deutsch's algorithm:\n",
    "\n",
    "- **Quantum Parallelism:** It allows quantum computers to evaluate a function $f(x)$ for many different values of $x$ ***simultaneously***.\n",
    "- **Interference:** It allows for qubit states to interfere constructively or destructively (just like waves)."
   ]
  },
  {
   "cell_type": "markdown",
   "metadata": {},
   "source": [
    "#### <font color='red'> **Problem Statement:** </font> Given a boolean-function $f:\\{0,1\\} \\rightarrow \\{0, 1\\}$ as an oracle, the goal is to decide whether $f$ is constant or balanced."
   ]
  },
  {
   "cell_type": "markdown",
   "metadata": {},
   "source": [
    "#### Explaining the terms involved:\n",
    "\n",
    "- **Oracle:** When we say a function is given as an *oracle*, it means that we can evaluate it for an input by making queries and we'll get the corresponding output, but we are not allowed to look at the function itself.\n",
    "- **Constant Function:** A function $f(x)$ is constant, if the output is the same (either $0$ or $1$) for all possible inputs $x$.\n",
    "- **Balanced Function:** A function $f(x)$ is balanced, if it evaluates to $1$ for exactly half of the possible inputs ($x$) and to $0$ for the other half.\n"
   ]
  },
  {
   "cell_type": "markdown",
   "metadata": {},
   "source": [
    "#### <font color='red'> **Exercise:** *Classical Complexity-* Clasically, how many oracle calls you need to make (in the worst case) to decide this problem? </font>"
   ]
  },
  {
   "cell_type": "markdown",
   "metadata": {},
   "source": [
    "#### **Algorithm:** \n",
    "\n",
    "We construct a 2 qubit quantum circuit.\n",
    "\n",
    "- Set the second qubit to state $\\ket{-}$ by applying $X$ and $H$ gates.\n",
    "\n",
    "- Apply $H$ to first qubit.\n",
    "\n",
    "- Apply $U_f$. (*the oracle*: required to be given to the algorithm)\n",
    "\n",
    "- Apply $H$ to first qubit.\n",
    "\n",
    "- Measure the first qubit. If it is 0 then $f$ is constant. If it is 1, then $f$ is balanced.\n"
   ]
  },
  {
   "cell_type": "markdown",
   "metadata": {},
   "source": [
    "![DeutschCircuit](Images/DeutschCircuit.png)"
   ]
  },
  {
   "cell_type": "markdown",
   "metadata": {},
   "source": [
    "### Theoretical Analysis of the circuit\n",
    "\n",
    "We start with the initial state $\\ket{0}\\ket{0}$. Next we apply an $X$ gate to the second qubit and obtain the state $\\ket{\\psi_0} = \\ket{0}\\ket{1}.$\n",
    "\n",
    "- After applying $H$ to both qubits, the first qubit is in the equal superposition state and the second qubit is now in state $\\ket{-}$. Therefore we have, \n",
    "\n",
    "\\begin{align*}\n",
    "\\ket{\\psi_1} &=\n",
    "&\\left(\\frac{1}{\\sqrt{2}}\\ket{0} +\\frac{1}{\\sqrt{2}}\\ket{1}\\right)\\ket{-} \\\\\n",
    "\\hspace{-2in}\\\\\n",
    "\\end{align*}\n",
    "\n",
    "\n",
    "- Next we apply $U_f$ to $\\ket{\\psi_1}$ and obtain $\\ket{\\psi_2}$\n",
    "\n",
    "\\begin{align*}\n",
    "\\\\\\ket{\\psi_2} &= U_f\\left(\\frac{1}{\\sqrt{2}}\\ket{0}+\\frac{1}{\\sqrt{2}}\\ket{1}\\right)\\ket{-} \\\\\n",
    "\\end{align*}"
   ]
  },
  {
   "cell_type": "markdown",
   "metadata": {},
   "source": [
    "<font color='red'> **Exercise: (Phase Kickback)**</font> Using the definition of $U_f$ we used in $PS(04)$, that is $U_f: \\ket{x}\\ket{y} \\mapsto \\ket{x}\\ket{y \\oplus f(x)}$ show that $\\ket{\\psi_2}$ simplifies to \n",
    "\n",
    "$$ \\ket{\\psi_2}= \\left(\\frac{1}{\\sqrt{2}}(-1)^{f(0)}\\ket{0}+\\frac{1}{\\sqrt{2}}(-1)^{f(1)}\\ket{1}\\right)\\ket{-} $$  \n",
    "\n",
    "\n"
   ]
  },
  {
   "cell_type": "markdown",
   "metadata": {},
   "source": [
    "- Next we apply Hadamard to the first qubit, we get the below state  (<font color='red'>Check!!</font>)\n",
    "\n",
    "$$ \\ket{\\psi_3} = \\left(\\frac{(-1)^{f(0)} + (-1)^{f(1)}}{2}\\right) \\ket{0} \\ket{-}+ \\left(\\frac{(-1)^{f(0)} - (-1)^{f(1)}}{2}\\right)\\ket{1} \\ket{-}$$\n",
    "\n"
   ]
  },
  {
   "cell_type": "markdown",
   "metadata": {},
   "source": [
    "- There are only two possibilities for the state $\\ket{\\psi_3}$ depending on whether $f$ is balanced or $f$ is constant. "
   ]
  },
  {
   "cell_type": "markdown",
   "metadata": {},
   "source": [
    "If $f$ is constant, then $f(0)=f(1)$ which implies (<font color='red'> Please work this out </font>) $$\\ket{\\psi_3}= \\pm \\ket{0} \\left(\\frac{\\ket{0}-\\ket{1}}{\\sqrt{2}}\\right)$$"
   ]
  },
  {
   "cell_type": "markdown",
   "metadata": {},
   "source": [
    "If $f$ is balanced, then $f(0)\\ne f(1)$ which implies (<font color='red'> Please work this out</font> ) $$\\ket{\\psi_3}= \\pm \\ket{1} \\left(\\frac{\\ket{0}-\\ket{1}}{\\sqrt{2}}\\right)$$"
   ]
  },
  {
   "cell_type": "markdown",
   "metadata": {},
   "source": [
    "Noticing that $f(0) \\oplus f(1)$ is $0$ if $f$ is constant and is $1$ if $f$ is balanced, both of the results can be concisely written as\n",
    "\n",
    "$$\\ket{\\psi_3}= \\pm \\ket{f(0) \\oplus f(1)} \\ket{-}$$\n",
    "\n"
   ]
  },
  {
   "cell_type": "markdown",
   "metadata": {},
   "source": [
    "- Meauring the first qubit we can determine $f(0) \\oplus f(1)$ and thus by only a single evaluation (with $100 \\% $ certainty) we would be able to decide the nature of $f$."
   ]
  },
  {
   "cell_type": "markdown",
   "metadata": {},
   "source": [
    "### Creating an oracle:\n",
    "\n",
    "There are four possible functions $f(x)$. Identity and NOT (Balanced), Constant $1$ and Constant $2$ (Constant)\n",
    "\n",
    "<font color='red'> **Exercise: Construct the `oracle()` function by completing the codes below which implements each of the above function.**</font>\n",
    "\n",
    "In other words, construct a circuit implementing $U_f: \\ket{x}\\ket{y} \\mapsto \\ket{x}\\ket{y \\oplus f(x)} $. Two oracles are implemented for you, you need to construct the other two.\n",
    "\n",
    "Note that qubit $0$ is the input and qubit $1$ is the output qubit.\n"
   ]
  },
  {
   "cell_type": "code",
   "execution_count": 5,
   "metadata": {},
   "outputs": [],
   "source": [
    "import qiskit\n",
    "from qiskit import *\n",
    "\n",
    "# Constant function oracles\n",
    "\n",
    "# f(0)=f(1)=1\n",
    "def Const_oracle1():\n",
    "    oracle_circuit = QuantumCircuit(2)\n",
    "    oracle_circuit.x(1)   # the output remains the same, that is 1, irrespective of input\n",
    "    return oracle_circuit\n",
    "\n",
    " # f(0)=f(1)= 0\n",
    "def Const_oracle2():\n",
    "    oracle_circuit = QuantumCircuit(2)\n",
    "    \n",
    "    return oracle_circuit\n",
    "\n",
    "# Balanced function oracles\n",
    "\n",
    "#Identity function, f(0)= 0; f(1)=1\n",
    "def Id_oracle(): \n",
    "    oracle_circuit = QuantumCircuit(2)\n",
    "    oracle_circuit.cx(0,1)\n",
    "    return oracle_circuit\n",
    "\n",
    "#Not function, f(0)=1 and f(1)=0\n",
    "def NOT_oracle():\n",
    "    oracle_circuit = QuantumCircuit(2)\n",
    "    oracle_circuit.x(1)\n",
    "    oracle_circuit.cx(0,1)\n",
    "    return oracle_circuit"
   ]
  },
  {
   "cell_type": "markdown",
   "metadata": {},
   "source": [
    "### Implementing Deutsch Algorithm:"
   ]
  },
  {
   "cell_type": "markdown",
   "metadata": {},
   "source": [
    "Any of the four oracles above can be given to you and you don't know which one. Deutsch Algorithm can be used to evaluate whether the oracle is balanced function or a constant function. "
   ]
  },
  {
   "cell_type": "code",
   "execution_count": 6,
   "metadata": {},
   "outputs": [
    {
     "name": "stdout",
     "output_type": "stream",
     "text": [
      "1\n"
     ]
    },
    {
     "ename": "NameError",
     "evalue": "name 'QuantumCircuit' is not defined",
     "output_type": "error",
     "traceback": [
      "\u001b[1;31m---------------------------------------------------------------------------\u001b[0m",
      "\u001b[1;31mNameError\u001b[0m                                 Traceback (most recent call last)",
      "Cell \u001b[1;32mIn[6], line 13\u001b[0m\n\u001b[0;32m     11\u001b[0m \u001b[38;5;66;03m# Call the selected oracle\u001b[39;00m\n\u001b[0;32m     12\u001b[0m selected_oracle \u001b[38;5;241m=\u001b[39m oracle_list[random_index]\n\u001b[1;32m---> 13\u001b[0m \u001b[43mselected_oracle\u001b[49m\u001b[43m(\u001b[49m\u001b[43m)\u001b[49m\n",
      "Cell \u001b[1;32mIn[5], line 14\u001b[0m, in \u001b[0;36mConst_oracle2\u001b[1;34m()\u001b[0m\n\u001b[0;32m     13\u001b[0m \u001b[38;5;28;01mdef\u001b[39;00m \u001b[38;5;21mConst_oracle2\u001b[39m():\n\u001b[1;32m---> 14\u001b[0m     oracle_circuit \u001b[38;5;241m=\u001b[39m \u001b[43mQuantumCircuit\u001b[49m(\u001b[38;5;241m2\u001b[39m)\n\u001b[0;32m     16\u001b[0m     \u001b[38;5;28;01mreturn\u001b[39;00m oracle_circuit\n",
      "\u001b[1;31mNameError\u001b[0m: name 'QuantumCircuit' is not defined"
     ]
    }
   ],
   "source": [
    "#Chosing a random oracle\n",
    "import random\n",
    "# Create the list of oracles\n",
    "oracle_list = [Const_oracle1, Const_oracle2, Id_oracle, NOT_oracle]\n",
    "\n",
    "# Randomly select an index using randrange(4)\n",
    "random_index = random.randrange(4)\n",
    "\n",
    "print(random_index)\n",
    "\n",
    "# Call the selected oracle\n",
    "selected_oracle = oracle_list[random_index]\n",
    "selected_oracle()"
   ]
  },
  {
   "cell_type": "markdown",
   "metadata": {},
   "source": [
    "You can use circuit += oracle() to add the oracle to the whole circuit. In general, you can define functions returning circuits and append them to your circuit by +=."
   ]
  },
  {
   "cell_type": "code",
   "execution_count": 3,
   "metadata": {},
   "outputs": [
    {
     "name": "stderr",
     "output_type": "stream",
     "text": [
      "C:\\Users\\viraj.dsouza\\AppData\\Roaming\\Python\\Python311\\site-packages\\qiskit\\visualization\\circuit\\matplotlib.py:266: FutureWarning: The default matplotlib drawer scheme will be changed to \"iqp\" in a following release. To silence this warning, specify the current default explicitly as style=\"clifford\", or the new default as style=\"iqp\".\n",
      "  self._style, def_font_ratio = load_style(self._style)\n"
     ]
    },
    {
     "data": {
      "image/png": "[encoded data removed]",
      "text/plain": [
       "<Figure size 705.35x284.278 with 1 Axes>"
      ]
     },
     "execution_count": 3,
     "metadata": {},
     "output_type": "execute_result"
    }
   ],
   "source": [
    "# Implementing the Algorithm given the selected_oracle()\n",
    "\n",
    "from qiskit import QuantumCircuit, execute, Aer\n",
    "\n",
    "DeutschCircuit= QuantumCircuit(2,1)\n",
    "\n",
    "# Apply X and H to qubit 1\n",
    "DeutschCircuit.x(1)\n",
    "DeutschCircuit.h(1)\n",
    "\n",
    "# Apply H to qubit 0\n",
    "DeutschCircuit.h(0)\n",
    "\n",
    "DeutschCircuit.barrier()\n",
    "\n",
    "# Apply oracle \n",
    "DeutschCircuit.compose(selected_oracle(), inplace=True)\n",
    "\n",
    "DeutschCircuit.barrier()\n",
    "\n",
    "# Apply H to qubit 0\n",
    "DeutschCircuit.h(0)\n",
    "\n",
    "# Measure qubit 0\n",
    "DeutschCircuit.measure(0, 0)\n",
    "\n",
    "DeutschCircuit.draw(output='mpl')"
   ]
  },
  {
   "cell_type": "code",
   "execution_count": 4,
   "metadata": {},
   "outputs": [
    {
     "name": "stdout",
     "output_type": "stream",
     "text": [
      "{'0': 10000}\n"
     ]
    }
   ],
   "source": [
    "job = execute(DeutschCircuit, Aer.get_backend('qasm_simulator'),shots=10000)\n",
    "counts = job.result().get_counts()\n",
    "print(counts)"
   ]
  },
  {
   "cell_type": "markdown",
   "metadata": {},
   "source": [
    "If the measurement result is $1$ $f$ is balanced, else $f$ is constant. Thus, Deutsch's algorithm proves that you can solve the problem by making only $1$ query, without making any errors. This is one of the first results where we gain advantage using quantum computing but yet it is not a great enough speedup. Next, we will see some algorithms where the speedup is much better."
   ]
  },
  {
   "cell_type": "markdown",
   "metadata": {},
   "source": [
    "# Deutsch-Jozsa Algorithm"
   ]
  },
  {
   "cell_type": "markdown",
   "metadata": {},
   "source": [
    "##### We generalize our function $f:\\{0,1\\}^n \\rightarrow \\{0,1\\}$, which means that our function $f$ takes as input an $n$-bit string $x$ and maps it to $0$ or $1$. In this case, we say that $f$ is constant if it maps every string of length $n$ to either 0 or 1, and it is balanced if it maps exactly half of the bit strings to $0$ and the other half to $1$."
   ]
  },
  {
   "cell_type": "markdown",
   "metadata": {},
   "source": [
    "#### <font color='red'> **Problem Statement:** </font> Given a boolean-function $f:\\{0,1\\}^n \\rightarrow \\{0, 1\\}$ as an oracle, the goal is to decide whether $f$ is constant or balanced.\n",
    "\n",
    "#### <font color='red'> **Exercise:** *Classical Complexity-* Clasically, how many oracle calls you need to make (in the worst case) to decide this problem? </font>"
   ]
  },
  {
   "cell_type": "markdown",
   "metadata": {},
   "source": [
    "#### Note: \n",
    "- The input size being $n$ instead of $1$, does not make any change while implementing  $U_f: \\ket{x}\\ket{y} \\mapsto \\ket{x}\\ket{y \\oplus f(x)} $. When the input is $n$ bits, $\\ket{x} = \\ket{ x_1x_2x_3...x_n}$ is a quantum state with $n$ qubits and $y$ is the single output qubit since the range of $f$ is $\\{0,1\\}$.\n",
    "\n",
    "- Also, the phase kickback idea still applies:    $ \\ket{x}\\ket{-} \\xrightarrow{U_f} (-1)^{f(x)} \\ket{x}\\ket{-} $\n",
    "- The notation $\\ket{x}$ can be used for $x \\in \\mathbb{N}$, as the binary representation of the number. For example $\\ket{42}$ is $\\ket{101010}$ in a $6$ qubit register or $\\ket{0000101010}$ in a $10$ qubit register. While writing $\\ket{x}$ the length of the register is often left implicit."
   ]
  },
  {
   "cell_type": "markdown",
   "metadata": {},
   "source": [
    "### Useful Results to know:\n",
    "\n",
    "- Let $x \\in \\{0,1\\}$. The following expression can be shown to be true:\n",
    "\n",
    "$$ H\\ket{x} = \\frac{1}{\\sqrt{2}} \\left( \\ket{0} + (-1)^{x} \\ket{1} \\right) = \\frac{1}{\\sqrt{2}}\\sum_{z\\in\\{0,1\\}}(-1)^{xz}\\ket{z} $$\n",
    "\n",
    "When $x=0$, then we have a plus and when $x=1$, we have a minus sign in front of $\\ket{1}$ in the uniform superposition as expected from the   action of Hadamard on $\\ket{0}$ and $\\ket{1}$."
   ]
  },
  {
   "cell_type": "markdown",
   "metadata": {},
   "source": [
    "- For an arbitrary $n-$ qubit state $\\ket{x}$, the following expression holds:\n",
    "\n",
    "$$  H^{\\otimes n} \\ket{x} = \\left(\\frac{1}{\\sqrt{2}}\\sum_{z_1\\in\\{0,1\\}}(-1)^{x_1z_1}\\ket{z_1}\\right) \\otimes \\left(\\frac{1}{\\sqrt{2}}\\sum_{z_2\\in\\{0,1\\}}(-1)^{x_2z_2}\\ket{z_2} \\right) \\otimes \\cdots \\otimes \\left(\\frac{1}{\\sqrt{2}}\\sum_{z_n\\in\\{0,1\\}}(-1)^{x_nz_n}\\ket{z_n}\\right) $$\n",
    "\n",
    "which implies, \n",
    "\n",
    "$$ H^{\\otimes n} \\ket{x} =\\frac{1}{\\sqrt{2^n}} \\sum_{z=0}^{2^n-1}(-1)^{x \\cdot z}\\ket{z}$$\n",
    "\n",
    "\n",
    "where $\\ket{x}=\\ket{x_1\\cdots x_n}$, $\\ket{z}=\\ket{z_1\\cdots z_n}$ and $ x \\cdot z = \\sum_{i=1}^n x_i \\cdot z_i \\pmod 2 $"
   ]
  },
  {
   "cell_type": "markdown",
   "metadata": {},
   "source": [
    "<font color='red'> **Exercise:** </font> Calculate $H^{\\otimes 5} \\ket{31}$. Then simulate this using a quantum circuit with a $5$ qubit quantum register and observe the measurement results."
   ]
  },
  {
   "cell_type": "markdown",
   "metadata": {},
   "source": []
  }
 ],
 "metadata": {
  "kernelspec": {
   "display_name": "qcvenv",
   "language": "python",
   "name": "qcvenv"
  },
  "language_info": {
   "codemirror_mode": {
    "name": "ipython",
    "version": 3
   },
   "file_extension": ".py",
   "mimetype": "text/x-python",
   "name": "python",
   "nbconvert_exporter": "python",
   "pygments_lexer": "ipython3",
   "version": "3.11.5"
  }
 },
 "nbformat": 4,
 "nbformat_minor": 2
}
